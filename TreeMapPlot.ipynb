{
 "cells": [
  {
   "cell_type": "code",
   "execution_count": 1,
   "metadata": {},
   "outputs": [],
   "source": [
    "import pygal\n",
    "import pandas as pd"
   ]
  },
  {
   "cell_type": "code",
   "execution_count": 3,
   "metadata": {},
   "outputs": [],
   "source": [
    "coffee_df = pd.read_csv('datasets/FAOSTAT_data_5-10-2020.csv')"
   ]
  },
  {
   "cell_type": "code",
   "execution_count": 4,
   "metadata": {},
   "outputs": [
    {
     "data": {
      "text/html": [
       "<div>\n",
       "<style scoped>\n",
       "    .dataframe tbody tr th:only-of-type {\n",
       "        vertical-align: middle;\n",
       "    }\n",
       "\n",
       "    .dataframe tbody tr th {\n",
       "        vertical-align: top;\n",
       "    }\n",
       "\n",
       "    .dataframe thead th {\n",
       "        text-align: right;\n",
       "    }\n",
       "</style>\n",
       "<table border=\"1\" class=\"dataframe\">\n",
       "  <thead>\n",
       "    <tr style=\"text-align: right;\">\n",
       "      <th></th>\n",
       "      <th>Domain Code</th>\n",
       "      <th>Domain</th>\n",
       "      <th>Area Code</th>\n",
       "      <th>Area</th>\n",
       "      <th>Element Code</th>\n",
       "      <th>Element</th>\n",
       "      <th>Item Code</th>\n",
       "      <th>Item</th>\n",
       "      <th>Year Code</th>\n",
       "      <th>Year</th>\n",
       "      <th>Unit</th>\n",
       "      <th>Value</th>\n",
       "      <th>Flag</th>\n",
       "      <th>Flag Description</th>\n",
       "    </tr>\n",
       "  </thead>\n",
       "  <tbody>\n",
       "    <tr>\n",
       "      <th>0</th>\n",
       "      <td>QC</td>\n",
       "      <td>Crops</td>\n",
       "      <td>7</td>\n",
       "      <td>Angola</td>\n",
       "      <td>5312</td>\n",
       "      <td>Area harvested</td>\n",
       "      <td>656</td>\n",
       "      <td>Coffee, green</td>\n",
       "      <td>2018</td>\n",
       "      <td>2018</td>\n",
       "      <td>ha</td>\n",
       "      <td>52938.0</td>\n",
       "      <td>Im</td>\n",
       "      <td>FAO data based on imputation methodology</td>\n",
       "    </tr>\n",
       "    <tr>\n",
       "      <th>1</th>\n",
       "      <td>QC</td>\n",
       "      <td>Crops</td>\n",
       "      <td>7</td>\n",
       "      <td>Angola</td>\n",
       "      <td>5419</td>\n",
       "      <td>Yield</td>\n",
       "      <td>656</td>\n",
       "      <td>Coffee, green</td>\n",
       "      <td>2018</td>\n",
       "      <td>2018</td>\n",
       "      <td>hg/ha</td>\n",
       "      <td>3037.0</td>\n",
       "      <td>Fc</td>\n",
       "      <td>Calculated data</td>\n",
       "    </tr>\n",
       "    <tr>\n",
       "      <th>2</th>\n",
       "      <td>QC</td>\n",
       "      <td>Crops</td>\n",
       "      <td>7</td>\n",
       "      <td>Angola</td>\n",
       "      <td>5510</td>\n",
       "      <td>Production</td>\n",
       "      <td>656</td>\n",
       "      <td>Coffee, green</td>\n",
       "      <td>2018</td>\n",
       "      <td>2018</td>\n",
       "      <td>tonnes</td>\n",
       "      <td>16079.0</td>\n",
       "      <td>Im</td>\n",
       "      <td>FAO data based on imputation methodology</td>\n",
       "    </tr>\n",
       "    <tr>\n",
       "      <th>3</th>\n",
       "      <td>QC</td>\n",
       "      <td>Crops</td>\n",
       "      <td>23</td>\n",
       "      <td>Belize</td>\n",
       "      <td>5312</td>\n",
       "      <td>Area harvested</td>\n",
       "      <td>656</td>\n",
       "      <td>Coffee, green</td>\n",
       "      <td>2018</td>\n",
       "      <td>2018</td>\n",
       "      <td>ha</td>\n",
       "      <td>71.0</td>\n",
       "      <td>Im</td>\n",
       "      <td>FAO data based on imputation methodology</td>\n",
       "    </tr>\n",
       "    <tr>\n",
       "      <th>4</th>\n",
       "      <td>QC</td>\n",
       "      <td>Crops</td>\n",
       "      <td>23</td>\n",
       "      <td>Belize</td>\n",
       "      <td>5419</td>\n",
       "      <td>Yield</td>\n",
       "      <td>656</td>\n",
       "      <td>Coffee, green</td>\n",
       "      <td>2018</td>\n",
       "      <td>2018</td>\n",
       "      <td>hg/ha</td>\n",
       "      <td>12716.0</td>\n",
       "      <td>Fc</td>\n",
       "      <td>Calculated data</td>\n",
       "    </tr>\n",
       "  </tbody>\n",
       "</table>\n",
       "</div>"
      ],
      "text/plain": [
       "  Domain Code Domain  Area Code    Area  Element Code         Element  \\\n",
       "0          QC  Crops          7  Angola          5312  Area harvested   \n",
       "1          QC  Crops          7  Angola          5419           Yield   \n",
       "2          QC  Crops          7  Angola          5510      Production   \n",
       "3          QC  Crops         23  Belize          5312  Area harvested   \n",
       "4          QC  Crops         23  Belize          5419           Yield   \n",
       "\n",
       "   Item Code           Item  Year Code  Year    Unit    Value Flag  \\\n",
       "0        656  Coffee, green       2018  2018      ha  52938.0   Im   \n",
       "1        656  Coffee, green       2018  2018   hg/ha   3037.0   Fc   \n",
       "2        656  Coffee, green       2018  2018  tonnes  16079.0   Im   \n",
       "3        656  Coffee, green       2018  2018      ha     71.0   Im   \n",
       "4        656  Coffee, green       2018  2018   hg/ha  12716.0   Fc   \n",
       "\n",
       "                           Flag Description  \n",
       "0  FAO data based on imputation methodology  \n",
       "1                           Calculated data  \n",
       "2  FAO data based on imputation methodology  \n",
       "3  FAO data based on imputation methodology  \n",
       "4                           Calculated data  "
      ]
     },
     "execution_count": 4,
     "metadata": {},
     "output_type": "execute_result"
    }
   ],
   "source": [
    "coffee_df.head()"
   ]
  },
  {
   "cell_type": "code",
   "execution_count": 5,
   "metadata": {},
   "outputs": [
    {
     "data": {
      "text/plain": [
       "(250, 14)"
      ]
     },
     "execution_count": 5,
     "metadata": {},
     "output_type": "execute_result"
    }
   ],
   "source": [
    "coffee_df.shape"
   ]
  },
  {
   "cell_type": "code",
   "execution_count": 7,
   "metadata": {},
   "outputs": [],
   "source": [
    "coffee_df = coffee_df[['Area','Item', 'Value']]"
   ]
  },
  {
   "cell_type": "code",
   "execution_count": 8,
   "metadata": {},
   "outputs": [],
   "source": [
    "coffee_df.columns = ['Country', 'Item', 'Value']"
   ]
  },
  {
   "cell_type": "code",
   "execution_count": 9,
   "metadata": {},
   "outputs": [
    {
     "data": {
      "text/html": [
       "<div>\n",
       "<style scoped>\n",
       "    .dataframe tbody tr th:only-of-type {\n",
       "        vertical-align: middle;\n",
       "    }\n",
       "\n",
       "    .dataframe tbody tr th {\n",
       "        vertical-align: top;\n",
       "    }\n",
       "\n",
       "    .dataframe thead th {\n",
       "        text-align: right;\n",
       "    }\n",
       "</style>\n",
       "<table border=\"1\" class=\"dataframe\">\n",
       "  <thead>\n",
       "    <tr style=\"text-align: right;\">\n",
       "      <th></th>\n",
       "      <th>Country</th>\n",
       "      <th>Item</th>\n",
       "      <th>Value</th>\n",
       "    </tr>\n",
       "  </thead>\n",
       "  <tbody>\n",
       "    <tr>\n",
       "      <th>0</th>\n",
       "      <td>Angola</td>\n",
       "      <td>Coffee, green</td>\n",
       "      <td>52938.0</td>\n",
       "    </tr>\n",
       "    <tr>\n",
       "      <th>1</th>\n",
       "      <td>Angola</td>\n",
       "      <td>Coffee, green</td>\n",
       "      <td>3037.0</td>\n",
       "    </tr>\n",
       "    <tr>\n",
       "      <th>2</th>\n",
       "      <td>Angola</td>\n",
       "      <td>Coffee, green</td>\n",
       "      <td>16079.0</td>\n",
       "    </tr>\n",
       "    <tr>\n",
       "      <th>3</th>\n",
       "      <td>Belize</td>\n",
       "      <td>Coffee, green</td>\n",
       "      <td>71.0</td>\n",
       "    </tr>\n",
       "    <tr>\n",
       "      <th>4</th>\n",
       "      <td>Belize</td>\n",
       "      <td>Coffee, green</td>\n",
       "      <td>12716.0</td>\n",
       "    </tr>\n",
       "  </tbody>\n",
       "</table>\n",
       "</div>"
      ],
      "text/plain": [
       "  Country           Item    Value\n",
       "0  Angola  Coffee, green  52938.0\n",
       "1  Angola  Coffee, green   3037.0\n",
       "2  Angola  Coffee, green  16079.0\n",
       "3  Belize  Coffee, green     71.0\n",
       "4  Belize  Coffee, green  12716.0"
      ]
     },
     "execution_count": 9,
     "metadata": {},
     "output_type": "execute_result"
    }
   ],
   "source": [
    "coffee_df.head()"
   ]
  },
  {
   "cell_type": "code",
   "execution_count": 10,
   "metadata": {},
   "outputs": [],
   "source": [
    "coffee_df= coffee_df.dropna()"
   ]
  },
  {
   "cell_type": "code",
   "execution_count": null,
   "metadata": {},
   "outputs": [],
   "source": []
  },
  {
   "cell_type": "code",
   "execution_count": null,
   "metadata": {},
   "outputs": [],
   "source": []
  },
  {
   "cell_type": "code",
   "execution_count": null,
   "metadata": {},
   "outputs": [],
   "source": []
  },
  {
   "cell_type": "code",
   "execution_count": null,
   "metadata": {},
   "outputs": [],
   "source": []
  },
  {
   "cell_type": "code",
   "execution_count": null,
   "metadata": {},
   "outputs": [],
   "source": []
  }
 ],
 "metadata": {
  "kernelspec": {
   "display_name": "Python 3",
   "language": "python",
   "name": "python3"
  },
  "language_info": {
   "codemirror_mode": {
    "name": "ipython",
    "version": 3
   },
   "file_extension": ".py",
   "mimetype": "text/x-python",
   "name": "python",
   "nbconvert_exporter": "python",
   "pygments_lexer": "ipython3",
   "version": "3.7.7"
  }
 },
 "nbformat": 4,
 "nbformat_minor": 4
}
