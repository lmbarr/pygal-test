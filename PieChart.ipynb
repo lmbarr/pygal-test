{
 "cells": [
  {
   "cell_type": "code",
   "execution_count": 1,
   "metadata": {},
   "outputs": [],
   "source": [
    "import pygal\n",
    "import pandas as pd"
   ]
  },
  {
   "cell_type": "code",
   "execution_count": 2,
   "metadata": {},
   "outputs": [],
   "source": [
    "wine_dataframe = pd.read_csv('datasets/winequality-red.csv', \n",
    "                             sep=';')"
   ]
  },
  {
   "cell_type": "code",
   "execution_count": 3,
   "metadata": {},
   "outputs": [
    {
     "data": {
      "text/html": [
       "<div>\n",
       "<style scoped>\n",
       "    .dataframe tbody tr th:only-of-type {\n",
       "        vertical-align: middle;\n",
       "    }\n",
       "\n",
       "    .dataframe tbody tr th {\n",
       "        vertical-align: top;\n",
       "    }\n",
       "\n",
       "    .dataframe thead th {\n",
       "        text-align: right;\n",
       "    }\n",
       "</style>\n",
       "<table border=\"1\" class=\"dataframe\">\n",
       "  <thead>\n",
       "    <tr style=\"text-align: right;\">\n",
       "      <th></th>\n",
       "      <th>fixed acidity</th>\n",
       "      <th>volatile acidity</th>\n",
       "      <th>citric acid</th>\n",
       "      <th>residual sugar</th>\n",
       "      <th>chlorides</th>\n",
       "      <th>free sulfur dioxide</th>\n",
       "      <th>total sulfur dioxide</th>\n",
       "      <th>density</th>\n",
       "      <th>pH</th>\n",
       "      <th>sulphates</th>\n",
       "      <th>alcohol</th>\n",
       "      <th>quality</th>\n",
       "    </tr>\n",
       "  </thead>\n",
       "  <tbody>\n",
       "    <tr>\n",
       "      <th>0</th>\n",
       "      <td>7.4</td>\n",
       "      <td>0.70</td>\n",
       "      <td>0.00</td>\n",
       "      <td>1.9</td>\n",
       "      <td>0.076</td>\n",
       "      <td>11.0</td>\n",
       "      <td>34.0</td>\n",
       "      <td>0.9978</td>\n",
       "      <td>3.51</td>\n",
       "      <td>0.56</td>\n",
       "      <td>9.4</td>\n",
       "      <td>5</td>\n",
       "    </tr>\n",
       "    <tr>\n",
       "      <th>1</th>\n",
       "      <td>7.8</td>\n",
       "      <td>0.88</td>\n",
       "      <td>0.00</td>\n",
       "      <td>2.6</td>\n",
       "      <td>0.098</td>\n",
       "      <td>25.0</td>\n",
       "      <td>67.0</td>\n",
       "      <td>0.9968</td>\n",
       "      <td>3.20</td>\n",
       "      <td>0.68</td>\n",
       "      <td>9.8</td>\n",
       "      <td>5</td>\n",
       "    </tr>\n",
       "    <tr>\n",
       "      <th>2</th>\n",
       "      <td>7.8</td>\n",
       "      <td>0.76</td>\n",
       "      <td>0.04</td>\n",
       "      <td>2.3</td>\n",
       "      <td>0.092</td>\n",
       "      <td>15.0</td>\n",
       "      <td>54.0</td>\n",
       "      <td>0.9970</td>\n",
       "      <td>3.26</td>\n",
       "      <td>0.65</td>\n",
       "      <td>9.8</td>\n",
       "      <td>5</td>\n",
       "    </tr>\n",
       "    <tr>\n",
       "      <th>3</th>\n",
       "      <td>11.2</td>\n",
       "      <td>0.28</td>\n",
       "      <td>0.56</td>\n",
       "      <td>1.9</td>\n",
       "      <td>0.075</td>\n",
       "      <td>17.0</td>\n",
       "      <td>60.0</td>\n",
       "      <td>0.9980</td>\n",
       "      <td>3.16</td>\n",
       "      <td>0.58</td>\n",
       "      <td>9.8</td>\n",
       "      <td>6</td>\n",
       "    </tr>\n",
       "    <tr>\n",
       "      <th>4</th>\n",
       "      <td>7.4</td>\n",
       "      <td>0.70</td>\n",
       "      <td>0.00</td>\n",
       "      <td>1.9</td>\n",
       "      <td>0.076</td>\n",
       "      <td>11.0</td>\n",
       "      <td>34.0</td>\n",
       "      <td>0.9978</td>\n",
       "      <td>3.51</td>\n",
       "      <td>0.56</td>\n",
       "      <td>9.4</td>\n",
       "      <td>5</td>\n",
       "    </tr>\n",
       "  </tbody>\n",
       "</table>\n",
       "</div>"
      ],
      "text/plain": [
       "   fixed acidity  volatile acidity  citric acid  residual sugar  chlorides  \\\n",
       "0            7.4              0.70         0.00             1.9      0.076   \n",
       "1            7.8              0.88         0.00             2.6      0.098   \n",
       "2            7.8              0.76         0.04             2.3      0.092   \n",
       "3           11.2              0.28         0.56             1.9      0.075   \n",
       "4            7.4              0.70         0.00             1.9      0.076   \n",
       "\n",
       "   free sulfur dioxide  total sulfur dioxide  density    pH  sulphates  \\\n",
       "0                 11.0                  34.0   0.9978  3.51       0.56   \n",
       "1                 25.0                  67.0   0.9968  3.20       0.68   \n",
       "2                 15.0                  54.0   0.9970  3.26       0.65   \n",
       "3                 17.0                  60.0   0.9980  3.16       0.58   \n",
       "4                 11.0                  34.0   0.9978  3.51       0.56   \n",
       "\n",
       "   alcohol  quality  \n",
       "0      9.4        5  \n",
       "1      9.8        5  \n",
       "2      9.8        5  \n",
       "3      9.8        6  \n",
       "4      9.4        5  "
      ]
     },
     "execution_count": 3,
     "metadata": {},
     "output_type": "execute_result"
    }
   ],
   "source": [
    "wine_dataframe.head()"
   ]
  },
  {
   "cell_type": "code",
   "execution_count": 4,
   "metadata": {},
   "outputs": [
    {
     "data": {
      "text/html": [
       "<div>\n",
       "<style scoped>\n",
       "    .dataframe tbody tr th:only-of-type {\n",
       "        vertical-align: middle;\n",
       "    }\n",
       "\n",
       "    .dataframe tbody tr th {\n",
       "        vertical-align: top;\n",
       "    }\n",
       "\n",
       "    .dataframe thead th {\n",
       "        text-align: right;\n",
       "    }\n",
       "</style>\n",
       "<table border=\"1\" class=\"dataframe\">\n",
       "  <thead>\n",
       "    <tr style=\"text-align: right;\">\n",
       "      <th></th>\n",
       "      <th>fixed acidity</th>\n",
       "      <th>volatile acidity</th>\n",
       "      <th>citric acid</th>\n",
       "      <th>residual sugar</th>\n",
       "      <th>chlorides</th>\n",
       "      <th>free sulfur dioxide</th>\n",
       "      <th>total sulfur dioxide</th>\n",
       "      <th>density</th>\n",
       "      <th>pH</th>\n",
       "      <th>sulphates</th>\n",
       "      <th>alcohol</th>\n",
       "      <th>quality</th>\n",
       "    </tr>\n",
       "  </thead>\n",
       "  <tbody>\n",
       "    <tr>\n",
       "      <th>count</th>\n",
       "      <td>1599.000000</td>\n",
       "      <td>1599.000000</td>\n",
       "      <td>1599.000000</td>\n",
       "      <td>1599.000000</td>\n",
       "      <td>1599.000000</td>\n",
       "      <td>1599.000000</td>\n",
       "      <td>1599.000000</td>\n",
       "      <td>1599.000000</td>\n",
       "      <td>1599.000000</td>\n",
       "      <td>1599.000000</td>\n",
       "      <td>1599.000000</td>\n",
       "      <td>1599.000000</td>\n",
       "    </tr>\n",
       "    <tr>\n",
       "      <th>mean</th>\n",
       "      <td>8.319637</td>\n",
       "      <td>0.527821</td>\n",
       "      <td>0.270976</td>\n",
       "      <td>2.538806</td>\n",
       "      <td>0.087467</td>\n",
       "      <td>15.874922</td>\n",
       "      <td>46.467792</td>\n",
       "      <td>0.996747</td>\n",
       "      <td>3.311113</td>\n",
       "      <td>0.658149</td>\n",
       "      <td>10.422983</td>\n",
       "      <td>5.636023</td>\n",
       "    </tr>\n",
       "    <tr>\n",
       "      <th>std</th>\n",
       "      <td>1.741096</td>\n",
       "      <td>0.179060</td>\n",
       "      <td>0.194801</td>\n",
       "      <td>1.409928</td>\n",
       "      <td>0.047065</td>\n",
       "      <td>10.460157</td>\n",
       "      <td>32.895324</td>\n",
       "      <td>0.001887</td>\n",
       "      <td>0.154386</td>\n",
       "      <td>0.169507</td>\n",
       "      <td>1.065668</td>\n",
       "      <td>0.807569</td>\n",
       "    </tr>\n",
       "    <tr>\n",
       "      <th>min</th>\n",
       "      <td>4.600000</td>\n",
       "      <td>0.120000</td>\n",
       "      <td>0.000000</td>\n",
       "      <td>0.900000</td>\n",
       "      <td>0.012000</td>\n",
       "      <td>1.000000</td>\n",
       "      <td>6.000000</td>\n",
       "      <td>0.990070</td>\n",
       "      <td>2.740000</td>\n",
       "      <td>0.330000</td>\n",
       "      <td>8.400000</td>\n",
       "      <td>3.000000</td>\n",
       "    </tr>\n",
       "    <tr>\n",
       "      <th>25%</th>\n",
       "      <td>7.100000</td>\n",
       "      <td>0.390000</td>\n",
       "      <td>0.090000</td>\n",
       "      <td>1.900000</td>\n",
       "      <td>0.070000</td>\n",
       "      <td>7.000000</td>\n",
       "      <td>22.000000</td>\n",
       "      <td>0.995600</td>\n",
       "      <td>3.210000</td>\n",
       "      <td>0.550000</td>\n",
       "      <td>9.500000</td>\n",
       "      <td>5.000000</td>\n",
       "    </tr>\n",
       "    <tr>\n",
       "      <th>50%</th>\n",
       "      <td>7.900000</td>\n",
       "      <td>0.520000</td>\n",
       "      <td>0.260000</td>\n",
       "      <td>2.200000</td>\n",
       "      <td>0.079000</td>\n",
       "      <td>14.000000</td>\n",
       "      <td>38.000000</td>\n",
       "      <td>0.996750</td>\n",
       "      <td>3.310000</td>\n",
       "      <td>0.620000</td>\n",
       "      <td>10.200000</td>\n",
       "      <td>6.000000</td>\n",
       "    </tr>\n",
       "    <tr>\n",
       "      <th>75%</th>\n",
       "      <td>9.200000</td>\n",
       "      <td>0.640000</td>\n",
       "      <td>0.420000</td>\n",
       "      <td>2.600000</td>\n",
       "      <td>0.090000</td>\n",
       "      <td>21.000000</td>\n",
       "      <td>62.000000</td>\n",
       "      <td>0.997835</td>\n",
       "      <td>3.400000</td>\n",
       "      <td>0.730000</td>\n",
       "      <td>11.100000</td>\n",
       "      <td>6.000000</td>\n",
       "    </tr>\n",
       "    <tr>\n",
       "      <th>max</th>\n",
       "      <td>15.900000</td>\n",
       "      <td>1.580000</td>\n",
       "      <td>1.000000</td>\n",
       "      <td>15.500000</td>\n",
       "      <td>0.611000</td>\n",
       "      <td>72.000000</td>\n",
       "      <td>289.000000</td>\n",
       "      <td>1.003690</td>\n",
       "      <td>4.010000</td>\n",
       "      <td>2.000000</td>\n",
       "      <td>14.900000</td>\n",
       "      <td>8.000000</td>\n",
       "    </tr>\n",
       "  </tbody>\n",
       "</table>\n",
       "</div>"
      ],
      "text/plain": [
       "       fixed acidity  volatile acidity  citric acid  residual sugar  \\\n",
       "count    1599.000000       1599.000000  1599.000000     1599.000000   \n",
       "mean        8.319637          0.527821     0.270976        2.538806   \n",
       "std         1.741096          0.179060     0.194801        1.409928   \n",
       "min         4.600000          0.120000     0.000000        0.900000   \n",
       "25%         7.100000          0.390000     0.090000        1.900000   \n",
       "50%         7.900000          0.520000     0.260000        2.200000   \n",
       "75%         9.200000          0.640000     0.420000        2.600000   \n",
       "max        15.900000          1.580000     1.000000       15.500000   \n",
       "\n",
       "         chlorides  free sulfur dioxide  total sulfur dioxide      density  \\\n",
       "count  1599.000000          1599.000000           1599.000000  1599.000000   \n",
       "mean      0.087467            15.874922             46.467792     0.996747   \n",
       "std       0.047065            10.460157             32.895324     0.001887   \n",
       "min       0.012000             1.000000              6.000000     0.990070   \n",
       "25%       0.070000             7.000000             22.000000     0.995600   \n",
       "50%       0.079000            14.000000             38.000000     0.996750   \n",
       "75%       0.090000            21.000000             62.000000     0.997835   \n",
       "max       0.611000            72.000000            289.000000     1.003690   \n",
       "\n",
       "                pH    sulphates      alcohol      quality  \n",
       "count  1599.000000  1599.000000  1599.000000  1599.000000  \n",
       "mean      3.311113     0.658149    10.422983     5.636023  \n",
       "std       0.154386     0.169507     1.065668     0.807569  \n",
       "min       2.740000     0.330000     8.400000     3.000000  \n",
       "25%       3.210000     0.550000     9.500000     5.000000  \n",
       "50%       3.310000     0.620000    10.200000     6.000000  \n",
       "75%       3.400000     0.730000    11.100000     6.000000  \n",
       "max       4.010000     2.000000    14.900000     8.000000  "
      ]
     },
     "execution_count": 4,
     "metadata": {},
     "output_type": "execute_result"
    }
   ],
   "source": [
    "wine_dataframe.describe()"
   ]
  },
  {
   "cell_type": "code",
   "execution_count": 6,
   "metadata": {},
   "outputs": [
    {
     "data": {
      "text/plain": [
       "1599"
      ]
     },
     "execution_count": 6,
     "metadata": {},
     "output_type": "execute_result"
    }
   ],
   "source": [
    "num_wines = len(wine_dataframe)\n",
    "num_wines"
   ]
  },
  {
   "cell_type": "code",
   "execution_count": 7,
   "metadata": {},
   "outputs": [
    {
     "data": {
      "text/plain": [
       "quality\n",
       "3     10\n",
       "4     53\n",
       "5    681\n",
       "6    638\n",
       "7    199\n",
       "8     18\n",
       "dtype: int64"
      ]
     },
     "execution_count": 7,
     "metadata": {},
     "output_type": "execute_result"
    }
   ],
   "source": [
    "counts_df = wine_dataframe.groupby(['quality']).size()\n",
    "counts_df"
   ]
  },
  {
   "cell_type": "code",
   "execution_count": 8,
   "metadata": {},
   "outputs": [
    {
     "data": {
      "text/plain": [
       "217"
      ]
     },
     "execution_count": 8,
     "metadata": {},
     "output_type": "execute_result"
    }
   ],
   "source": [
    "num_high_quality = counts_df[7] + counts_df[8]\n",
    "num_high_quality"
   ]
  },
  {
   "cell_type": "code",
   "execution_count": 10,
   "metadata": {},
   "outputs": [],
   "source": [
    "num_low_quality = counts_df[3] + counts_df[4]\n",
    "num_med_quality = counts_df[5] + counts_df[6]"
   ]
  },
  {
   "cell_type": "code",
   "execution_count": 11,
   "metadata": {},
   "outputs": [
    {
     "name": "stdout",
     "output_type": "stream",
     "text": [
      "Total wines:  1599\n",
      "High Quality wines :  217\n",
      "Medium Quality wines :  1319\n",
      "Low Quality wines :  63\n"
     ]
    }
   ],
   "source": [
    "print('Total wines: ', num_wines)\n",
    "print('High Quality wines : ', num_high_quality)\n",
    "print('Medium Quality wines : ', num_med_quality)\n",
    "print('Low Quality wines : ', num_low_quality)"
   ]
  },
  {
   "cell_type": "code",
   "execution_count": 12,
   "metadata": {},
   "outputs": [],
   "source": [
    "from pygal.style import DarkStyle"
   ]
  },
  {
   "cell_type": "code",
   "execution_count": null,
   "metadata": {},
   "outputs": [],
   "source": []
  },
  {
   "cell_type": "code",
   "execution_count": 13,
   "metadata": {},
   "outputs": [],
   "source": [
    "pie_chart = pygal.Pie(width = 640,\n",
    "                      height = 360,\n",
    "                      explicit_size = True,\n",
    "                      style = DarkStyle)"
   ]
  },
  {
   "cell_type": "code",
   "execution_count": 15,
   "metadata": {},
   "outputs": [],
   "source": [
    "pie_chart.title = 'Wines by Quality'"
   ]
  },
  {
   "cell_type": "code",
   "execution_count": 16,
   "metadata": {},
   "outputs": [
    {
     "data": {
      "image/png": "[encoded data removed]",
      "image/svg+xml": [
       "<svg xmlns:xlink=\"http://www.w3.org/1999/xlink\" class=\"pygal-chart\" height=\"360\" id=\"chart-40864da9-a4c3-4e54-9157-65a72317f4ea\" viewBox=\"0 0 640 360\" width=\"640\" xmlns=\"http://www.w3.org/2000/svg\"><!--Generated with pygal 2.4.0 (etree) ©Kozea 2012-2016 on 2020-05-03--><!--http://pygal.org--><!--http://github.com/Kozea/pygal--><defs><style type=\"text/css\">#chart-40864da9-a4c3-4e54-9157-65a72317f4ea{-webkit-user-select:none;-webkit-font-smoothing:antialiased;font-family:Consolas,\"Liberation Mono\",Menlo,Courier,monospace}#chart-40864da9-a4c3-4e54-9157-65a72317f4ea .title{font-family:Consolas,\"Liberation Mono\",Menlo,Courier,monospace;font-size:16px}#chart-40864da9-a4c3-4e54-9157-65a72317f4ea .legends .legend text{font-family:Consolas,\"Liberation Mono\",Menlo,Courier,monospace;font-size:14px}#chart-40864da9-a4c3-4e54-9157-65a72317f4ea .axis text{font-family:Consolas,\"Liberation Mono\",Menlo,Courier,monospace;font-size:10px}#chart-40864da9-a4c3-4e54-9157-65a72317f4ea .axis text.major{font-family:Consolas,\"Liberation Mono\",Menlo,Courier,monospace;font-size:10px}#chart-40864da9-a4c3-4e54-9157-65a72317f4ea .text-overlay text.value{font-family:Consolas,\"Liberation Mono\",Menlo,Courier,monospace;font-size:16px}#chart-40864da9-a4c3-4e54-9157-65a72317f4ea .text-overlay text.label{font-family:Consolas,\"Liberation Mono\",Menlo,Courier,monospace;font-size:10px}#chart-40864da9-a4c3-4e54-9157-65a72317f4ea .tooltip{font-family:Consolas,\"Liberation Mono\",Menlo,Courier,monospace;font-size:14px}#chart-40864da9-a4c3-4e54-9157-65a72317f4ea text.no_data{font-family:Consolas,\"Liberation Mono\",Menlo,Courier,monospace;font-size:64px}\n",
       "#chart-40864da9-a4c3-4e54-9157-65a72317f4ea{background-color:black}#chart-40864da9-a4c3-4e54-9157-65a72317f4ea path,#chart-40864da9-a4c3-4e54-9157-65a72317f4ea line,#chart-40864da9-a4c3-4e54-9157-65a72317f4ea rect,#chart-40864da9-a4c3-4e54-9157-65a72317f4ea circle{-webkit-transition:250ms;-moz-transition:250ms;transition:250ms}#chart-40864da9-a4c3-4e54-9157-65a72317f4ea .graph &gt; .background{fill:black}#chart-40864da9-a4c3-4e54-9157-65a72317f4ea .plot &gt; .background{fill:#111}#chart-40864da9-a4c3-4e54-9157-65a72317f4ea .graph{fill:#999}#chart-40864da9-a4c3-4e54-9157-65a72317f4ea text.no_data{fill:#eee}#chart-40864da9-a4c3-4e54-9157-65a72317f4ea .title{fill:#eee}#chart-40864da9-a4c3-4e54-9157-65a72317f4ea .legends .legend text{fill:#999}#chart-40864da9-a4c3-4e54-9157-65a72317f4ea .legends .legend:hover text{fill:#eee}#chart-40864da9-a4c3-4e54-9157-65a72317f4ea .axis .line{stroke:#eee}#chart-40864da9-a4c3-4e54-9157-65a72317f4ea .axis .guide.line{stroke:#555}#chart-40864da9-a4c3-4e54-9157-65a72317f4ea .axis .major.line{stroke:#999}#chart-40864da9-a4c3-4e54-9157-65a72317f4ea .axis text.major{fill:#eee}#chart-40864da9-a4c3-4e54-9157-65a72317f4ea .axis.y .guides:hover .guide.line,#chart-40864da9-a4c3-4e54-9157-65a72317f4ea .line-graph .axis.x .guides:hover .guide.line,#chart-40864da9-a4c3-4e54-9157-65a72317f4ea .stackedline-graph .axis.x .guides:hover .guide.line,#chart-40864da9-a4c3-4e54-9157-65a72317f4ea .xy-graph .axis.x .guides:hover .guide.line{stroke:#eee}#chart-40864da9-a4c3-4e54-9157-65a72317f4ea .axis .guides:hover text{fill:#eee}#chart-40864da9-a4c3-4e54-9157-65a72317f4ea .reactive{fill-opacity:.8;stroke-opacity:.8}#chart-40864da9-a4c3-4e54-9157-65a72317f4ea .ci{stroke:#999}#chart-40864da9-a4c3-4e54-9157-65a72317f4ea .reactive.active,#chart-40864da9-a4c3-4e54-9157-65a72317f4ea .active .reactive{fill-opacity:.4;stroke-opacity:.9;stroke-width:4}#chart-40864da9-a4c3-4e54-9157-65a72317f4ea .ci .reactive.active{stroke-width:1.5}#chart-40864da9-a4c3-4e54-9157-65a72317f4ea .series text{fill:#eee}#chart-40864da9-a4c3-4e54-9157-65a72317f4ea .tooltip rect{fill:#111;stroke:#eee;-webkit-transition:opacity 250ms;-moz-transition:opacity 250ms;transition:opacity 250ms}#chart-40864da9-a4c3-4e54-9157-65a72317f4ea .tooltip .label{fill:#999}#chart-40864da9-a4c3-4e54-9157-65a72317f4ea .tooltip .label{fill:#999}#chart-40864da9-a4c3-4e54-9157-65a72317f4ea .tooltip .legend{font-size:.8em;fill:#555}#chart-40864da9-a4c3-4e54-9157-65a72317f4ea .tooltip .x_label{font-size:.6em;fill:#eee}#chart-40864da9-a4c3-4e54-9157-65a72317f4ea .tooltip .xlink{font-size:.5em;text-decoration:underline}#chart-40864da9-a4c3-4e54-9157-65a72317f4ea .tooltip .value{font-size:1.5em}#chart-40864da9-a4c3-4e54-9157-65a72317f4ea .bound{font-size:.5em}#chart-40864da9-a4c3-4e54-9157-65a72317f4ea .max-value{font-size:.75em;fill:#555}#chart-40864da9-a4c3-4e54-9157-65a72317f4ea .map-element{fill:#111;stroke:#555 !important}#chart-40864da9-a4c3-4e54-9157-65a72317f4ea .map-element .reactive{fill-opacity:inherit;stroke-opacity:inherit}#chart-40864da9-a4c3-4e54-9157-65a72317f4ea .color-0,#chart-40864da9-a4c3-4e54-9157-65a72317f4ea .color-0 a:visited{stroke:#ff5995;fill:#ff5995}#chart-40864da9-a4c3-4e54-9157-65a72317f4ea .color-1,#chart-40864da9-a4c3-4e54-9157-65a72317f4ea .color-1 a:visited{stroke:#b6e354;fill:#b6e354}#chart-40864da9-a4c3-4e54-9157-65a72317f4ea .color-2,#chart-40864da9-a4c3-4e54-9157-65a72317f4ea .color-2 a:visited{stroke:#feed6c;fill:#feed6c}#chart-40864da9-a4c3-4e54-9157-65a72317f4ea .text-overlay .color-0 text{fill:black}#chart-40864da9-a4c3-4e54-9157-65a72317f4ea .text-overlay .color-1 text{fill:black}#chart-40864da9-a4c3-4e54-9157-65a72317f4ea .text-overlay .color-2 text{fill:black}\n",
       "#chart-40864da9-a4c3-4e54-9157-65a72317f4ea text.no_data{text-anchor:middle}#chart-40864da9-a4c3-4e54-9157-65a72317f4ea .guide.line{fill:none}#chart-40864da9-a4c3-4e54-9157-65a72317f4ea .centered{text-anchor:middle}#chart-40864da9-a4c3-4e54-9157-65a72317f4ea .title{text-anchor:middle}#chart-40864da9-a4c3-4e54-9157-65a72317f4ea .legends .legend text{fill-opacity:1}#chart-40864da9-a4c3-4e54-9157-65a72317f4ea .axis.x text{text-anchor:middle}#chart-40864da9-a4c3-4e54-9157-65a72317f4ea .axis.x:not(.web) text[transform]{text-anchor:start}#chart-40864da9-a4c3-4e54-9157-65a72317f4ea .axis.x:not(.web) text[transform].backwards{text-anchor:end}#chart-40864da9-a4c3-4e54-9157-65a72317f4ea .axis.y text{text-anchor:end}#chart-40864da9-a4c3-4e54-9157-65a72317f4ea .axis.y text[transform].backwards{text-anchor:start}#chart-40864da9-a4c3-4e54-9157-65a72317f4ea .axis.y2 text{text-anchor:start}#chart-40864da9-a4c3-4e54-9157-65a72317f4ea .axis.y2 text[transform].backwards{text-anchor:end}#chart-40864da9-a4c3-4e54-9157-65a72317f4ea .axis .guide.line{stroke-dasharray:4,4}#chart-40864da9-a4c3-4e54-9157-65a72317f4ea .axis .major.guide.line{stroke-dasharray:6,6}#chart-40864da9-a4c3-4e54-9157-65a72317f4ea .horizontal .axis.y .guide.line,#chart-40864da9-a4c3-4e54-9157-65a72317f4ea .horizontal .axis.y2 .guide.line,#chart-40864da9-a4c3-4e54-9157-65a72317f4ea .vertical .axis.x .guide.line{opacity:0}#chart-40864da9-a4c3-4e54-9157-65a72317f4ea .horizontal .axis.always_show .guide.line,#chart-40864da9-a4c3-4e54-9157-65a72317f4ea .vertical .axis.always_show .guide.line{opacity:1 !important}#chart-40864da9-a4c3-4e54-9157-65a72317f4ea .axis.y .guides:hover .guide.line,#chart-40864da9-a4c3-4e54-9157-65a72317f4ea .axis.y2 .guides:hover .guide.line,#chart-40864da9-a4c3-4e54-9157-65a72317f4ea .axis.x .guides:hover .guide.line{opacity:1}#chart-40864da9-a4c3-4e54-9157-65a72317f4ea .axis .guides:hover text{opacity:1}#chart-40864da9-a4c3-4e54-9157-65a72317f4ea .nofill{fill:none}#chart-40864da9-a4c3-4e54-9157-65a72317f4ea .subtle-fill{fill-opacity:.2}#chart-40864da9-a4c3-4e54-9157-65a72317f4ea .dot{stroke-width:1px;fill-opacity:1}#chart-40864da9-a4c3-4e54-9157-65a72317f4ea .dot.active{stroke-width:5px}#chart-40864da9-a4c3-4e54-9157-65a72317f4ea .dot.negative{fill:transparent}#chart-40864da9-a4c3-4e54-9157-65a72317f4ea text,#chart-40864da9-a4c3-4e54-9157-65a72317f4ea tspan{stroke:none !important}#chart-40864da9-a4c3-4e54-9157-65a72317f4ea .series text.active{opacity:1}#chart-40864da9-a4c3-4e54-9157-65a72317f4ea .tooltip rect{fill-opacity:.95;stroke-width:.5}#chart-40864da9-a4c3-4e54-9157-65a72317f4ea .tooltip text{fill-opacity:1}#chart-40864da9-a4c3-4e54-9157-65a72317f4ea .showable{visibility:hidden}#chart-40864da9-a4c3-4e54-9157-65a72317f4ea .showable.shown{visibility:visible}#chart-40864da9-a4c3-4e54-9157-65a72317f4ea .gauge-background{fill:rgba(229,229,229,1);stroke:none}#chart-40864da9-a4c3-4e54-9157-65a72317f4ea .bg-lines{stroke:black;stroke-width:2px}</style><script type=\"text/javascript\">window.pygal = window.pygal || {};window.pygal.config = window.pygal.config || {};window.pygal.config['40864da9-a4c3-4e54-9157-65a72317f4ea'] = {\"allow_interruptions\": false, \"box_mode\": \"extremes\", \"classes\": [\"pygal-chart\"], \"css\": [\"file://style.css\", \"file://graph.css\"], \"defs\": [], \"disable_xml_declaration\": true, \"dots_size\": 2.5, \"dynamic_print_values\": false, \"explicit_size\": true, \"fill\": false, \"force_uri_protocol\": \"https\", \"formatter\": null, \"half_pie\": false, \"height\": 360, \"include_x_axis\": false, \"inner_radius\": 0, \"interpolate\": null, \"interpolation_parameters\": {}, \"interpolation_precision\": 250, \"inverse_y_axis\": false, \"js\": [\"//kozea.github.io/pygal.js/2.0.x/pygal-tooltips.min.js\"], \"legend_at_bottom\": false, \"legend_at_bottom_columns\": null, \"legend_box_size\": 12, \"logarithmic\": false, \"margin\": 20, \"margin_bottom\": null, \"margin_left\": null, \"margin_right\": null, \"margin_top\": null, \"max_scale\": 16, \"min_scale\": 4, \"missing_value_fill_truncation\": \"x\", \"no_data_text\": \"No data\", \"no_prefix\": false, \"order_min\": null, \"pretty_print\": false, \"print_labels\": false, \"print_values\": false, \"print_values_position\": \"center\", \"print_zeroes\": true, \"range\": null, \"rounded_bars\": null, \"secondary_range\": null, \"show_dots\": true, \"show_legend\": true, \"show_minor_x_labels\": true, \"show_minor_y_labels\": true, \"show_only_major_dots\": false, \"show_x_guides\": false, \"show_x_labels\": true, \"show_y_guides\": true, \"show_y_labels\": true, \"spacing\": 10, \"stack_from_top\": false, \"strict\": false, \"stroke\": true, \"stroke_style\": null, \"style\": {\"background\": \"black\", \"ci_colors\": [], \"colors\": [\"#ff5995\", \"#b6e354\", \"#feed6c\", \"#8cedff\", \"#9e6ffe\", \"#899ca1\", \"#f8f8f2\", \"#bf4646\", \"#516083\", \"#f92672\", \"#82b414\", \"#fd971f\", \"#56c2d6\", \"#808384\", \"#8c54fe\", \"#465457\"], \"font_family\": \"Consolas, \\\"Liberation Mono\\\", Menlo, Courier, monospace\", \"foreground\": \"#999\", \"foreground_strong\": \"#eee\", \"foreground_subtle\": \"#555\", \"guide_stroke_dasharray\": \"4,4\", \"label_font_family\": \"Consolas, \\\"Liberation Mono\\\", Menlo, Courier, monospace\", \"label_font_size\": 10, \"legend_font_family\": \"Consolas, \\\"Liberation Mono\\\", Menlo, Courier, monospace\", \"legend_font_size\": 14, \"major_guide_stroke_dasharray\": \"6,6\", \"major_label_font_family\": \"Consolas, \\\"Liberation Mono\\\", Menlo, Courier, monospace\", \"major_label_font_size\": 10, \"no_data_font_family\": \"Consolas, \\\"Liberation Mono\\\", Menlo, Courier, monospace\", \"no_data_font_size\": 64, \"opacity\": \".8\", \"opacity_hover\": \".4\", \"plot_background\": \"#111\", \"stroke_opacity\": \".8\", \"stroke_opacity_hover\": \".9\", \"title_font_family\": \"Consolas, \\\"Liberation Mono\\\", Menlo, Courier, monospace\", \"title_font_size\": 16, \"tooltip_font_family\": \"Consolas, \\\"Liberation Mono\\\", Menlo, Courier, monospace\", \"tooltip_font_size\": 14, \"transition\": \"250ms\", \"value_background\": \"rgba(229, 229, 229, 1)\", \"value_colors\": [], \"value_font_family\": \"Consolas, \\\"Liberation Mono\\\", Menlo, Courier, monospace\", \"value_font_size\": 16, \"value_label_font_family\": \"Consolas, \\\"Liberation Mono\\\", Menlo, Courier, monospace\", \"value_label_font_size\": 10}, \"title\": \"Wines by Quality\", \"tooltip_border_radius\": 0, \"tooltip_fancy_mode\": true, \"truncate_label\": null, \"truncate_legend\": null, \"width\": 640, \"x_label_rotation\": 0, \"x_labels\": null, \"x_labels_major\": null, \"x_labels_major_count\": null, \"x_labels_major_every\": null, \"x_title\": null, \"xrange\": null, \"y_label_rotation\": 0, \"y_labels\": null, \"y_labels_major\": null, \"y_labels_major_count\": null, \"y_labels_major_every\": null, \"y_title\": null, \"zero\": 0, \"legends\": [\"High Quality\", \"Medium Quality\", \"Low Quality\"]}</script><script type=\"text/javascript\" xlink:href=\"https://kozea.github.io/pygal.js/2.0.x/pygal-tooltips.min.js\" /></defs><title>Wines by Quality</title><g class=\"graph pie-graph vertical\"><rect class=\"background\" height=\"360\" width=\"640\" x=\"0\" y=\"0\" /><g class=\"plot\" transform=\"translate(159, 46)\"><rect class=\"background\" height=\"294\" width=\"460.4\" x=\"0\" y=\"0\" /><g class=\"series serie-0 color-0\"><g class=\"slices\"><g class=\"slice\"><path class=\"slice reactive tooltip-trigger\" d=\"M230.200000 14.700000 A132.300000 132.300000 0 0 1 329.828912 59.951910 L230.200000 147.000000 A0.000000 0.000000 0 0 0 230.200000 147.000000 z\" /><desc class=\"value\">217</desc><desc class=\"x centered\">257.55604987559275</desc><desc class=\"y centered\">86.77152637494386</desc></g></g></g><g class=\"series serie-1 color-1\"><g class=\"slices\"><g class=\"slice\"><path class=\"slice reactive tooltip-trigger\" d=\"M329.828912 59.951910 A132.300000 132.300000 0 1 1 197.781953 18.733246 L230.200000 147.000000 A0.000000 0.000000 0 1 0 230.200000 147.000000 z\" /><desc class=\"value\">1319</desc><desc class=\"x centered\">210.48915494217687</desc><desc class=\"y centered\">210.14511134764504</desc></g></g></g><g class=\"series serie-2 color-2\"><g class=\"slices\"><g class=\"slice\"><path class=\"slice reactive tooltip-trigger\" d=\"M197.781953 18.733246 A132.300000 132.300000 0 0 1 230.200000 14.700000 L230.200000 147.000000 A0.000000 0.000000 0 0 0 230.200000 147.000000 z\" /><desc class=\"value\">63</desc><desc class=\"x centered\">222.03300523456736</desc><desc class=\"y centered\">81.35609170302703</desc></g></g></g></g><g class=\"titles\"><text class=\"title plot_title\" x=\"320.0\" y=\"26\">Wines by Quality</text></g><g class=\"plot overlay\" transform=\"translate(159, 46)\"><g class=\"series serie-0 color-0\" /><g class=\"series serie-1 color-1\" /><g class=\"series serie-2 color-2\" /></g><g class=\"plot text-overlay\" transform=\"translate(159, 46)\"><g class=\"series serie-0 color-0\" /><g class=\"series serie-1 color-1\" /><g class=\"series serie-2 color-2\" /></g><g class=\"plot tooltip-overlay\" transform=\"translate(159, 46)\"><g class=\"tooltip\" style=\"opacity: 0\" transform=\"translate(0 0)\"><rect class=\"tooltip-box\" height=\"0\" rx=\"0\" ry=\"0\" width=\"0\" /><g class=\"text\" /></g></g><g class=\"legends\" transform=\"translate(10, 56)\"><g class=\"legend reactive activate-serie\" id=\"activate-serie-0\"><rect class=\"color-0 reactive\" height=\"12\" width=\"12\" x=\"0.0\" y=\"1.0\" /><text x=\"17.0\" y=\"11.2\">High Quality</text></g><g class=\"legend reactive activate-serie\" id=\"activate-serie-1\"><rect class=\"color-1 reactive\" height=\"12\" width=\"12\" x=\"0.0\" y=\"22.0\" /><text x=\"17.0\" y=\"32.2\">Medium Quality</text></g><g class=\"legend reactive activate-serie\" id=\"activate-serie-2\"><rect class=\"color-2 reactive\" height=\"12\" width=\"12\" x=\"0.0\" y=\"43.0\" /><text x=\"17.0\" y=\"53.2\">Low Quality</text></g></g><g class=\"legends\" transform=\"translate(630, 56)\" /></g></svg>"
      ],
      "text/plain": [
       "<pygal.graph.pie.Pie at 0x7fb1b48cda10>"
      ]
     },
     "execution_count": 16,
     "metadata": {},
     "output_type": "execute_result"
    }
   ],
   "source": [
    "pie_chart.add('High Quality', num_high_quality)\n",
    "pie_chart.add('Medium Quality', num_med_quality)\n",
    "pie_chart.add('Low Quality', num_low_quality)"
   ]
  },
  {
   "cell_type": "markdown",
   "metadata": {},
   "source": [
    "# This plot is not interactive "
   ]
  },
  {
   "cell_type": "code",
   "execution_count": 18,
   "metadata": {},
   "outputs": [],
   "source": [
    "from IPython.display import display, HTML\n",
    "\n",
    "html_skeleton = \"\"\"\n",
    "<!DOCTYPE html>\n",
    "<html>\n",
    "  <head>\n",
    "  <script type=\"text/javascript\" \n",
    "          src=\"http://kozea.github.com/pygal.js/javascripts/svg.jquery.js\">\n",
    "  </script>\n",
    "  <script type=\"text/javascript\" \n",
    "          src=\"https://kozea.github.io/pygal.js/2.0.x/pygal-tooltips.min.js\"\">\n",
    "  </script>\n",
    "  </head>\n",
    "  <body>\n",
    "    <figure>\n",
    "      {rendered_chart}\n",
    "    </figure>\n",
    "  </body>\n",
    "</html>\n",
    "\"\"\"\n",
    "\n",
    "def display_chart(chart):\n",
    "    rendered_chart = chart.render(is_unicode=True)\n",
    "    plot_html = html_skeleton.format(rendered_chart=rendered_chart)\n",
    "    display(HTML(plot_html))"
   ]
  },
  {
   "cell_type": "code",
   "execution_count": 19,
   "metadata": {},
   "outputs": [
    {
     "data": {
      "text/html": [
       "\n",
       "<!DOCTYPE html>\n",
       "<html>\n",
       "  <head>\n",
       "  <script type=\"text/javascript\" \n",
       "          src=\"http://kozea.github.com/pygal.js/javascripts/svg.jquery.js\">\n",
       "  </script>\n",
       "  <script type=\"text/javascript\" \n",
       "          src=\"https://kozea.github.io/pygal.js/2.0.x/pygal-tooltips.min.js\"\">\n",
       "  </script>\n",
       "  </head>\n",
       "  <body>\n",
       "    <figure>\n",
       "      <?xml version='1.0' encoding='utf-8'?>\n",
       "<svg xmlns:xlink=\"http://www.w3.org/1999/xlink\" class=\"pygal-chart\" height=\"360\" id=\"chart-40864da9-a4c3-4e54-9157-65a72317f4ea\" viewBox=\"0 0 640 360\" width=\"640\" xmlns=\"http://www.w3.org/2000/svg\"><!--Generated with pygal 2.4.0 (etree) ©Kozea 2012-2016 on 2020-05-03--><!--http://pygal.org--><!--http://github.com/Kozea/pygal--><defs><style type=\"text/css\">#chart-40864da9-a4c3-4e54-9157-65a72317f4ea{-webkit-user-select:none;-webkit-font-smoothing:antialiased;font-family:Consolas,\"Liberation Mono\",Menlo,Courier,monospace}#chart-40864da9-a4c3-4e54-9157-65a72317f4ea .title{font-family:Consolas,\"Liberation Mono\",Menlo,Courier,monospace;font-size:16px}#chart-40864da9-a4c3-4e54-9157-65a72317f4ea .legends .legend text{font-family:Consolas,\"Liberation Mono\",Menlo,Courier,monospace;font-size:14px}#chart-40864da9-a4c3-4e54-9157-65a72317f4ea .axis text{font-family:Consolas,\"Liberation Mono\",Menlo,Courier,monospace;font-size:10px}#chart-40864da9-a4c3-4e54-9157-65a72317f4ea .axis text.major{font-family:Consolas,\"Liberation Mono\",Menlo,Courier,monospace;font-size:10px}#chart-40864da9-a4c3-4e54-9157-65a72317f4ea .text-overlay text.value{font-family:Consolas,\"Liberation Mono\",Menlo,Courier,monospace;font-size:16px}#chart-40864da9-a4c3-4e54-9157-65a72317f4ea .text-overlay text.label{font-family:Consolas,\"Liberation Mono\",Menlo,Courier,monospace;font-size:10px}#chart-40864da9-a4c3-4e54-9157-65a72317f4ea .tooltip{font-family:Consolas,\"Liberation Mono\",Menlo,Courier,monospace;font-size:14px}#chart-40864da9-a4c3-4e54-9157-65a72317f4ea text.no_data{font-family:Consolas,\"Liberation Mono\",Menlo,Courier,monospace;font-size:64px}\n",
       "#chart-40864da9-a4c3-4e54-9157-65a72317f4ea{background-color:black}#chart-40864da9-a4c3-4e54-9157-65a72317f4ea path,#chart-40864da9-a4c3-4e54-9157-65a72317f4ea line,#chart-40864da9-a4c3-4e54-9157-65a72317f4ea rect,#chart-40864da9-a4c3-4e54-9157-65a72317f4ea circle{-webkit-transition:250ms;-moz-transition:250ms;transition:250ms}#chart-40864da9-a4c3-4e54-9157-65a72317f4ea .graph &gt; .background{fill:black}#chart-40864da9-a4c3-4e54-9157-65a72317f4ea .plot &gt; .background{fill:#111}#chart-40864da9-a4c3-4e54-9157-65a72317f4ea .graph{fill:#999}#chart-40864da9-a4c3-4e54-9157-65a72317f4ea text.no_data{fill:#eee}#chart-40864da9-a4c3-4e54-9157-65a72317f4ea .title{fill:#eee}#chart-40864da9-a4c3-4e54-9157-65a72317f4ea .legends .legend text{fill:#999}#chart-40864da9-a4c3-4e54-9157-65a72317f4ea .legends .legend:hover text{fill:#eee}#chart-40864da9-a4c3-4e54-9157-65a72317f4ea .axis .line{stroke:#eee}#chart-40864da9-a4c3-4e54-9157-65a72317f4ea .axis .guide.line{stroke:#555}#chart-40864da9-a4c3-4e54-9157-65a72317f4ea .axis .major.line{stroke:#999}#chart-40864da9-a4c3-4e54-9157-65a72317f4ea .axis text.major{fill:#eee}#chart-40864da9-a4c3-4e54-9157-65a72317f4ea .axis.y .guides:hover .guide.line,#chart-40864da9-a4c3-4e54-9157-65a72317f4ea .line-graph .axis.x .guides:hover .guide.line,#chart-40864da9-a4c3-4e54-9157-65a72317f4ea .stackedline-graph .axis.x .guides:hover .guide.line,#chart-40864da9-a4c3-4e54-9157-65a72317f4ea .xy-graph .axis.x .guides:hover .guide.line{stroke:#eee}#chart-40864da9-a4c3-4e54-9157-65a72317f4ea .axis .guides:hover text{fill:#eee}#chart-40864da9-a4c3-4e54-9157-65a72317f4ea .reactive{fill-opacity:.8;stroke-opacity:.8}#chart-40864da9-a4c3-4e54-9157-65a72317f4ea .ci{stroke:#999}#chart-40864da9-a4c3-4e54-9157-65a72317f4ea .reactive.active,#chart-40864da9-a4c3-4e54-9157-65a72317f4ea .active .reactive{fill-opacity:.4;stroke-opacity:.9;stroke-width:4}#chart-40864da9-a4c3-4e54-9157-65a72317f4ea .ci .reactive.active{stroke-width:1.5}#chart-40864da9-a4c3-4e54-9157-65a72317f4ea .series text{fill:#eee}#chart-40864da9-a4c3-4e54-9157-65a72317f4ea .tooltip rect{fill:#111;stroke:#eee;-webkit-transition:opacity 250ms;-moz-transition:opacity 250ms;transition:opacity 250ms}#chart-40864da9-a4c3-4e54-9157-65a72317f4ea .tooltip .label{fill:#999}#chart-40864da9-a4c3-4e54-9157-65a72317f4ea .tooltip .label{fill:#999}#chart-40864da9-a4c3-4e54-9157-65a72317f4ea .tooltip .legend{font-size:.8em;fill:#555}#chart-40864da9-a4c3-4e54-9157-65a72317f4ea .tooltip .x_label{font-size:.6em;fill:#eee}#chart-40864da9-a4c3-4e54-9157-65a72317f4ea .tooltip .xlink{font-size:.5em;text-decoration:underline}#chart-40864da9-a4c3-4e54-9157-65a72317f4ea .tooltip .value{font-size:1.5em}#chart-40864da9-a4c3-4e54-9157-65a72317f4ea .bound{font-size:.5em}#chart-40864da9-a4c3-4e54-9157-65a72317f4ea .max-value{font-size:.75em;fill:#555}#chart-40864da9-a4c3-4e54-9157-65a72317f4ea .map-element{fill:#111;stroke:#555 !important}#chart-40864da9-a4c3-4e54-9157-65a72317f4ea .map-element .reactive{fill-opacity:inherit;stroke-opacity:inherit}#chart-40864da9-a4c3-4e54-9157-65a72317f4ea .color-0,#chart-40864da9-a4c3-4e54-9157-65a72317f4ea .color-0 a:visited{stroke:#ff5995;fill:#ff5995}#chart-40864da9-a4c3-4e54-9157-65a72317f4ea .color-1,#chart-40864da9-a4c3-4e54-9157-65a72317f4ea .color-1 a:visited{stroke:#b6e354;fill:#b6e354}#chart-40864da9-a4c3-4e54-9157-65a72317f4ea .color-2,#chart-40864da9-a4c3-4e54-9157-65a72317f4ea .color-2 a:visited{stroke:#feed6c;fill:#feed6c}#chart-40864da9-a4c3-4e54-9157-65a72317f4ea .text-overlay .color-0 text{fill:black}#chart-40864da9-a4c3-4e54-9157-65a72317f4ea .text-overlay .color-1 text{fill:black}#chart-40864da9-a4c3-4e54-9157-65a72317f4ea .text-overlay .color-2 text{fill:black}\n",
       "#chart-40864da9-a4c3-4e54-9157-65a72317f4ea text.no_data{text-anchor:middle}#chart-40864da9-a4c3-4e54-9157-65a72317f4ea .guide.line{fill:none}#chart-40864da9-a4c3-4e54-9157-65a72317f4ea .centered{text-anchor:middle}#chart-40864da9-a4c3-4e54-9157-65a72317f4ea .title{text-anchor:middle}#chart-40864da9-a4c3-4e54-9157-65a72317f4ea .legends .legend text{fill-opacity:1}#chart-40864da9-a4c3-4e54-9157-65a72317f4ea .axis.x text{text-anchor:middle}#chart-40864da9-a4c3-4e54-9157-65a72317f4ea .axis.x:not(.web) text[transform]{text-anchor:start}#chart-40864da9-a4c3-4e54-9157-65a72317f4ea .axis.x:not(.web) text[transform].backwards{text-anchor:end}#chart-40864da9-a4c3-4e54-9157-65a72317f4ea .axis.y text{text-anchor:end}#chart-40864da9-a4c3-4e54-9157-65a72317f4ea .axis.y text[transform].backwards{text-anchor:start}#chart-40864da9-a4c3-4e54-9157-65a72317f4ea .axis.y2 text{text-anchor:start}#chart-40864da9-a4c3-4e54-9157-65a72317f4ea .axis.y2 text[transform].backwards{text-anchor:end}#chart-40864da9-a4c3-4e54-9157-65a72317f4ea .axis .guide.line{stroke-dasharray:4,4}#chart-40864da9-a4c3-4e54-9157-65a72317f4ea .axis .major.guide.line{stroke-dasharray:6,6}#chart-40864da9-a4c3-4e54-9157-65a72317f4ea .horizontal .axis.y .guide.line,#chart-40864da9-a4c3-4e54-9157-65a72317f4ea .horizontal .axis.y2 .guide.line,#chart-40864da9-a4c3-4e54-9157-65a72317f4ea .vertical .axis.x .guide.line{opacity:0}#chart-40864da9-a4c3-4e54-9157-65a72317f4ea .horizontal .axis.always_show .guide.line,#chart-40864da9-a4c3-4e54-9157-65a72317f4ea .vertical .axis.always_show .guide.line{opacity:1 !important}#chart-40864da9-a4c3-4e54-9157-65a72317f4ea .axis.y .guides:hover .guide.line,#chart-40864da9-a4c3-4e54-9157-65a72317f4ea .axis.y2 .guides:hover .guide.line,#chart-40864da9-a4c3-4e54-9157-65a72317f4ea .axis.x .guides:hover .guide.line{opacity:1}#chart-40864da9-a4c3-4e54-9157-65a72317f4ea .axis .guides:hover text{opacity:1}#chart-40864da9-a4c3-4e54-9157-65a72317f4ea .nofill{fill:none}#chart-40864da9-a4c3-4e54-9157-65a72317f4ea .subtle-fill{fill-opacity:.2}#chart-40864da9-a4c3-4e54-9157-65a72317f4ea .dot{stroke-width:1px;fill-opacity:1}#chart-40864da9-a4c3-4e54-9157-65a72317f4ea .dot.active{stroke-width:5px}#chart-40864da9-a4c3-4e54-9157-65a72317f4ea .dot.negative{fill:transparent}#chart-40864da9-a4c3-4e54-9157-65a72317f4ea text,#chart-40864da9-a4c3-4e54-9157-65a72317f4ea tspan{stroke:none !important}#chart-40864da9-a4c3-4e54-9157-65a72317f4ea .series text.active{opacity:1}#chart-40864da9-a4c3-4e54-9157-65a72317f4ea .tooltip rect{fill-opacity:.95;stroke-width:.5}#chart-40864da9-a4c3-4e54-9157-65a72317f4ea .tooltip text{fill-opacity:1}#chart-40864da9-a4c3-4e54-9157-65a72317f4ea .showable{visibility:hidden}#chart-40864da9-a4c3-4e54-9157-65a72317f4ea .showable.shown{visibility:visible}#chart-40864da9-a4c3-4e54-9157-65a72317f4ea .gauge-background{fill:rgba(229,229,229,1);stroke:none}#chart-40864da9-a4c3-4e54-9157-65a72317f4ea .bg-lines{stroke:black;stroke-width:2px}</style><script type=\"text/javascript\">window.pygal = window.pygal || {};window.pygal.config = window.pygal.config || {};window.pygal.config['40864da9-a4c3-4e54-9157-65a72317f4ea'] = {\"allow_interruptions\": false, \"box_mode\": \"extremes\", \"classes\": [\"pygal-chart\"], \"css\": [\"file://style.css\", \"file://graph.css\"], \"defs\": [], \"disable_xml_declaration\": false, \"dots_size\": 2.5, \"dynamic_print_values\": false, \"explicit_size\": true, \"fill\": false, \"force_uri_protocol\": \"https\", \"formatter\": null, \"half_pie\": false, \"height\": 360, \"include_x_axis\": false, \"inner_radius\": 0, \"interpolate\": null, \"interpolation_parameters\": {}, \"interpolation_precision\": 250, \"inverse_y_axis\": false, \"js\": [\"//kozea.github.io/pygal.js/2.0.x/pygal-tooltips.min.js\"], \"legend_at_bottom\": false, \"legend_at_bottom_columns\": null, \"legend_box_size\": 12, \"logarithmic\": false, \"margin\": 20, \"margin_bottom\": null, \"margin_left\": null, \"margin_right\": null, \"margin_top\": null, \"max_scale\": 16, \"min_scale\": 4, \"missing_value_fill_truncation\": \"x\", \"no_data_text\": \"No data\", \"no_prefix\": false, \"order_min\": null, \"pretty_print\": false, \"print_labels\": false, \"print_values\": false, \"print_values_position\": \"center\", \"print_zeroes\": true, \"range\": null, \"rounded_bars\": null, \"secondary_range\": null, \"show_dots\": true, \"show_legend\": true, \"show_minor_x_labels\": true, \"show_minor_y_labels\": true, \"show_only_major_dots\": false, \"show_x_guides\": false, \"show_x_labels\": true, \"show_y_guides\": true, \"show_y_labels\": true, \"spacing\": 10, \"stack_from_top\": false, \"strict\": false, \"stroke\": true, \"stroke_style\": null, \"style\": {\"background\": \"black\", \"ci_colors\": [], \"colors\": [\"#ff5995\", \"#b6e354\", \"#feed6c\", \"#8cedff\", \"#9e6ffe\", \"#899ca1\", \"#f8f8f2\", \"#bf4646\", \"#516083\", \"#f92672\", \"#82b414\", \"#fd971f\", \"#56c2d6\", \"#808384\", \"#8c54fe\", \"#465457\"], \"font_family\": \"Consolas, \\\"Liberation Mono\\\", Menlo, Courier, monospace\", \"foreground\": \"#999\", \"foreground_strong\": \"#eee\", \"foreground_subtle\": \"#555\", \"guide_stroke_dasharray\": \"4,4\", \"label_font_family\": \"Consolas, \\\"Liberation Mono\\\", Menlo, Courier, monospace\", \"label_font_size\": 10, \"legend_font_family\": \"Consolas, \\\"Liberation Mono\\\", Menlo, Courier, monospace\", \"legend_font_size\": 14, \"major_guide_stroke_dasharray\": \"6,6\", \"major_label_font_family\": \"Consolas, \\\"Liberation Mono\\\", Menlo, Courier, monospace\", \"major_label_font_size\": 10, \"no_data_font_family\": \"Consolas, \\\"Liberation Mono\\\", Menlo, Courier, monospace\", \"no_data_font_size\": 64, \"opacity\": \".8\", \"opacity_hover\": \".4\", \"plot_background\": \"#111\", \"stroke_opacity\": \".8\", \"stroke_opacity_hover\": \".9\", \"title_font_family\": \"Consolas, \\\"Liberation Mono\\\", Menlo, Courier, monospace\", \"title_font_size\": 16, \"tooltip_font_family\": \"Consolas, \\\"Liberation Mono\\\", Menlo, Courier, monospace\", \"tooltip_font_size\": 14, \"transition\": \"250ms\", \"value_background\": \"rgba(229, 229, 229, 1)\", \"value_colors\": [], \"value_font_family\": \"Consolas, \\\"Liberation Mono\\\", Menlo, Courier, monospace\", \"value_font_size\": 16, \"value_label_font_family\": \"Consolas, \\\"Liberation Mono\\\", Menlo, Courier, monospace\", \"value_label_font_size\": 10}, \"title\": \"Wines by Quality\", \"tooltip_border_radius\": 0, \"tooltip_fancy_mode\": true, \"truncate_label\": null, \"truncate_legend\": null, \"width\": 640, \"x_label_rotation\": 0, \"x_labels\": null, \"x_labels_major\": null, \"x_labels_major_count\": null, \"x_labels_major_every\": null, \"x_title\": null, \"xrange\": null, \"y_label_rotation\": 0, \"y_labels\": null, \"y_labels_major\": null, \"y_labels_major_count\": null, \"y_labels_major_every\": null, \"y_title\": null, \"zero\": 0, \"legends\": [\"High Quality\", \"Medium Quality\", \"Low Quality\"]}</script><script type=\"text/javascript\" xlink:href=\"https://kozea.github.io/pygal.js/2.0.x/pygal-tooltips.min.js\" /></defs><title>Wines by Quality</title><g class=\"graph pie-graph vertical\"><rect class=\"background\" height=\"360\" width=\"640\" x=\"0\" y=\"0\" /><g class=\"plot\" transform=\"translate(159, 46)\"><rect class=\"background\" height=\"294\" width=\"460.4\" x=\"0\" y=\"0\" /><g class=\"series serie-0 color-0\"><g class=\"slices\"><g class=\"slice\"><path class=\"slice reactive tooltip-trigger\" d=\"M230.200000 14.700000 A132.300000 132.300000 0 0 1 329.828912 59.951910 L230.200000 147.000000 A0.000000 0.000000 0 0 0 230.200000 147.000000 z\" /><desc class=\"value\">217</desc><desc class=\"x centered\">257.55604987559275</desc><desc class=\"y centered\">86.77152637494386</desc></g></g></g><g class=\"series serie-1 color-1\"><g class=\"slices\"><g class=\"slice\"><path class=\"slice reactive tooltip-trigger\" d=\"M329.828912 59.951910 A132.300000 132.300000 0 1 1 197.781953 18.733246 L230.200000 147.000000 A0.000000 0.000000 0 1 0 230.200000 147.000000 z\" /><desc class=\"value\">1319</desc><desc class=\"x centered\">210.48915494217687</desc><desc class=\"y centered\">210.14511134764504</desc></g></g></g><g class=\"series serie-2 color-2\"><g class=\"slices\"><g class=\"slice\"><path class=\"slice reactive tooltip-trigger\" d=\"M197.781953 18.733246 A132.300000 132.300000 0 0 1 230.200000 14.700000 L230.200000 147.000000 A0.000000 0.000000 0 0 0 230.200000 147.000000 z\" /><desc class=\"value\">63</desc><desc class=\"x centered\">222.03300523456736</desc><desc class=\"y centered\">81.35609170302703</desc></g></g></g></g><g class=\"titles\"><text class=\"title plot_title\" x=\"320.0\" y=\"26\">Wines by Quality</text></g><g class=\"plot overlay\" transform=\"translate(159, 46)\"><g class=\"series serie-0 color-0\" /><g class=\"series serie-1 color-1\" /><g class=\"series serie-2 color-2\" /></g><g class=\"plot text-overlay\" transform=\"translate(159, 46)\"><g class=\"series serie-0 color-0\" /><g class=\"series serie-1 color-1\" /><g class=\"series serie-2 color-2\" /></g><g class=\"plot tooltip-overlay\" transform=\"translate(159, 46)\"><g class=\"tooltip\" style=\"opacity: 0\" transform=\"translate(0 0)\"><rect class=\"tooltip-box\" height=\"0\" rx=\"0\" ry=\"0\" width=\"0\" /><g class=\"text\" /></g></g><g class=\"legends\" transform=\"translate(10, 56)\"><g class=\"legend reactive activate-serie\" id=\"activate-serie-0\"><rect class=\"color-0 reactive\" height=\"12\" width=\"12\" x=\"0.0\" y=\"1.0\" /><text x=\"17.0\" y=\"11.2\">High Quality</text></g><g class=\"legend reactive activate-serie\" id=\"activate-serie-1\"><rect class=\"color-1 reactive\" height=\"12\" width=\"12\" x=\"0.0\" y=\"22.0\" /><text x=\"17.0\" y=\"32.2\">Medium Quality</text></g><g class=\"legend reactive activate-serie\" id=\"activate-serie-2\"><rect class=\"color-2 reactive\" height=\"12\" width=\"12\" x=\"0.0\" y=\"43.0\" /><text x=\"17.0\" y=\"53.2\">Low Quality</text></g></g><g class=\"legends\" transform=\"translate(630, 56)\" /></g></svg>\n",
       "    </figure>\n",
       "  </body>\n",
       "</html>\n"
      ],
      "text/plain": [
       "<IPython.core.display.HTML object>"
      ]
     },
     "metadata": {},
     "output_type": "display_data"
    }
   ],
   "source": [
    "display_chart(pie_chart)"
   ]
  },
  {
   "cell_type": "code",
   "execution_count": 20,
   "metadata": {},
   "outputs": [],
   "source": [
    "pie_chart = pygal.Pie(width = 640,\n",
    "                      height = 360,\n",
    "                      explicit_size = True,\n",
    "                      style = DarkStyle,\n",
    "                      inner_radius = .5)"
   ]
  },
  {
   "cell_type": "code",
   "execution_count": 21,
   "metadata": {},
   "outputs": [
    {
     "data": {
      "text/html": [
       "\n",
       "<!DOCTYPE html>\n",
       "<html>\n",
       "  <head>\n",
       "  <script type=\"text/javascript\" \n",
       "          src=\"http://kozea.github.com/pygal.js/javascripts/svg.jquery.js\">\n",
       "  </script>\n",
       "  <script type=\"text/javascript\" \n",
       "          src=\"https://kozea.github.io/pygal.js/2.0.x/pygal-tooltips.min.js\"\">\n",
       "  </script>\n",
       "  </head>\n",
       "  <body>\n",
       "    <figure>\n",
       "      <?xml version='1.0' encoding='utf-8'?>\n",
       "<svg xmlns:xlink=\"http://www.w3.org/1999/xlink\" class=\"pygal-chart\" height=\"360\" id=\"chart-40e3d203-8267-4b91-b809-ffee4e695cfc\" viewBox=\"0 0 640 360\" width=\"640\" xmlns=\"http://www.w3.org/2000/svg\"><!--Generated with pygal 2.4.0 (etree) ©Kozea 2012-2016 on 2020-05-03--><!--http://pygal.org--><!--http://github.com/Kozea/pygal--><defs><style type=\"text/css\">#chart-40e3d203-8267-4b91-b809-ffee4e695cfc{-webkit-user-select:none;-webkit-font-smoothing:antialiased;font-family:Consolas,\"Liberation Mono\",Menlo,Courier,monospace}#chart-40e3d203-8267-4b91-b809-ffee4e695cfc .title{font-family:Consolas,\"Liberation Mono\",Menlo,Courier,monospace;font-size:16px}#chart-40e3d203-8267-4b91-b809-ffee4e695cfc .legends .legend text{font-family:Consolas,\"Liberation Mono\",Menlo,Courier,monospace;font-size:14px}#chart-40e3d203-8267-4b91-b809-ffee4e695cfc .axis text{font-family:Consolas,\"Liberation Mono\",Menlo,Courier,monospace;font-size:10px}#chart-40e3d203-8267-4b91-b809-ffee4e695cfc .axis text.major{font-family:Consolas,\"Liberation Mono\",Menlo,Courier,monospace;font-size:10px}#chart-40e3d203-8267-4b91-b809-ffee4e695cfc .text-overlay text.value{font-family:Consolas,\"Liberation Mono\",Menlo,Courier,monospace;font-size:16px}#chart-40e3d203-8267-4b91-b809-ffee4e695cfc .text-overlay text.label{font-family:Consolas,\"Liberation Mono\",Menlo,Courier,monospace;font-size:10px}#chart-40e3d203-8267-4b91-b809-ffee4e695cfc .tooltip{font-family:Consolas,\"Liberation Mono\",Menlo,Courier,monospace;font-size:14px}#chart-40e3d203-8267-4b91-b809-ffee4e695cfc text.no_data{font-family:Consolas,\"Liberation Mono\",Menlo,Courier,monospace;font-size:64px}\n",
       "#chart-40e3d203-8267-4b91-b809-ffee4e695cfc{background-color:black}#chart-40e3d203-8267-4b91-b809-ffee4e695cfc path,#chart-40e3d203-8267-4b91-b809-ffee4e695cfc line,#chart-40e3d203-8267-4b91-b809-ffee4e695cfc rect,#chart-40e3d203-8267-4b91-b809-ffee4e695cfc circle{-webkit-transition:250ms;-moz-transition:250ms;transition:250ms}#chart-40e3d203-8267-4b91-b809-ffee4e695cfc .graph &gt; .background{fill:black}#chart-40e3d203-8267-4b91-b809-ffee4e695cfc .plot &gt; .background{fill:#111}#chart-40e3d203-8267-4b91-b809-ffee4e695cfc .graph{fill:#999}#chart-40e3d203-8267-4b91-b809-ffee4e695cfc text.no_data{fill:#eee}#chart-40e3d203-8267-4b91-b809-ffee4e695cfc .title{fill:#eee}#chart-40e3d203-8267-4b91-b809-ffee4e695cfc .legends .legend text{fill:#999}#chart-40e3d203-8267-4b91-b809-ffee4e695cfc .legends .legend:hover text{fill:#eee}#chart-40e3d203-8267-4b91-b809-ffee4e695cfc .axis .line{stroke:#eee}#chart-40e3d203-8267-4b91-b809-ffee4e695cfc .axis .guide.line{stroke:#555}#chart-40e3d203-8267-4b91-b809-ffee4e695cfc .axis .major.line{stroke:#999}#chart-40e3d203-8267-4b91-b809-ffee4e695cfc .axis text.major{fill:#eee}#chart-40e3d203-8267-4b91-b809-ffee4e695cfc .axis.y .guides:hover .guide.line,#chart-40e3d203-8267-4b91-b809-ffee4e695cfc .line-graph .axis.x .guides:hover .guide.line,#chart-40e3d203-8267-4b91-b809-ffee4e695cfc .stackedline-graph .axis.x .guides:hover .guide.line,#chart-40e3d203-8267-4b91-b809-ffee4e695cfc .xy-graph .axis.x .guides:hover .guide.line{stroke:#eee}#chart-40e3d203-8267-4b91-b809-ffee4e695cfc .axis .guides:hover text{fill:#eee}#chart-40e3d203-8267-4b91-b809-ffee4e695cfc .reactive{fill-opacity:.8;stroke-opacity:.8}#chart-40e3d203-8267-4b91-b809-ffee4e695cfc .ci{stroke:#999}#chart-40e3d203-8267-4b91-b809-ffee4e695cfc .reactive.active,#chart-40e3d203-8267-4b91-b809-ffee4e695cfc .active .reactive{fill-opacity:.4;stroke-opacity:.9;stroke-width:4}#chart-40e3d203-8267-4b91-b809-ffee4e695cfc .ci .reactive.active{stroke-width:1.5}#chart-40e3d203-8267-4b91-b809-ffee4e695cfc .series text{fill:#eee}#chart-40e3d203-8267-4b91-b809-ffee4e695cfc .tooltip rect{fill:#111;stroke:#eee;-webkit-transition:opacity 250ms;-moz-transition:opacity 250ms;transition:opacity 250ms}#chart-40e3d203-8267-4b91-b809-ffee4e695cfc .tooltip .label{fill:#999}#chart-40e3d203-8267-4b91-b809-ffee4e695cfc .tooltip .label{fill:#999}#chart-40e3d203-8267-4b91-b809-ffee4e695cfc .tooltip .legend{font-size:.8em;fill:#555}#chart-40e3d203-8267-4b91-b809-ffee4e695cfc .tooltip .x_label{font-size:.6em;fill:#eee}#chart-40e3d203-8267-4b91-b809-ffee4e695cfc .tooltip .xlink{font-size:.5em;text-decoration:underline}#chart-40e3d203-8267-4b91-b809-ffee4e695cfc .tooltip .value{font-size:1.5em}#chart-40e3d203-8267-4b91-b809-ffee4e695cfc .bound{font-size:.5em}#chart-40e3d203-8267-4b91-b809-ffee4e695cfc .max-value{font-size:.75em;fill:#555}#chart-40e3d203-8267-4b91-b809-ffee4e695cfc .map-element{fill:#111;stroke:#555 !important}#chart-40e3d203-8267-4b91-b809-ffee4e695cfc .map-element .reactive{fill-opacity:inherit;stroke-opacity:inherit}#chart-40e3d203-8267-4b91-b809-ffee4e695cfc .color-0,#chart-40e3d203-8267-4b91-b809-ffee4e695cfc .color-0 a:visited{stroke:#ff5995;fill:#ff5995}#chart-40e3d203-8267-4b91-b809-ffee4e695cfc .color-1,#chart-40e3d203-8267-4b91-b809-ffee4e695cfc .color-1 a:visited{stroke:#b6e354;fill:#b6e354}#chart-40e3d203-8267-4b91-b809-ffee4e695cfc .color-2,#chart-40e3d203-8267-4b91-b809-ffee4e695cfc .color-2 a:visited{stroke:#feed6c;fill:#feed6c}#chart-40e3d203-8267-4b91-b809-ffee4e695cfc .text-overlay .color-0 text{fill:black}#chart-40e3d203-8267-4b91-b809-ffee4e695cfc .text-overlay .color-1 text{fill:black}#chart-40e3d203-8267-4b91-b809-ffee4e695cfc .text-overlay .color-2 text{fill:black}\n",
       "#chart-40e3d203-8267-4b91-b809-ffee4e695cfc text.no_data{text-anchor:middle}#chart-40e3d203-8267-4b91-b809-ffee4e695cfc .guide.line{fill:none}#chart-40e3d203-8267-4b91-b809-ffee4e695cfc .centered{text-anchor:middle}#chart-40e3d203-8267-4b91-b809-ffee4e695cfc .title{text-anchor:middle}#chart-40e3d203-8267-4b91-b809-ffee4e695cfc .legends .legend text{fill-opacity:1}#chart-40e3d203-8267-4b91-b809-ffee4e695cfc .axis.x text{text-anchor:middle}#chart-40e3d203-8267-4b91-b809-ffee4e695cfc .axis.x:not(.web) text[transform]{text-anchor:start}#chart-40e3d203-8267-4b91-b809-ffee4e695cfc .axis.x:not(.web) text[transform].backwards{text-anchor:end}#chart-40e3d203-8267-4b91-b809-ffee4e695cfc .axis.y text{text-anchor:end}#chart-40e3d203-8267-4b91-b809-ffee4e695cfc .axis.y text[transform].backwards{text-anchor:start}#chart-40e3d203-8267-4b91-b809-ffee4e695cfc .axis.y2 text{text-anchor:start}#chart-40e3d203-8267-4b91-b809-ffee4e695cfc .axis.y2 text[transform].backwards{text-anchor:end}#chart-40e3d203-8267-4b91-b809-ffee4e695cfc .axis .guide.line{stroke-dasharray:4,4}#chart-40e3d203-8267-4b91-b809-ffee4e695cfc .axis .major.guide.line{stroke-dasharray:6,6}#chart-40e3d203-8267-4b91-b809-ffee4e695cfc .horizontal .axis.y .guide.line,#chart-40e3d203-8267-4b91-b809-ffee4e695cfc .horizontal .axis.y2 .guide.line,#chart-40e3d203-8267-4b91-b809-ffee4e695cfc .vertical .axis.x .guide.line{opacity:0}#chart-40e3d203-8267-4b91-b809-ffee4e695cfc .horizontal .axis.always_show .guide.line,#chart-40e3d203-8267-4b91-b809-ffee4e695cfc .vertical .axis.always_show .guide.line{opacity:1 !important}#chart-40e3d203-8267-4b91-b809-ffee4e695cfc .axis.y .guides:hover .guide.line,#chart-40e3d203-8267-4b91-b809-ffee4e695cfc .axis.y2 .guides:hover .guide.line,#chart-40e3d203-8267-4b91-b809-ffee4e695cfc .axis.x .guides:hover .guide.line{opacity:1}#chart-40e3d203-8267-4b91-b809-ffee4e695cfc .axis .guides:hover text{opacity:1}#chart-40e3d203-8267-4b91-b809-ffee4e695cfc .nofill{fill:none}#chart-40e3d203-8267-4b91-b809-ffee4e695cfc .subtle-fill{fill-opacity:.2}#chart-40e3d203-8267-4b91-b809-ffee4e695cfc .dot{stroke-width:1px;fill-opacity:1}#chart-40e3d203-8267-4b91-b809-ffee4e695cfc .dot.active{stroke-width:5px}#chart-40e3d203-8267-4b91-b809-ffee4e695cfc .dot.negative{fill:transparent}#chart-40e3d203-8267-4b91-b809-ffee4e695cfc text,#chart-40e3d203-8267-4b91-b809-ffee4e695cfc tspan{stroke:none !important}#chart-40e3d203-8267-4b91-b809-ffee4e695cfc .series text.active{opacity:1}#chart-40e3d203-8267-4b91-b809-ffee4e695cfc .tooltip rect{fill-opacity:.95;stroke-width:.5}#chart-40e3d203-8267-4b91-b809-ffee4e695cfc .tooltip text{fill-opacity:1}#chart-40e3d203-8267-4b91-b809-ffee4e695cfc .showable{visibility:hidden}#chart-40e3d203-8267-4b91-b809-ffee4e695cfc .showable.shown{visibility:visible}#chart-40e3d203-8267-4b91-b809-ffee4e695cfc .gauge-background{fill:rgba(229,229,229,1);stroke:none}#chart-40e3d203-8267-4b91-b809-ffee4e695cfc .bg-lines{stroke:black;stroke-width:2px}</style><script type=\"text/javascript\">window.pygal = window.pygal || {};window.pygal.config = window.pygal.config || {};window.pygal.config['40e3d203-8267-4b91-b809-ffee4e695cfc'] = {\"allow_interruptions\": false, \"box_mode\": \"extremes\", \"classes\": [\"pygal-chart\"], \"css\": [\"file://style.css\", \"file://graph.css\"], \"defs\": [], \"disable_xml_declaration\": false, \"dots_size\": 2.5, \"dynamic_print_values\": false, \"explicit_size\": true, \"fill\": false, \"force_uri_protocol\": \"https\", \"formatter\": null, \"half_pie\": false, \"height\": 360, \"include_x_axis\": false, \"inner_radius\": 0.5, \"interpolate\": null, \"interpolation_parameters\": {}, \"interpolation_precision\": 250, \"inverse_y_axis\": false, \"js\": [\"//kozea.github.io/pygal.js/2.0.x/pygal-tooltips.min.js\"], \"legend_at_bottom\": false, \"legend_at_bottom_columns\": null, \"legend_box_size\": 12, \"logarithmic\": false, \"margin\": 20, \"margin_bottom\": null, \"margin_left\": null, \"margin_right\": null, \"margin_top\": null, \"max_scale\": 16, \"min_scale\": 4, \"missing_value_fill_truncation\": \"x\", \"no_data_text\": \"No data\", \"no_prefix\": false, \"order_min\": null, \"pretty_print\": false, \"print_labels\": false, \"print_values\": false, \"print_values_position\": \"center\", \"print_zeroes\": true, \"range\": null, \"rounded_bars\": null, \"secondary_range\": null, \"show_dots\": true, \"show_legend\": true, \"show_minor_x_labels\": true, \"show_minor_y_labels\": true, \"show_only_major_dots\": false, \"show_x_guides\": false, \"show_x_labels\": true, \"show_y_guides\": true, \"show_y_labels\": true, \"spacing\": 10, \"stack_from_top\": false, \"strict\": false, \"stroke\": true, \"stroke_style\": null, \"style\": {\"background\": \"black\", \"ci_colors\": [], \"colors\": [\"#ff5995\", \"#b6e354\", \"#feed6c\", \"#8cedff\", \"#9e6ffe\", \"#899ca1\", \"#f8f8f2\", \"#bf4646\", \"#516083\", \"#f92672\", \"#82b414\", \"#fd971f\", \"#56c2d6\", \"#808384\", \"#8c54fe\", \"#465457\"], \"font_family\": \"Consolas, \\\"Liberation Mono\\\", Menlo, Courier, monospace\", \"foreground\": \"#999\", \"foreground_strong\": \"#eee\", \"foreground_subtle\": \"#555\", \"guide_stroke_dasharray\": \"4,4\", \"label_font_family\": \"Consolas, \\\"Liberation Mono\\\", Menlo, Courier, monospace\", \"label_font_size\": 10, \"legend_font_family\": \"Consolas, \\\"Liberation Mono\\\", Menlo, Courier, monospace\", \"legend_font_size\": 14, \"major_guide_stroke_dasharray\": \"6,6\", \"major_label_font_family\": \"Consolas, \\\"Liberation Mono\\\", Menlo, Courier, monospace\", \"major_label_font_size\": 10, \"no_data_font_family\": \"Consolas, \\\"Liberation Mono\\\", Menlo, Courier, monospace\", \"no_data_font_size\": 64, \"opacity\": \".8\", \"opacity_hover\": \".4\", \"plot_background\": \"#111\", \"stroke_opacity\": \".8\", \"stroke_opacity_hover\": \".9\", \"title_font_family\": \"Consolas, \\\"Liberation Mono\\\", Menlo, Courier, monospace\", \"title_font_size\": 16, \"tooltip_font_family\": \"Consolas, \\\"Liberation Mono\\\", Menlo, Courier, monospace\", \"tooltip_font_size\": 14, \"transition\": \"250ms\", \"value_background\": \"rgba(229, 229, 229, 1)\", \"value_colors\": [], \"value_font_family\": \"Consolas, \\\"Liberation Mono\\\", Menlo, Courier, monospace\", \"value_font_size\": 16, \"value_label_font_family\": \"Consolas, \\\"Liberation Mono\\\", Menlo, Courier, monospace\", \"value_label_font_size\": 10}, \"title\": \"Wines by Quality\", \"tooltip_border_radius\": 0, \"tooltip_fancy_mode\": true, \"truncate_label\": null, \"truncate_legend\": null, \"width\": 640, \"x_label_rotation\": 0, \"x_labels\": null, \"x_labels_major\": null, \"x_labels_major_count\": null, \"x_labels_major_every\": null, \"x_title\": null, \"xrange\": null, \"y_label_rotation\": 0, \"y_labels\": null, \"y_labels_major\": null, \"y_labels_major_count\": null, \"y_labels_major_every\": null, \"y_title\": null, \"zero\": 0, \"legends\": [\"High Quality\", \"Medium Quality\", \"Low Quality\"]}</script><script type=\"text/javascript\" xlink:href=\"https://kozea.github.io/pygal.js/2.0.x/pygal-tooltips.min.js\" /></defs><title>Wines by Quality</title><g class=\"graph pie-graph vertical\"><rect class=\"background\" height=\"360\" width=\"640\" x=\"0\" y=\"0\" /><g class=\"plot\" transform=\"translate(159, 46)\"><rect class=\"background\" height=\"294\" width=\"460.4\" x=\"0\" y=\"0\" /><g class=\"series serie-0 color-0\"><g class=\"slices\"><g class=\"slice\"><path class=\"slice reactive tooltip-trigger\" d=\"M230.200000 14.700000 A132.300000 132.300000 0 0 1 329.828912 59.951910 L285.549395 98.639950 A73.500000 73.500000 0 0 0 230.200000 73.500000 z\" /><desc class=\"value\">217</desc><desc class=\"x centered\">272.75385536203316</desc><desc class=\"y centered\">53.311263249912685</desc></g></g></g><g class=\"series serie-1 color-1\"><g class=\"slices\"><g class=\"slice\"><path class=\"slice reactive tooltip-trigger\" d=\"M329.828912 59.951910 A132.300000 132.300000 0 1 1 197.781953 18.733246 L212.189974 75.740692 A73.500000 73.500000 0 1 0 285.549395 98.639950 z\" /><desc class=\"value\">1319</desc><desc class=\"x centered\">199.53868546560844</desc><desc class=\"y centered\">245.2257287630034</desc></g></g></g><g class=\"series serie-2 color-2\"><g class=\"slices\"><g class=\"slice\"><path class=\"slice reactive tooltip-trigger\" d=\"M197.781953 18.733246 A132.300000 132.300000 0 0 1 230.200000 14.700000 L230.200000 73.500000 A73.500000 73.500000 0 0 0 212.189974 75.740692 z\" /><desc class=\"value\">63</desc><desc class=\"x centered\">217.49578592043812</desc><desc class=\"y centered\">44.88725376026427</desc></g></g></g></g><g class=\"titles\"><text class=\"title plot_title\" x=\"320.0\" y=\"26\">Wines by Quality</text></g><g class=\"plot overlay\" transform=\"translate(159, 46)\"><g class=\"series serie-0 color-0\" /><g class=\"series serie-1 color-1\" /><g class=\"series serie-2 color-2\" /></g><g class=\"plot text-overlay\" transform=\"translate(159, 46)\"><g class=\"series serie-0 color-0\" /><g class=\"series serie-1 color-1\" /><g class=\"series serie-2 color-2\" /></g><g class=\"plot tooltip-overlay\" transform=\"translate(159, 46)\"><g class=\"tooltip\" style=\"opacity: 0\" transform=\"translate(0 0)\"><rect class=\"tooltip-box\" height=\"0\" rx=\"0\" ry=\"0\" width=\"0\" /><g class=\"text\" /></g></g><g class=\"legends\" transform=\"translate(10, 56)\"><g class=\"legend reactive activate-serie\" id=\"activate-serie-0\"><rect class=\"color-0 reactive\" height=\"12\" width=\"12\" x=\"0.0\" y=\"1.0\" /><text x=\"17.0\" y=\"11.2\">High Quality</text></g><g class=\"legend reactive activate-serie\" id=\"activate-serie-1\"><rect class=\"color-1 reactive\" height=\"12\" width=\"12\" x=\"0.0\" y=\"22.0\" /><text x=\"17.0\" y=\"32.2\">Medium Quality</text></g><g class=\"legend reactive activate-serie\" id=\"activate-serie-2\"><rect class=\"color-2 reactive\" height=\"12\" width=\"12\" x=\"0.0\" y=\"43.0\" /><text x=\"17.0\" y=\"53.2\">Low Quality</text></g></g><g class=\"legends\" transform=\"translate(630, 56)\" /></g></svg>\n",
       "    </figure>\n",
       "  </body>\n",
       "</html>\n"
      ],
      "text/plain": [
       "<IPython.core.display.HTML object>"
      ]
     },
     "metadata": {},
     "output_type": "display_data"
    }
   ],
   "source": [
    "pie_chart.title = 'Wines by Quality'\n",
    "\n",
    "pie_chart.add('High Quality', num_high_quality)\n",
    "pie_chart.add('Medium Quality', num_med_quality)\n",
    "pie_chart.add('Low Quality', num_low_quality)\n",
    "\n",
    "display_chart(pie_chart)"
   ]
  },
  {
   "cell_type": "code",
   "execution_count": 22,
   "metadata": {},
   "outputs": [],
   "source": [
    "pie_chart = pygal.Pie(width = 640,\n",
    "                      height = 360,\n",
    "                      explicit_size = True,\n",
    "                      style = DarkStyle,\n",
    "                      half_pie = True)"
   ]
  },
  {
   "cell_type": "code",
   "execution_count": 23,
   "metadata": {},
   "outputs": [
    {
     "data": {
      "text/html": [
       "\n",
       "<!DOCTYPE html>\n",
       "<html>\n",
       "  <head>\n",
       "  <script type=\"text/javascript\" \n",
       "          src=\"http://kozea.github.com/pygal.js/javascripts/svg.jquery.js\">\n",
       "  </script>\n",
       "  <script type=\"text/javascript\" \n",
       "          src=\"https://kozea.github.io/pygal.js/2.0.x/pygal-tooltips.min.js\"\">\n",
       "  </script>\n",
       "  </head>\n",
       "  <body>\n",
       "    <figure>\n",
       "      <?xml version='1.0' encoding='utf-8'?>\n",
       "<svg xmlns:xlink=\"http://www.w3.org/1999/xlink\" class=\"pygal-chart\" height=\"360\" id=\"chart-4699ea74-3c64-4e3f-bbfb-9d411ff0bb66\" viewBox=\"0 0 640 360\" width=\"640\" xmlns=\"http://www.w3.org/2000/svg\"><!--Generated with pygal 2.4.0 (etree) ©Kozea 2012-2016 on 2020-05-03--><!--http://pygal.org--><!--http://github.com/Kozea/pygal--><defs><style type=\"text/css\">#chart-4699ea74-3c64-4e3f-bbfb-9d411ff0bb66{-webkit-user-select:none;-webkit-font-smoothing:antialiased;font-family:Consolas,\"Liberation Mono\",Menlo,Courier,monospace}#chart-4699ea74-3c64-4e3f-bbfb-9d411ff0bb66 .title{font-family:Consolas,\"Liberation Mono\",Menlo,Courier,monospace;font-size:16px}#chart-4699ea74-3c64-4e3f-bbfb-9d411ff0bb66 .legends .legend text{font-family:Consolas,\"Liberation Mono\",Menlo,Courier,monospace;font-size:14px}#chart-4699ea74-3c64-4e3f-bbfb-9d411ff0bb66 .axis text{font-family:Consolas,\"Liberation Mono\",Menlo,Courier,monospace;font-size:10px}#chart-4699ea74-3c64-4e3f-bbfb-9d411ff0bb66 .axis text.major{font-family:Consolas,\"Liberation Mono\",Menlo,Courier,monospace;font-size:10px}#chart-4699ea74-3c64-4e3f-bbfb-9d411ff0bb66 .text-overlay text.value{font-family:Consolas,\"Liberation Mono\",Menlo,Courier,monospace;font-size:16px}#chart-4699ea74-3c64-4e3f-bbfb-9d411ff0bb66 .text-overlay text.label{font-family:Consolas,\"Liberation Mono\",Menlo,Courier,monospace;font-size:10px}#chart-4699ea74-3c64-4e3f-bbfb-9d411ff0bb66 .tooltip{font-family:Consolas,\"Liberation Mono\",Menlo,Courier,monospace;font-size:14px}#chart-4699ea74-3c64-4e3f-bbfb-9d411ff0bb66 text.no_data{font-family:Consolas,\"Liberation Mono\",Menlo,Courier,monospace;font-size:64px}\n",
       "#chart-4699ea74-3c64-4e3f-bbfb-9d411ff0bb66{background-color:black}#chart-4699ea74-3c64-4e3f-bbfb-9d411ff0bb66 path,#chart-4699ea74-3c64-4e3f-bbfb-9d411ff0bb66 line,#chart-4699ea74-3c64-4e3f-bbfb-9d411ff0bb66 rect,#chart-4699ea74-3c64-4e3f-bbfb-9d411ff0bb66 circle{-webkit-transition:250ms;-moz-transition:250ms;transition:250ms}#chart-4699ea74-3c64-4e3f-bbfb-9d411ff0bb66 .graph &gt; .background{fill:black}#chart-4699ea74-3c64-4e3f-bbfb-9d411ff0bb66 .plot &gt; .background{fill:#111}#chart-4699ea74-3c64-4e3f-bbfb-9d411ff0bb66 .graph{fill:#999}#chart-4699ea74-3c64-4e3f-bbfb-9d411ff0bb66 text.no_data{fill:#eee}#chart-4699ea74-3c64-4e3f-bbfb-9d411ff0bb66 .title{fill:#eee}#chart-4699ea74-3c64-4e3f-bbfb-9d411ff0bb66 .legends .legend text{fill:#999}#chart-4699ea74-3c64-4e3f-bbfb-9d411ff0bb66 .legends .legend:hover text{fill:#eee}#chart-4699ea74-3c64-4e3f-bbfb-9d411ff0bb66 .axis .line{stroke:#eee}#chart-4699ea74-3c64-4e3f-bbfb-9d411ff0bb66 .axis .guide.line{stroke:#555}#chart-4699ea74-3c64-4e3f-bbfb-9d411ff0bb66 .axis .major.line{stroke:#999}#chart-4699ea74-3c64-4e3f-bbfb-9d411ff0bb66 .axis text.major{fill:#eee}#chart-4699ea74-3c64-4e3f-bbfb-9d411ff0bb66 .axis.y .guides:hover .guide.line,#chart-4699ea74-3c64-4e3f-bbfb-9d411ff0bb66 .line-graph .axis.x .guides:hover .guide.line,#chart-4699ea74-3c64-4e3f-bbfb-9d411ff0bb66 .stackedline-graph .axis.x .guides:hover .guide.line,#chart-4699ea74-3c64-4e3f-bbfb-9d411ff0bb66 .xy-graph .axis.x .guides:hover .guide.line{stroke:#eee}#chart-4699ea74-3c64-4e3f-bbfb-9d411ff0bb66 .axis .guides:hover text{fill:#eee}#chart-4699ea74-3c64-4e3f-bbfb-9d411ff0bb66 .reactive{fill-opacity:.8;stroke-opacity:.8}#chart-4699ea74-3c64-4e3f-bbfb-9d411ff0bb66 .ci{stroke:#999}#chart-4699ea74-3c64-4e3f-bbfb-9d411ff0bb66 .reactive.active,#chart-4699ea74-3c64-4e3f-bbfb-9d411ff0bb66 .active .reactive{fill-opacity:.4;stroke-opacity:.9;stroke-width:4}#chart-4699ea74-3c64-4e3f-bbfb-9d411ff0bb66 .ci .reactive.active{stroke-width:1.5}#chart-4699ea74-3c64-4e3f-bbfb-9d411ff0bb66 .series text{fill:#eee}#chart-4699ea74-3c64-4e3f-bbfb-9d411ff0bb66 .tooltip rect{fill:#111;stroke:#eee;-webkit-transition:opacity 250ms;-moz-transition:opacity 250ms;transition:opacity 250ms}#chart-4699ea74-3c64-4e3f-bbfb-9d411ff0bb66 .tooltip .label{fill:#999}#chart-4699ea74-3c64-4e3f-bbfb-9d411ff0bb66 .tooltip .label{fill:#999}#chart-4699ea74-3c64-4e3f-bbfb-9d411ff0bb66 .tooltip .legend{font-size:.8em;fill:#555}#chart-4699ea74-3c64-4e3f-bbfb-9d411ff0bb66 .tooltip .x_label{font-size:.6em;fill:#eee}#chart-4699ea74-3c64-4e3f-bbfb-9d411ff0bb66 .tooltip .xlink{font-size:.5em;text-decoration:underline}#chart-4699ea74-3c64-4e3f-bbfb-9d411ff0bb66 .tooltip .value{font-size:1.5em}#chart-4699ea74-3c64-4e3f-bbfb-9d411ff0bb66 .bound{font-size:.5em}#chart-4699ea74-3c64-4e3f-bbfb-9d411ff0bb66 .max-value{font-size:.75em;fill:#555}#chart-4699ea74-3c64-4e3f-bbfb-9d411ff0bb66 .map-element{fill:#111;stroke:#555 !important}#chart-4699ea74-3c64-4e3f-bbfb-9d411ff0bb66 .map-element .reactive{fill-opacity:inherit;stroke-opacity:inherit}#chart-4699ea74-3c64-4e3f-bbfb-9d411ff0bb66 .color-0,#chart-4699ea74-3c64-4e3f-bbfb-9d411ff0bb66 .color-0 a:visited{stroke:#ff5995;fill:#ff5995}#chart-4699ea74-3c64-4e3f-bbfb-9d411ff0bb66 .color-1,#chart-4699ea74-3c64-4e3f-bbfb-9d411ff0bb66 .color-1 a:visited{stroke:#b6e354;fill:#b6e354}#chart-4699ea74-3c64-4e3f-bbfb-9d411ff0bb66 .color-2,#chart-4699ea74-3c64-4e3f-bbfb-9d411ff0bb66 .color-2 a:visited{stroke:#feed6c;fill:#feed6c}#chart-4699ea74-3c64-4e3f-bbfb-9d411ff0bb66 .text-overlay .color-0 text{fill:black}#chart-4699ea74-3c64-4e3f-bbfb-9d411ff0bb66 .text-overlay .color-1 text{fill:black}#chart-4699ea74-3c64-4e3f-bbfb-9d411ff0bb66 .text-overlay .color-2 text{fill:black}\n",
       "#chart-4699ea74-3c64-4e3f-bbfb-9d411ff0bb66 text.no_data{text-anchor:middle}#chart-4699ea74-3c64-4e3f-bbfb-9d411ff0bb66 .guide.line{fill:none}#chart-4699ea74-3c64-4e3f-bbfb-9d411ff0bb66 .centered{text-anchor:middle}#chart-4699ea74-3c64-4e3f-bbfb-9d411ff0bb66 .title{text-anchor:middle}#chart-4699ea74-3c64-4e3f-bbfb-9d411ff0bb66 .legends .legend text{fill-opacity:1}#chart-4699ea74-3c64-4e3f-bbfb-9d411ff0bb66 .axis.x text{text-anchor:middle}#chart-4699ea74-3c64-4e3f-bbfb-9d411ff0bb66 .axis.x:not(.web) text[transform]{text-anchor:start}#chart-4699ea74-3c64-4e3f-bbfb-9d411ff0bb66 .axis.x:not(.web) text[transform].backwards{text-anchor:end}#chart-4699ea74-3c64-4e3f-bbfb-9d411ff0bb66 .axis.y text{text-anchor:end}#chart-4699ea74-3c64-4e3f-bbfb-9d411ff0bb66 .axis.y text[transform].backwards{text-anchor:start}#chart-4699ea74-3c64-4e3f-bbfb-9d411ff0bb66 .axis.y2 text{text-anchor:start}#chart-4699ea74-3c64-4e3f-bbfb-9d411ff0bb66 .axis.y2 text[transform].backwards{text-anchor:end}#chart-4699ea74-3c64-4e3f-bbfb-9d411ff0bb66 .axis .guide.line{stroke-dasharray:4,4}#chart-4699ea74-3c64-4e3f-bbfb-9d411ff0bb66 .axis .major.guide.line{stroke-dasharray:6,6}#chart-4699ea74-3c64-4e3f-bbfb-9d411ff0bb66 .horizontal .axis.y .guide.line,#chart-4699ea74-3c64-4e3f-bbfb-9d411ff0bb66 .horizontal .axis.y2 .guide.line,#chart-4699ea74-3c64-4e3f-bbfb-9d411ff0bb66 .vertical .axis.x .guide.line{opacity:0}#chart-4699ea74-3c64-4e3f-bbfb-9d411ff0bb66 .horizontal .axis.always_show .guide.line,#chart-4699ea74-3c64-4e3f-bbfb-9d411ff0bb66 .vertical .axis.always_show .guide.line{opacity:1 !important}#chart-4699ea74-3c64-4e3f-bbfb-9d411ff0bb66 .axis.y .guides:hover .guide.line,#chart-4699ea74-3c64-4e3f-bbfb-9d411ff0bb66 .axis.y2 .guides:hover .guide.line,#chart-4699ea74-3c64-4e3f-bbfb-9d411ff0bb66 .axis.x .guides:hover .guide.line{opacity:1}#chart-4699ea74-3c64-4e3f-bbfb-9d411ff0bb66 .axis .guides:hover text{opacity:1}#chart-4699ea74-3c64-4e3f-bbfb-9d411ff0bb66 .nofill{fill:none}#chart-4699ea74-3c64-4e3f-bbfb-9d411ff0bb66 .subtle-fill{fill-opacity:.2}#chart-4699ea74-3c64-4e3f-bbfb-9d411ff0bb66 .dot{stroke-width:1px;fill-opacity:1}#chart-4699ea74-3c64-4e3f-bbfb-9d411ff0bb66 .dot.active{stroke-width:5px}#chart-4699ea74-3c64-4e3f-bbfb-9d411ff0bb66 .dot.negative{fill:transparent}#chart-4699ea74-3c64-4e3f-bbfb-9d411ff0bb66 text,#chart-4699ea74-3c64-4e3f-bbfb-9d411ff0bb66 tspan{stroke:none !important}#chart-4699ea74-3c64-4e3f-bbfb-9d411ff0bb66 .series text.active{opacity:1}#chart-4699ea74-3c64-4e3f-bbfb-9d411ff0bb66 .tooltip rect{fill-opacity:.95;stroke-width:.5}#chart-4699ea74-3c64-4e3f-bbfb-9d411ff0bb66 .tooltip text{fill-opacity:1}#chart-4699ea74-3c64-4e3f-bbfb-9d411ff0bb66 .showable{visibility:hidden}#chart-4699ea74-3c64-4e3f-bbfb-9d411ff0bb66 .showable.shown{visibility:visible}#chart-4699ea74-3c64-4e3f-bbfb-9d411ff0bb66 .gauge-background{fill:rgba(229,229,229,1);stroke:none}#chart-4699ea74-3c64-4e3f-bbfb-9d411ff0bb66 .bg-lines{stroke:black;stroke-width:2px}</style><script type=\"text/javascript\">window.pygal = window.pygal || {};window.pygal.config = window.pygal.config || {};window.pygal.config['4699ea74-3c64-4e3f-bbfb-9d411ff0bb66'] = {\"allow_interruptions\": false, \"box_mode\": \"extremes\", \"classes\": [\"pygal-chart\"], \"css\": [\"file://style.css\", \"file://graph.css\"], \"defs\": [], \"disable_xml_declaration\": false, \"dots_size\": 2.5, \"dynamic_print_values\": false, \"explicit_size\": true, \"fill\": false, \"force_uri_protocol\": \"https\", \"formatter\": null, \"half_pie\": true, \"height\": 360, \"include_x_axis\": false, \"inner_radius\": 0, \"interpolate\": null, \"interpolation_parameters\": {}, \"interpolation_precision\": 250, \"inverse_y_axis\": false, \"js\": [\"//kozea.github.io/pygal.js/2.0.x/pygal-tooltips.min.js\"], \"legend_at_bottom\": false, \"legend_at_bottom_columns\": null, \"legend_box_size\": 12, \"logarithmic\": false, \"margin\": 20, \"margin_bottom\": null, \"margin_left\": null, \"margin_right\": null, \"margin_top\": null, \"max_scale\": 16, \"min_scale\": 4, \"missing_value_fill_truncation\": \"x\", \"no_data_text\": \"No data\", \"no_prefix\": false, \"order_min\": null, \"pretty_print\": false, \"print_labels\": false, \"print_values\": false, \"print_values_position\": \"center\", \"print_zeroes\": true, \"range\": null, \"rounded_bars\": null, \"secondary_range\": null, \"show_dots\": true, \"show_legend\": true, \"show_minor_x_labels\": true, \"show_minor_y_labels\": true, \"show_only_major_dots\": false, \"show_x_guides\": false, \"show_x_labels\": true, \"show_y_guides\": true, \"show_y_labels\": true, \"spacing\": 10, \"stack_from_top\": false, \"strict\": false, \"stroke\": true, \"stroke_style\": null, \"style\": {\"background\": \"black\", \"ci_colors\": [], \"colors\": [\"#ff5995\", \"#b6e354\", \"#feed6c\", \"#8cedff\", \"#9e6ffe\", \"#899ca1\", \"#f8f8f2\", \"#bf4646\", \"#516083\", \"#f92672\", \"#82b414\", \"#fd971f\", \"#56c2d6\", \"#808384\", \"#8c54fe\", \"#465457\"], \"font_family\": \"Consolas, \\\"Liberation Mono\\\", Menlo, Courier, monospace\", \"foreground\": \"#999\", \"foreground_strong\": \"#eee\", \"foreground_subtle\": \"#555\", \"guide_stroke_dasharray\": \"4,4\", \"label_font_family\": \"Consolas, \\\"Liberation Mono\\\", Menlo, Courier, monospace\", \"label_font_size\": 10, \"legend_font_family\": \"Consolas, \\\"Liberation Mono\\\", Menlo, Courier, monospace\", \"legend_font_size\": 14, \"major_guide_stroke_dasharray\": \"6,6\", \"major_label_font_family\": \"Consolas, \\\"Liberation Mono\\\", Menlo, Courier, monospace\", \"major_label_font_size\": 10, \"no_data_font_family\": \"Consolas, \\\"Liberation Mono\\\", Menlo, Courier, monospace\", \"no_data_font_size\": 64, \"opacity\": \".8\", \"opacity_hover\": \".4\", \"plot_background\": \"#111\", \"stroke_opacity\": \".8\", \"stroke_opacity_hover\": \".9\", \"title_font_family\": \"Consolas, \\\"Liberation Mono\\\", Menlo, Courier, monospace\", \"title_font_size\": 16, \"tooltip_font_family\": \"Consolas, \\\"Liberation Mono\\\", Menlo, Courier, monospace\", \"tooltip_font_size\": 14, \"transition\": \"250ms\", \"value_background\": \"rgba(229, 229, 229, 1)\", \"value_colors\": [], \"value_font_family\": \"Consolas, \\\"Liberation Mono\\\", Menlo, Courier, monospace\", \"value_font_size\": 16, \"value_label_font_family\": \"Consolas, \\\"Liberation Mono\\\", Menlo, Courier, monospace\", \"value_label_font_size\": 10}, \"title\": \"Wines by Quality\", \"tooltip_border_radius\": 0, \"tooltip_fancy_mode\": true, \"truncate_label\": null, \"truncate_legend\": null, \"width\": 640, \"x_label_rotation\": 0, \"x_labels\": null, \"x_labels_major\": null, \"x_labels_major_count\": null, \"x_labels_major_every\": null, \"x_title\": null, \"xrange\": null, \"y_label_rotation\": 0, \"y_labels\": null, \"y_labels_major\": null, \"y_labels_major_count\": null, \"y_labels_major_every\": null, \"y_title\": null, \"zero\": 0, \"legends\": [\"High Quality\", \"Medium Quality\", \"Low Quality\"]}</script><script type=\"text/javascript\" xlink:href=\"https://kozea.github.io/pygal.js/2.0.x/pygal-tooltips.min.js\" /></defs><title>Wines by Quality</title><g class=\"graph pie-graph vertical\"><rect class=\"background\" height=\"360\" width=\"640\" x=\"0\" y=\"0\" /><g class=\"plot\" transform=\"translate(159, 46)\"><rect class=\"background\" height=\"294\" width=\"460.4\" x=\"0\" y=\"0\" /><g class=\"series serie-0 color-0\"><g class=\"slices\"><g class=\"slice\"><path class=\"slice reactive tooltip-trigger\" d=\"M23.020000 235.200000 A207.180000 207.180000 0 0 1 41.566059 149.521596 L230.200000 235.200000 A0.000000 0.000000 0 0 0 230.200000 235.200000 z\" /><desc class=\"value\">217</desc><desc class=\"x centered\">128.95479505324164</desc><desc class=\"y centered\">213.28433037096747</desc></g></g></g><g class=\"series serie-1 color-1\"><g class=\"slices\"><g class=\"slice\"><path class=\"slice reactive tooltip-trigger\" d=\"M41.566059 149.521596 A207.180000 207.180000 0 0 1 435.794935 209.621195 L230.200000 235.200000 A0.000000 0.000000 0 0 0 230.200000 235.200000 z\" /><desc class=\"value\">1319</desc><desc class=\"x centered\">245.81176850353182</desc><desc class=\"y centered\">132.7931604618513</desc></g></g></g><g class=\"series serie-2 color-2\"><g class=\"slices\"><g class=\"slice\"><path class=\"slice reactive tooltip-trigger\" d=\"M435.794935 209.621195 A207.180000 207.180000 0 0 1 437.380000 235.200000 L230.200000 235.200000 A0.000000 0.000000 0 0 0 230.200000 235.200000 z\" /><desc class=\"value\">63</desc><desc class=\"x centered\">333.59167697497827</desc><desc class=\"y centered\">228.79303251906578</desc></g></g></g></g><g class=\"titles\"><text class=\"title plot_title\" x=\"320.0\" y=\"26\">Wines by Quality</text></g><g class=\"plot overlay\" transform=\"translate(159, 46)\"><g class=\"series serie-0 color-0\" /><g class=\"series serie-1 color-1\" /><g class=\"series serie-2 color-2\" /></g><g class=\"plot text-overlay\" transform=\"translate(159, 46)\"><g class=\"series serie-0 color-0\" /><g class=\"series serie-1 color-1\" /><g class=\"series serie-2 color-2\" /></g><g class=\"plot tooltip-overlay\" transform=\"translate(159, 46)\"><g class=\"tooltip\" style=\"opacity: 0\" transform=\"translate(0 0)\"><rect class=\"tooltip-box\" height=\"0\" rx=\"0\" ry=\"0\" width=\"0\" /><g class=\"text\" /></g></g><g class=\"legends\" transform=\"translate(10, 56)\"><g class=\"legend reactive activate-serie\" id=\"activate-serie-0\"><rect class=\"color-0 reactive\" height=\"12\" width=\"12\" x=\"0.0\" y=\"1.0\" /><text x=\"17.0\" y=\"11.2\">High Quality</text></g><g class=\"legend reactive activate-serie\" id=\"activate-serie-1\"><rect class=\"color-1 reactive\" height=\"12\" width=\"12\" x=\"0.0\" y=\"22.0\" /><text x=\"17.0\" y=\"32.2\">Medium Quality</text></g><g class=\"legend reactive activate-serie\" id=\"activate-serie-2\"><rect class=\"color-2 reactive\" height=\"12\" width=\"12\" x=\"0.0\" y=\"43.0\" /><text x=\"17.0\" y=\"53.2\">Low Quality</text></g></g><g class=\"legends\" transform=\"translate(630, 56)\" /></g></svg>\n",
       "    </figure>\n",
       "  </body>\n",
       "</html>\n"
      ],
      "text/plain": [
       "<IPython.core.display.HTML object>"
      ]
     },
     "metadata": {},
     "output_type": "display_data"
    }
   ],
   "source": [
    "pie_chart.title = 'Wines by Quality'\n",
    "\n",
    "pie_chart.add('High Quality', num_high_quality)\n",
    "pie_chart.add('Medium Quality', num_med_quality)\n",
    "pie_chart.add('Low Quality', num_low_quality)\n",
    "\n",
    "display_chart(pie_chart)"
   ]
  },
  {
   "cell_type": "code",
   "execution_count": 24,
   "metadata": {},
   "outputs": [],
   "source": [
    "pie_chart = pygal.Pie(width = 640,\n",
    "                      height = 360,\n",
    "                      explicit_size = True,\n",
    "                      style = DarkStyle)\n",
    "\n",
    "pie_chart.title = 'Wines by Quality'"
   ]
  },
  {
   "cell_type": "code",
   "execution_count": 25,
   "metadata": {},
   "outputs": [
    {
     "data": {
      "text/html": [
       "\n",
       "<!DOCTYPE html>\n",
       "<html>\n",
       "  <head>\n",
       "  <script type=\"text/javascript\" \n",
       "          src=\"http://kozea.github.com/pygal.js/javascripts/svg.jquery.js\">\n",
       "  </script>\n",
       "  <script type=\"text/javascript\" \n",
       "          src=\"https://kozea.github.io/pygal.js/2.0.x/pygal-tooltips.min.js\"\">\n",
       "  </script>\n",
       "  </head>\n",
       "  <body>\n",
       "    <figure>\n",
       "      <?xml version='1.0' encoding='utf-8'?>\n",
       "<svg xmlns:xlink=\"http://www.w3.org/1999/xlink\" class=\"pygal-chart\" height=\"360\" id=\"chart-b6d6b5f4-e997-4209-b6a9-90c9b2301846\" viewBox=\"0 0 640 360\" width=\"640\" xmlns=\"http://www.w3.org/2000/svg\"><!--Generated with pygal 2.4.0 (etree) ©Kozea 2012-2016 on 2020-05-03--><!--http://pygal.org--><!--http://github.com/Kozea/pygal--><defs><style type=\"text/css\">#chart-b6d6b5f4-e997-4209-b6a9-90c9b2301846{-webkit-user-select:none;-webkit-font-smoothing:antialiased;font-family:Consolas,\"Liberation Mono\",Menlo,Courier,monospace}#chart-b6d6b5f4-e997-4209-b6a9-90c9b2301846 .title{font-family:Consolas,\"Liberation Mono\",Menlo,Courier,monospace;font-size:16px}#chart-b6d6b5f4-e997-4209-b6a9-90c9b2301846 .legends .legend text{font-family:Consolas,\"Liberation Mono\",Menlo,Courier,monospace;font-size:14px}#chart-b6d6b5f4-e997-4209-b6a9-90c9b2301846 .axis text{font-family:Consolas,\"Liberation Mono\",Menlo,Courier,monospace;font-size:10px}#chart-b6d6b5f4-e997-4209-b6a9-90c9b2301846 .axis text.major{font-family:Consolas,\"Liberation Mono\",Menlo,Courier,monospace;font-size:10px}#chart-b6d6b5f4-e997-4209-b6a9-90c9b2301846 .text-overlay text.value{font-family:Consolas,\"Liberation Mono\",Menlo,Courier,monospace;font-size:16px}#chart-b6d6b5f4-e997-4209-b6a9-90c9b2301846 .text-overlay text.label{font-family:Consolas,\"Liberation Mono\",Menlo,Courier,monospace;font-size:10px}#chart-b6d6b5f4-e997-4209-b6a9-90c9b2301846 .tooltip{font-family:Consolas,\"Liberation Mono\",Menlo,Courier,monospace;font-size:14px}#chart-b6d6b5f4-e997-4209-b6a9-90c9b2301846 text.no_data{font-family:Consolas,\"Liberation Mono\",Menlo,Courier,monospace;font-size:64px}\n",
       "#chart-b6d6b5f4-e997-4209-b6a9-90c9b2301846{background-color:black}#chart-b6d6b5f4-e997-4209-b6a9-90c9b2301846 path,#chart-b6d6b5f4-e997-4209-b6a9-90c9b2301846 line,#chart-b6d6b5f4-e997-4209-b6a9-90c9b2301846 rect,#chart-b6d6b5f4-e997-4209-b6a9-90c9b2301846 circle{-webkit-transition:250ms;-moz-transition:250ms;transition:250ms}#chart-b6d6b5f4-e997-4209-b6a9-90c9b2301846 .graph &gt; .background{fill:black}#chart-b6d6b5f4-e997-4209-b6a9-90c9b2301846 .plot &gt; .background{fill:#111}#chart-b6d6b5f4-e997-4209-b6a9-90c9b2301846 .graph{fill:#999}#chart-b6d6b5f4-e997-4209-b6a9-90c9b2301846 text.no_data{fill:#eee}#chart-b6d6b5f4-e997-4209-b6a9-90c9b2301846 .title{fill:#eee}#chart-b6d6b5f4-e997-4209-b6a9-90c9b2301846 .legends .legend text{fill:#999}#chart-b6d6b5f4-e997-4209-b6a9-90c9b2301846 .legends .legend:hover text{fill:#eee}#chart-b6d6b5f4-e997-4209-b6a9-90c9b2301846 .axis .line{stroke:#eee}#chart-b6d6b5f4-e997-4209-b6a9-90c9b2301846 .axis .guide.line{stroke:#555}#chart-b6d6b5f4-e997-4209-b6a9-90c9b2301846 .axis .major.line{stroke:#999}#chart-b6d6b5f4-e997-4209-b6a9-90c9b2301846 .axis text.major{fill:#eee}#chart-b6d6b5f4-e997-4209-b6a9-90c9b2301846 .axis.y .guides:hover .guide.line,#chart-b6d6b5f4-e997-4209-b6a9-90c9b2301846 .line-graph .axis.x .guides:hover .guide.line,#chart-b6d6b5f4-e997-4209-b6a9-90c9b2301846 .stackedline-graph .axis.x .guides:hover .guide.line,#chart-b6d6b5f4-e997-4209-b6a9-90c9b2301846 .xy-graph .axis.x .guides:hover .guide.line{stroke:#eee}#chart-b6d6b5f4-e997-4209-b6a9-90c9b2301846 .axis .guides:hover text{fill:#eee}#chart-b6d6b5f4-e997-4209-b6a9-90c9b2301846 .reactive{fill-opacity:.8;stroke-opacity:.8}#chart-b6d6b5f4-e997-4209-b6a9-90c9b2301846 .ci{stroke:#999}#chart-b6d6b5f4-e997-4209-b6a9-90c9b2301846 .reactive.active,#chart-b6d6b5f4-e997-4209-b6a9-90c9b2301846 .active .reactive{fill-opacity:.4;stroke-opacity:.9;stroke-width:4}#chart-b6d6b5f4-e997-4209-b6a9-90c9b2301846 .ci .reactive.active{stroke-width:1.5}#chart-b6d6b5f4-e997-4209-b6a9-90c9b2301846 .series text{fill:#eee}#chart-b6d6b5f4-e997-4209-b6a9-90c9b2301846 .tooltip rect{fill:#111;stroke:#eee;-webkit-transition:opacity 250ms;-moz-transition:opacity 250ms;transition:opacity 250ms}#chart-b6d6b5f4-e997-4209-b6a9-90c9b2301846 .tooltip .label{fill:#999}#chart-b6d6b5f4-e997-4209-b6a9-90c9b2301846 .tooltip .label{fill:#999}#chart-b6d6b5f4-e997-4209-b6a9-90c9b2301846 .tooltip .legend{font-size:.8em;fill:#555}#chart-b6d6b5f4-e997-4209-b6a9-90c9b2301846 .tooltip .x_label{font-size:.6em;fill:#eee}#chart-b6d6b5f4-e997-4209-b6a9-90c9b2301846 .tooltip .xlink{font-size:.5em;text-decoration:underline}#chart-b6d6b5f4-e997-4209-b6a9-90c9b2301846 .tooltip .value{font-size:1.5em}#chart-b6d6b5f4-e997-4209-b6a9-90c9b2301846 .bound{font-size:.5em}#chart-b6d6b5f4-e997-4209-b6a9-90c9b2301846 .max-value{font-size:.75em;fill:#555}#chart-b6d6b5f4-e997-4209-b6a9-90c9b2301846 .map-element{fill:#111;stroke:#555 !important}#chart-b6d6b5f4-e997-4209-b6a9-90c9b2301846 .map-element .reactive{fill-opacity:inherit;stroke-opacity:inherit}#chart-b6d6b5f4-e997-4209-b6a9-90c9b2301846 .color-0,#chart-b6d6b5f4-e997-4209-b6a9-90c9b2301846 .color-0 a:visited{stroke:#ff5995;fill:#ff5995}#chart-b6d6b5f4-e997-4209-b6a9-90c9b2301846 .color-1,#chart-b6d6b5f4-e997-4209-b6a9-90c9b2301846 .color-1 a:visited{stroke:#b6e354;fill:#b6e354}#chart-b6d6b5f4-e997-4209-b6a9-90c9b2301846 .color-2,#chart-b6d6b5f4-e997-4209-b6a9-90c9b2301846 .color-2 a:visited{stroke:#feed6c;fill:#feed6c}#chart-b6d6b5f4-e997-4209-b6a9-90c9b2301846 .text-overlay .color-0 text{fill:black}#chart-b6d6b5f4-e997-4209-b6a9-90c9b2301846 .text-overlay .color-1 text{fill:black}#chart-b6d6b5f4-e997-4209-b6a9-90c9b2301846 .text-overlay .color-2 text{fill:black}\n",
       "#chart-b6d6b5f4-e997-4209-b6a9-90c9b2301846 text.no_data{text-anchor:middle}#chart-b6d6b5f4-e997-4209-b6a9-90c9b2301846 .guide.line{fill:none}#chart-b6d6b5f4-e997-4209-b6a9-90c9b2301846 .centered{text-anchor:middle}#chart-b6d6b5f4-e997-4209-b6a9-90c9b2301846 .title{text-anchor:middle}#chart-b6d6b5f4-e997-4209-b6a9-90c9b2301846 .legends .legend text{fill-opacity:1}#chart-b6d6b5f4-e997-4209-b6a9-90c9b2301846 .axis.x text{text-anchor:middle}#chart-b6d6b5f4-e997-4209-b6a9-90c9b2301846 .axis.x:not(.web) text[transform]{text-anchor:start}#chart-b6d6b5f4-e997-4209-b6a9-90c9b2301846 .axis.x:not(.web) text[transform].backwards{text-anchor:end}#chart-b6d6b5f4-e997-4209-b6a9-90c9b2301846 .axis.y text{text-anchor:end}#chart-b6d6b5f4-e997-4209-b6a9-90c9b2301846 .axis.y text[transform].backwards{text-anchor:start}#chart-b6d6b5f4-e997-4209-b6a9-90c9b2301846 .axis.y2 text{text-anchor:start}#chart-b6d6b5f4-e997-4209-b6a9-90c9b2301846 .axis.y2 text[transform].backwards{text-anchor:end}#chart-b6d6b5f4-e997-4209-b6a9-90c9b2301846 .axis .guide.line{stroke-dasharray:4,4}#chart-b6d6b5f4-e997-4209-b6a9-90c9b2301846 .axis .major.guide.line{stroke-dasharray:6,6}#chart-b6d6b5f4-e997-4209-b6a9-90c9b2301846 .horizontal .axis.y .guide.line,#chart-b6d6b5f4-e997-4209-b6a9-90c9b2301846 .horizontal .axis.y2 .guide.line,#chart-b6d6b5f4-e997-4209-b6a9-90c9b2301846 .vertical .axis.x .guide.line{opacity:0}#chart-b6d6b5f4-e997-4209-b6a9-90c9b2301846 .horizontal .axis.always_show .guide.line,#chart-b6d6b5f4-e997-4209-b6a9-90c9b2301846 .vertical .axis.always_show .guide.line{opacity:1 !important}#chart-b6d6b5f4-e997-4209-b6a9-90c9b2301846 .axis.y .guides:hover .guide.line,#chart-b6d6b5f4-e997-4209-b6a9-90c9b2301846 .axis.y2 .guides:hover .guide.line,#chart-b6d6b5f4-e997-4209-b6a9-90c9b2301846 .axis.x .guides:hover .guide.line{opacity:1}#chart-b6d6b5f4-e997-4209-b6a9-90c9b2301846 .axis .guides:hover text{opacity:1}#chart-b6d6b5f4-e997-4209-b6a9-90c9b2301846 .nofill{fill:none}#chart-b6d6b5f4-e997-4209-b6a9-90c9b2301846 .subtle-fill{fill-opacity:.2}#chart-b6d6b5f4-e997-4209-b6a9-90c9b2301846 .dot{stroke-width:1px;fill-opacity:1}#chart-b6d6b5f4-e997-4209-b6a9-90c9b2301846 .dot.active{stroke-width:5px}#chart-b6d6b5f4-e997-4209-b6a9-90c9b2301846 .dot.negative{fill:transparent}#chart-b6d6b5f4-e997-4209-b6a9-90c9b2301846 text,#chart-b6d6b5f4-e997-4209-b6a9-90c9b2301846 tspan{stroke:none !important}#chart-b6d6b5f4-e997-4209-b6a9-90c9b2301846 .series text.active{opacity:1}#chart-b6d6b5f4-e997-4209-b6a9-90c9b2301846 .tooltip rect{fill-opacity:.95;stroke-width:.5}#chart-b6d6b5f4-e997-4209-b6a9-90c9b2301846 .tooltip text{fill-opacity:1}#chart-b6d6b5f4-e997-4209-b6a9-90c9b2301846 .showable{visibility:hidden}#chart-b6d6b5f4-e997-4209-b6a9-90c9b2301846 .showable.shown{visibility:visible}#chart-b6d6b5f4-e997-4209-b6a9-90c9b2301846 .gauge-background{fill:rgba(229,229,229,1);stroke:none}#chart-b6d6b5f4-e997-4209-b6a9-90c9b2301846 .bg-lines{stroke:black;stroke-width:2px}</style><script type=\"text/javascript\">window.pygal = window.pygal || {};window.pygal.config = window.pygal.config || {};window.pygal.config['b6d6b5f4-e997-4209-b6a9-90c9b2301846'] = {\"allow_interruptions\": false, \"box_mode\": \"extremes\", \"classes\": [\"pygal-chart\"], \"css\": [\"file://style.css\", \"file://graph.css\"], \"defs\": [], \"disable_xml_declaration\": false, \"dots_size\": 2.5, \"dynamic_print_values\": false, \"explicit_size\": true, \"fill\": false, \"force_uri_protocol\": \"https\", \"formatter\": null, \"half_pie\": false, \"height\": 360, \"include_x_axis\": false, \"inner_radius\": 0, \"interpolate\": null, \"interpolation_parameters\": {}, \"interpolation_precision\": 250, \"inverse_y_axis\": false, \"js\": [\"//kozea.github.io/pygal.js/2.0.x/pygal-tooltips.min.js\"], \"legend_at_bottom\": false, \"legend_at_bottom_columns\": null, \"legend_box_size\": 12, \"logarithmic\": false, \"margin\": 20, \"margin_bottom\": null, \"margin_left\": null, \"margin_right\": null, \"margin_top\": null, \"max_scale\": 16, \"min_scale\": 4, \"missing_value_fill_truncation\": \"x\", \"no_data_text\": \"No data\", \"no_prefix\": false, \"order_min\": null, \"pretty_print\": false, \"print_labels\": false, \"print_values\": false, \"print_values_position\": \"center\", \"print_zeroes\": true, \"range\": null, \"rounded_bars\": null, \"secondary_range\": null, \"show_dots\": true, \"show_legend\": true, \"show_minor_x_labels\": true, \"show_minor_y_labels\": true, \"show_only_major_dots\": false, \"show_x_guides\": false, \"show_x_labels\": true, \"show_y_guides\": true, \"show_y_labels\": true, \"spacing\": 10, \"stack_from_top\": false, \"strict\": false, \"stroke\": true, \"stroke_style\": null, \"style\": {\"background\": \"black\", \"ci_colors\": [], \"colors\": [\"#ff5995\", \"#b6e354\", \"#feed6c\", \"#8cedff\", \"#9e6ffe\", \"#899ca1\", \"#f8f8f2\", \"#bf4646\", \"#516083\", \"#f92672\", \"#82b414\", \"#fd971f\", \"#56c2d6\", \"#808384\", \"#8c54fe\", \"#465457\"], \"font_family\": \"Consolas, \\\"Liberation Mono\\\", Menlo, Courier, monospace\", \"foreground\": \"#999\", \"foreground_strong\": \"#eee\", \"foreground_subtle\": \"#555\", \"guide_stroke_dasharray\": \"4,4\", \"label_font_family\": \"Consolas, \\\"Liberation Mono\\\", Menlo, Courier, monospace\", \"label_font_size\": 10, \"legend_font_family\": \"Consolas, \\\"Liberation Mono\\\", Menlo, Courier, monospace\", \"legend_font_size\": 14, \"major_guide_stroke_dasharray\": \"6,6\", \"major_label_font_family\": \"Consolas, \\\"Liberation Mono\\\", Menlo, Courier, monospace\", \"major_label_font_size\": 10, \"no_data_font_family\": \"Consolas, \\\"Liberation Mono\\\", Menlo, Courier, monospace\", \"no_data_font_size\": 64, \"opacity\": \".8\", \"opacity_hover\": \".4\", \"plot_background\": \"#111\", \"stroke_opacity\": \".8\", \"stroke_opacity_hover\": \".9\", \"title_font_family\": \"Consolas, \\\"Liberation Mono\\\", Menlo, Courier, monospace\", \"title_font_size\": 16, \"tooltip_font_family\": \"Consolas, \\\"Liberation Mono\\\", Menlo, Courier, monospace\", \"tooltip_font_size\": 14, \"transition\": \"250ms\", \"value_background\": \"rgba(229, 229, 229, 1)\", \"value_colors\": [], \"value_font_family\": \"Consolas, \\\"Liberation Mono\\\", Menlo, Courier, monospace\", \"value_font_size\": 16, \"value_label_font_family\": \"Consolas, \\\"Liberation Mono\\\", Menlo, Courier, monospace\", \"value_label_font_size\": 10}, \"title\": \"Wines by Quality\", \"tooltip_border_radius\": 0, \"tooltip_fancy_mode\": true, \"truncate_label\": null, \"truncate_legend\": null, \"width\": 640, \"x_label_rotation\": 0, \"x_labels\": null, \"x_labels_major\": null, \"x_labels_major_count\": null, \"x_labels_major_every\": null, \"x_title\": null, \"xrange\": null, \"y_label_rotation\": 0, \"y_labels\": null, \"y_labels_major\": null, \"y_labels_major_count\": null, \"y_labels_major_every\": null, \"y_title\": null, \"zero\": 0, \"legends\": [\"Low Quality\", \"Medium Quality\", \"High Quality\"]}</script><script type=\"text/javascript\" xlink:href=\"https://kozea.github.io/pygal.js/2.0.x/pygal-tooltips.min.js\" /></defs><title>Wines by Quality</title><g class=\"graph pie-graph vertical\"><rect class=\"background\" height=\"360\" width=\"640\" x=\"0\" y=\"0\" /><g class=\"plot\" transform=\"translate(159, 46)\"><rect class=\"background\" height=\"294\" width=\"460.4\" x=\"0\" y=\"0\" /><g class=\"series serie-0 color-0\"><g class=\"slices\"><g class=\"slice\"><path class=\"slice reactive tooltip-trigger\" d=\"M230.200000 0.000000 A147.000000 147.000000 0 0 1 235.974800 0.113473 L235.397320 14.802126 A132.300000 132.300000 0 0 0 230.200000 14.700000 z\" /><desc class=\"value\">10</desc><desc class=\"x centered\">232.94355965647736</desc><desc class=\"y centered\">7.376952545751408</desc></g><g class=\"slice\"><path class=\"slice reactive tooltip-trigger\" d=\"M235.974800 0.113473 A147.000000 147.000000 0 0 1 266.220052 4.481384 L262.618047 18.733246 A132.300000 132.300000 0 0 0 235.397320 14.802126 z\" /><desc class=\"value\">53</desc><desc class=\"x centered\">250.16067537701696</desc><desc class=\"y centered\">8.783886834807305</desc></g><g class=\"big_slice\"><path class=\"slice reactive tooltip-trigger\" d=\"M230.200000 14.700000 A132.300000 132.300000 0 0 1 262.618047 18.733246 L230.200000 147.000000 A0.000000 0.000000 0 0 0 230.200000 147.000000 z\" /><desc class=\"value\">63</desc><desc class=\"x centered\">238.3669947654326</desc><desc class=\"y centered\">81.35609170302703</desc></g></g></g><g class=\"series serie-1 color-1\"><g class=\"slices\"><g class=\"slice\"><path class=\"slice reactive tooltip-trigger\" d=\"M266.220052 4.481384 A147.000000 147.000000 0 0 1 262.004874 290.518117 L258.824387 276.166305 A132.300000 132.300000 0 0 0 262.618047 18.733246 z\" /><desc class=\"value\">681</desc><desc class=\"x centered\">369.8348389796479</desc><desc class=\"y centered\">149.05772766123602</desc></g><g class=\"slice\"><path class=\"slice reactive tooltip-trigger\" d=\"M262.004874 290.518117 A147.000000 147.000000 0 0 1 119.501209 50.279900 L130.571088 59.951910 A132.300000 132.300000 0 0 0 258.824387 276.166305 z\" /><desc class=\"value\">638</desc><desc class=\"x centered\">110.09105729454869</desc><desc class=\"y centered\">218.2458025583165</desc></g><g class=\"big_slice\"><path class=\"slice reactive tooltip-trigger\" d=\"M262.618047 18.733246 A132.300000 132.300000 0 1 1 130.571088 59.951910 L230.200000 147.000000 A0.000000 0.000000 0 1 0 230.200000 147.000000 z\" /><desc class=\"value\">1319</desc><desc class=\"x centered\">249.91084505782314</desc><desc class=\"y centered\">210.14511134764504</desc></g></g></g><g class=\"series serie-2 color-2\"><g class=\"slices\"><g class=\"slice\"><path class=\"slice reactive tooltip-trigger\" d=\"M119.501209 50.279900 A147.000000 147.000000 0 0 1 219.811351 0.367548 L220.850216 15.030793 A132.300000 132.300000 0 0 0 130.571088 59.951910 z\" /><desc class=\"value\">199</desc><desc class=\"x centered\">167.98876021210174</desc><desc class=\"y centered\">21.97246645617365</desc></g><g class=\"slice\"><path class=\"slice reactive tooltip-trigger\" d=\"M219.811351 0.367548 A147.000000 147.000000 0 0 1 230.200000 0.000000 L230.200000 14.700000 A132.300000 132.300000 0 0 0 220.850216 15.030793 z\" /><desc class=\"value\">18</desc><desc class=\"x centered\">225.26230428873438</desc><desc class=\"y centered\">7.437319956003449</desc></g><g class=\"big_slice\"><path class=\"slice reactive tooltip-trigger\" d=\"M130.571088 59.951910 A132.300000 132.300000 0 0 1 230.200000 14.700000 L230.200000 147.000000 A0.000000 0.000000 0 0 0 230.200000 147.000000 z\" /><desc class=\"value\">217</desc><desc class=\"x centered\">202.84395012440723</desc><desc class=\"y centered\">86.77152637494387</desc></g></g></g></g><g class=\"titles\"><text class=\"title plot_title\" x=\"320.0\" y=\"26\">Wines by Quality</text></g><g class=\"plot overlay\" transform=\"translate(159, 46)\"><g class=\"series serie-0 color-0\" /><g class=\"series serie-1 color-1\" /><g class=\"series serie-2 color-2\" /></g><g class=\"plot text-overlay\" transform=\"translate(159, 46)\"><g class=\"series serie-0 color-0\" /><g class=\"series serie-1 color-1\" /><g class=\"series serie-2 color-2\" /></g><g class=\"plot tooltip-overlay\" transform=\"translate(159, 46)\"><g class=\"tooltip\" style=\"opacity: 0\" transform=\"translate(0 0)\"><rect class=\"tooltip-box\" height=\"0\" rx=\"0\" ry=\"0\" width=\"0\" /><g class=\"text\" /></g></g><g class=\"legends\" transform=\"translate(10, 56)\"><g class=\"legend reactive activate-serie\" id=\"activate-serie-0\"><rect class=\"color-0 reactive\" height=\"12\" width=\"12\" x=\"0.0\" y=\"1.0\" /><text x=\"17.0\" y=\"11.2\">Low Quality</text></g><g class=\"legend reactive activate-serie\" id=\"activate-serie-1\"><rect class=\"color-1 reactive\" height=\"12\" width=\"12\" x=\"0.0\" y=\"22.0\" /><text x=\"17.0\" y=\"32.2\">Medium Quality</text></g><g class=\"legend reactive activate-serie\" id=\"activate-serie-2\"><rect class=\"color-2 reactive\" height=\"12\" width=\"12\" x=\"0.0\" y=\"43.0\" /><text x=\"17.0\" y=\"53.2\">High Quality</text></g></g><g class=\"legends\" transform=\"translate(630, 56)\" /></g></svg>\n",
       "    </figure>\n",
       "  </body>\n",
       "</html>\n"
      ],
      "text/plain": [
       "<IPython.core.display.HTML object>"
      ]
     },
     "metadata": {},
     "output_type": "display_data"
    }
   ],
   "source": [
    "pie_chart.add('Low Quality', \n",
    "              [counts_df[3], counts_df[4]])\n",
    "\n",
    "pie_chart.add('Medium Quality', \n",
    "              [counts_df[5], counts_df[6]])\n",
    "\n",
    "pie_chart.add('High Quality', \n",
    "              [counts_df[7], counts_df[8]])\n",
    "\n",
    "display_chart(pie_chart)"
   ]
  },
  {
   "cell_type": "code",
   "execution_count": 26,
   "metadata": {},
   "outputs": [],
   "source": [
    "pie_chart = pygal.Pie(width = 640,\n",
    "                      height = 360,\n",
    "                      explicit_size = True,\n",
    "                      style = DarkStyle)\n",
    "\n",
    "pie_chart.title = 'Wines by Quality'"
   ]
  },
  {
   "cell_type": "code",
   "execution_count": 27,
   "metadata": {},
   "outputs": [
    {
     "data": {
      "text/html": [
       "\n",
       "<!DOCTYPE html>\n",
       "<html>\n",
       "  <head>\n",
       "  <script type=\"text/javascript\" \n",
       "          src=\"http://kozea.github.com/pygal.js/javascripts/svg.jquery.js\">\n",
       "  </script>\n",
       "  <script type=\"text/javascript\" \n",
       "          src=\"https://kozea.github.io/pygal.js/2.0.x/pygal-tooltips.min.js\"\">\n",
       "  </script>\n",
       "  </head>\n",
       "  <body>\n",
       "    <figure>\n",
       "      <?xml version='1.0' encoding='utf-8'?>\n",
       "<svg xmlns:xlink=\"http://www.w3.org/1999/xlink\" class=\"pygal-chart\" height=\"360\" id=\"chart-72afa0c0-9748-4691-9a13-c8b862ce7194\" viewBox=\"0 0 640 360\" width=\"640\" xmlns=\"http://www.w3.org/2000/svg\"><!--Generated with pygal 2.4.0 (etree) ©Kozea 2012-2016 on 2020-05-03--><!--http://pygal.org--><!--http://github.com/Kozea/pygal--><defs><style type=\"text/css\">#chart-72afa0c0-9748-4691-9a13-c8b862ce7194{-webkit-user-select:none;-webkit-font-smoothing:antialiased;font-family:Consolas,\"Liberation Mono\",Menlo,Courier,monospace}#chart-72afa0c0-9748-4691-9a13-c8b862ce7194 .title{font-family:Consolas,\"Liberation Mono\",Menlo,Courier,monospace;font-size:16px}#chart-72afa0c0-9748-4691-9a13-c8b862ce7194 .legends .legend text{font-family:Consolas,\"Liberation Mono\",Menlo,Courier,monospace;font-size:14px}#chart-72afa0c0-9748-4691-9a13-c8b862ce7194 .axis text{font-family:Consolas,\"Liberation Mono\",Menlo,Courier,monospace;font-size:10px}#chart-72afa0c0-9748-4691-9a13-c8b862ce7194 .axis text.major{font-family:Consolas,\"Liberation Mono\",Menlo,Courier,monospace;font-size:10px}#chart-72afa0c0-9748-4691-9a13-c8b862ce7194 .text-overlay text.value{font-family:Consolas,\"Liberation Mono\",Menlo,Courier,monospace;font-size:16px}#chart-72afa0c0-9748-4691-9a13-c8b862ce7194 .text-overlay text.label{font-family:Consolas,\"Liberation Mono\",Menlo,Courier,monospace;font-size:10px}#chart-72afa0c0-9748-4691-9a13-c8b862ce7194 .tooltip{font-family:Consolas,\"Liberation Mono\",Menlo,Courier,monospace;font-size:14px}#chart-72afa0c0-9748-4691-9a13-c8b862ce7194 text.no_data{font-family:Consolas,\"Liberation Mono\",Menlo,Courier,monospace;font-size:64px}\n",
       "#chart-72afa0c0-9748-4691-9a13-c8b862ce7194{background-color:black}#chart-72afa0c0-9748-4691-9a13-c8b862ce7194 path,#chart-72afa0c0-9748-4691-9a13-c8b862ce7194 line,#chart-72afa0c0-9748-4691-9a13-c8b862ce7194 rect,#chart-72afa0c0-9748-4691-9a13-c8b862ce7194 circle{-webkit-transition:250ms;-moz-transition:250ms;transition:250ms}#chart-72afa0c0-9748-4691-9a13-c8b862ce7194 .graph &gt; .background{fill:black}#chart-72afa0c0-9748-4691-9a13-c8b862ce7194 .plot &gt; .background{fill:#111}#chart-72afa0c0-9748-4691-9a13-c8b862ce7194 .graph{fill:#999}#chart-72afa0c0-9748-4691-9a13-c8b862ce7194 text.no_data{fill:#eee}#chart-72afa0c0-9748-4691-9a13-c8b862ce7194 .title{fill:#eee}#chart-72afa0c0-9748-4691-9a13-c8b862ce7194 .legends .legend text{fill:#999}#chart-72afa0c0-9748-4691-9a13-c8b862ce7194 .legends .legend:hover text{fill:#eee}#chart-72afa0c0-9748-4691-9a13-c8b862ce7194 .axis .line{stroke:#eee}#chart-72afa0c0-9748-4691-9a13-c8b862ce7194 .axis .guide.line{stroke:#555}#chart-72afa0c0-9748-4691-9a13-c8b862ce7194 .axis .major.line{stroke:#999}#chart-72afa0c0-9748-4691-9a13-c8b862ce7194 .axis text.major{fill:#eee}#chart-72afa0c0-9748-4691-9a13-c8b862ce7194 .axis.y .guides:hover .guide.line,#chart-72afa0c0-9748-4691-9a13-c8b862ce7194 .line-graph .axis.x .guides:hover .guide.line,#chart-72afa0c0-9748-4691-9a13-c8b862ce7194 .stackedline-graph .axis.x .guides:hover .guide.line,#chart-72afa0c0-9748-4691-9a13-c8b862ce7194 .xy-graph .axis.x .guides:hover .guide.line{stroke:#eee}#chart-72afa0c0-9748-4691-9a13-c8b862ce7194 .axis .guides:hover text{fill:#eee}#chart-72afa0c0-9748-4691-9a13-c8b862ce7194 .reactive{fill-opacity:.8;stroke-opacity:.8}#chart-72afa0c0-9748-4691-9a13-c8b862ce7194 .ci{stroke:#999}#chart-72afa0c0-9748-4691-9a13-c8b862ce7194 .reactive.active,#chart-72afa0c0-9748-4691-9a13-c8b862ce7194 .active .reactive{fill-opacity:.4;stroke-opacity:.9;stroke-width:4}#chart-72afa0c0-9748-4691-9a13-c8b862ce7194 .ci .reactive.active{stroke-width:1.5}#chart-72afa0c0-9748-4691-9a13-c8b862ce7194 .series text{fill:#eee}#chart-72afa0c0-9748-4691-9a13-c8b862ce7194 .tooltip rect{fill:#111;stroke:#eee;-webkit-transition:opacity 250ms;-moz-transition:opacity 250ms;transition:opacity 250ms}#chart-72afa0c0-9748-4691-9a13-c8b862ce7194 .tooltip .label{fill:#999}#chart-72afa0c0-9748-4691-9a13-c8b862ce7194 .tooltip .label{fill:#999}#chart-72afa0c0-9748-4691-9a13-c8b862ce7194 .tooltip .legend{font-size:.8em;fill:#555}#chart-72afa0c0-9748-4691-9a13-c8b862ce7194 .tooltip .x_label{font-size:.6em;fill:#eee}#chart-72afa0c0-9748-4691-9a13-c8b862ce7194 .tooltip .xlink{font-size:.5em;text-decoration:underline}#chart-72afa0c0-9748-4691-9a13-c8b862ce7194 .tooltip .value{font-size:1.5em}#chart-72afa0c0-9748-4691-9a13-c8b862ce7194 .bound{font-size:.5em}#chart-72afa0c0-9748-4691-9a13-c8b862ce7194 .max-value{font-size:.75em;fill:#555}#chart-72afa0c0-9748-4691-9a13-c8b862ce7194 .map-element{fill:#111;stroke:#555 !important}#chart-72afa0c0-9748-4691-9a13-c8b862ce7194 .map-element .reactive{fill-opacity:inherit;stroke-opacity:inherit}#chart-72afa0c0-9748-4691-9a13-c8b862ce7194 .color-0,#chart-72afa0c0-9748-4691-9a13-c8b862ce7194 .color-0 a:visited{stroke:#ff5995;fill:#ff5995}#chart-72afa0c0-9748-4691-9a13-c8b862ce7194 .color-1,#chart-72afa0c0-9748-4691-9a13-c8b862ce7194 .color-1 a:visited{stroke:#b6e354;fill:#b6e354}#chart-72afa0c0-9748-4691-9a13-c8b862ce7194 .color-2,#chart-72afa0c0-9748-4691-9a13-c8b862ce7194 .color-2 a:visited{stroke:#feed6c;fill:#feed6c}#chart-72afa0c0-9748-4691-9a13-c8b862ce7194 .text-overlay .color-0 text{fill:black}#chart-72afa0c0-9748-4691-9a13-c8b862ce7194 .text-overlay .color-1 text{fill:black}#chart-72afa0c0-9748-4691-9a13-c8b862ce7194 .text-overlay .color-2 text{fill:black}\n",
       "#chart-72afa0c0-9748-4691-9a13-c8b862ce7194 text.no_data{text-anchor:middle}#chart-72afa0c0-9748-4691-9a13-c8b862ce7194 .guide.line{fill:none}#chart-72afa0c0-9748-4691-9a13-c8b862ce7194 .centered{text-anchor:middle}#chart-72afa0c0-9748-4691-9a13-c8b862ce7194 .title{text-anchor:middle}#chart-72afa0c0-9748-4691-9a13-c8b862ce7194 .legends .legend text{fill-opacity:1}#chart-72afa0c0-9748-4691-9a13-c8b862ce7194 .axis.x text{text-anchor:middle}#chart-72afa0c0-9748-4691-9a13-c8b862ce7194 .axis.x:not(.web) text[transform]{text-anchor:start}#chart-72afa0c0-9748-4691-9a13-c8b862ce7194 .axis.x:not(.web) text[transform].backwards{text-anchor:end}#chart-72afa0c0-9748-4691-9a13-c8b862ce7194 .axis.y text{text-anchor:end}#chart-72afa0c0-9748-4691-9a13-c8b862ce7194 .axis.y text[transform].backwards{text-anchor:start}#chart-72afa0c0-9748-4691-9a13-c8b862ce7194 .axis.y2 text{text-anchor:start}#chart-72afa0c0-9748-4691-9a13-c8b862ce7194 .axis.y2 text[transform].backwards{text-anchor:end}#chart-72afa0c0-9748-4691-9a13-c8b862ce7194 .axis .guide.line{stroke-dasharray:4,4}#chart-72afa0c0-9748-4691-9a13-c8b862ce7194 .axis .major.guide.line{stroke-dasharray:6,6}#chart-72afa0c0-9748-4691-9a13-c8b862ce7194 .horizontal .axis.y .guide.line,#chart-72afa0c0-9748-4691-9a13-c8b862ce7194 .horizontal .axis.y2 .guide.line,#chart-72afa0c0-9748-4691-9a13-c8b862ce7194 .vertical .axis.x .guide.line{opacity:0}#chart-72afa0c0-9748-4691-9a13-c8b862ce7194 .horizontal .axis.always_show .guide.line,#chart-72afa0c0-9748-4691-9a13-c8b862ce7194 .vertical .axis.always_show .guide.line{opacity:1 !important}#chart-72afa0c0-9748-4691-9a13-c8b862ce7194 .axis.y .guides:hover .guide.line,#chart-72afa0c0-9748-4691-9a13-c8b862ce7194 .axis.y2 .guides:hover .guide.line,#chart-72afa0c0-9748-4691-9a13-c8b862ce7194 .axis.x .guides:hover .guide.line{opacity:1}#chart-72afa0c0-9748-4691-9a13-c8b862ce7194 .axis .guides:hover text{opacity:1}#chart-72afa0c0-9748-4691-9a13-c8b862ce7194 .nofill{fill:none}#chart-72afa0c0-9748-4691-9a13-c8b862ce7194 .subtle-fill{fill-opacity:.2}#chart-72afa0c0-9748-4691-9a13-c8b862ce7194 .dot{stroke-width:1px;fill-opacity:1}#chart-72afa0c0-9748-4691-9a13-c8b862ce7194 .dot.active{stroke-width:5px}#chart-72afa0c0-9748-4691-9a13-c8b862ce7194 .dot.negative{fill:transparent}#chart-72afa0c0-9748-4691-9a13-c8b862ce7194 text,#chart-72afa0c0-9748-4691-9a13-c8b862ce7194 tspan{stroke:none !important}#chart-72afa0c0-9748-4691-9a13-c8b862ce7194 .series text.active{opacity:1}#chart-72afa0c0-9748-4691-9a13-c8b862ce7194 .tooltip rect{fill-opacity:.95;stroke-width:.5}#chart-72afa0c0-9748-4691-9a13-c8b862ce7194 .tooltip text{fill-opacity:1}#chart-72afa0c0-9748-4691-9a13-c8b862ce7194 .showable{visibility:hidden}#chart-72afa0c0-9748-4691-9a13-c8b862ce7194 .showable.shown{visibility:visible}#chart-72afa0c0-9748-4691-9a13-c8b862ce7194 .gauge-background{fill:rgba(229,229,229,1);stroke:none}#chart-72afa0c0-9748-4691-9a13-c8b862ce7194 .bg-lines{stroke:black;stroke-width:2px}</style><script type=\"text/javascript\">window.pygal = window.pygal || {};window.pygal.config = window.pygal.config || {};window.pygal.config['72afa0c0-9748-4691-9a13-c8b862ce7194'] = {\"allow_interruptions\": false, \"box_mode\": \"extremes\", \"classes\": [\"pygal-chart\"], \"css\": [\"file://style.css\", \"file://graph.css\"], \"defs\": [], \"disable_xml_declaration\": false, \"dots_size\": 2.5, \"dynamic_print_values\": false, \"explicit_size\": true, \"fill\": false, \"force_uri_protocol\": \"https\", \"formatter\": null, \"half_pie\": false, \"height\": 360, \"include_x_axis\": false, \"inner_radius\": 0, \"interpolate\": null, \"interpolation_parameters\": {}, \"interpolation_precision\": 250, \"inverse_y_axis\": false, \"js\": [\"//kozea.github.io/pygal.js/2.0.x/pygal-tooltips.min.js\"], \"legend_at_bottom\": false, \"legend_at_bottom_columns\": null, \"legend_box_size\": 12, \"logarithmic\": false, \"margin\": 20, \"margin_bottom\": null, \"margin_left\": null, \"margin_right\": null, \"margin_top\": null, \"max_scale\": 16, \"min_scale\": 4, \"missing_value_fill_truncation\": \"x\", \"no_data_text\": \"No data\", \"no_prefix\": false, \"order_min\": null, \"pretty_print\": false, \"print_labels\": false, \"print_values\": false, \"print_values_position\": \"center\", \"print_zeroes\": true, \"range\": null, \"rounded_bars\": null, \"secondary_range\": null, \"show_dots\": true, \"show_legend\": true, \"show_minor_x_labels\": true, \"show_minor_y_labels\": true, \"show_only_major_dots\": false, \"show_x_guides\": false, \"show_x_labels\": true, \"show_y_guides\": true, \"show_y_labels\": true, \"spacing\": 10, \"stack_from_top\": false, \"strict\": false, \"stroke\": true, \"stroke_style\": null, \"style\": {\"background\": \"black\", \"ci_colors\": [], \"colors\": [\"#ff5995\", \"#b6e354\", \"#feed6c\", \"#8cedff\", \"#9e6ffe\", \"#899ca1\", \"#f8f8f2\", \"#bf4646\", \"#516083\", \"#f92672\", \"#82b414\", \"#fd971f\", \"#56c2d6\", \"#808384\", \"#8c54fe\", \"#465457\"], \"font_family\": \"Consolas, \\\"Liberation Mono\\\", Menlo, Courier, monospace\", \"foreground\": \"#999\", \"foreground_strong\": \"#eee\", \"foreground_subtle\": \"#555\", \"guide_stroke_dasharray\": \"4,4\", \"label_font_family\": \"Consolas, \\\"Liberation Mono\\\", Menlo, Courier, monospace\", \"label_font_size\": 10, \"legend_font_family\": \"Consolas, \\\"Liberation Mono\\\", Menlo, Courier, monospace\", \"legend_font_size\": 14, \"major_guide_stroke_dasharray\": \"6,6\", \"major_label_font_family\": \"Consolas, \\\"Liberation Mono\\\", Menlo, Courier, monospace\", \"major_label_font_size\": 10, \"no_data_font_family\": \"Consolas, \\\"Liberation Mono\\\", Menlo, Courier, monospace\", \"no_data_font_size\": 64, \"opacity\": \".8\", \"opacity_hover\": \".4\", \"plot_background\": \"#111\", \"stroke_opacity\": \".8\", \"stroke_opacity_hover\": \".9\", \"title_font_family\": \"Consolas, \\\"Liberation Mono\\\", Menlo, Courier, monospace\", \"title_font_size\": 16, \"tooltip_font_family\": \"Consolas, \\\"Liberation Mono\\\", Menlo, Courier, monospace\", \"tooltip_font_size\": 14, \"transition\": \"250ms\", \"value_background\": \"rgba(229, 229, 229, 1)\", \"value_colors\": [], \"value_font_family\": \"Consolas, \\\"Liberation Mono\\\", Menlo, Courier, monospace\", \"value_font_size\": 16, \"value_label_font_family\": \"Consolas, \\\"Liberation Mono\\\", Menlo, Courier, monospace\", \"value_label_font_size\": 10}, \"title\": \"Wines by Quality\", \"tooltip_border_radius\": 0, \"tooltip_fancy_mode\": true, \"truncate_label\": null, \"truncate_legend\": null, \"width\": 640, \"x_label_rotation\": 0, \"x_labels\": null, \"x_labels_major\": null, \"x_labels_major_count\": null, \"x_labels_major_every\": null, \"x_title\": null, \"xrange\": null, \"y_label_rotation\": 0, \"y_labels\": null, \"y_labels_major\": null, \"y_labels_major_count\": null, \"y_labels_major_every\": null, \"y_title\": null, \"zero\": 0, \"legends\": [\"Low Quality\", \"Medium Quality\", \"High Quality\"]}</script><script type=\"text/javascript\" xlink:href=\"https://kozea.github.io/pygal.js/2.0.x/pygal-tooltips.min.js\" /></defs><title>Wines by Quality</title><g class=\"graph pie-graph vertical\"><rect class=\"background\" height=\"360\" width=\"640\" x=\"0\" y=\"0\" /><g class=\"plot\" transform=\"translate(159, 46)\"><rect class=\"background\" height=\"294\" width=\"460.4\" x=\"0\" y=\"0\" /><g class=\"series serie-0 color-0\"><g class=\"slices\"><g class=\"slice\"><desc class=\"label\">3</desc><path class=\"slice reactive tooltip-trigger\" d=\"M230.200000 0.000000 A147.000000 147.000000 0 0 1 235.974800 0.113473 L235.397320 14.802126 A132.300000 132.300000 0 0 0 230.200000 14.700000 z\" /><desc class=\"value\">10</desc><desc class=\"x centered\">232.94355965647736</desc><desc class=\"y centered\">7.376952545751408</desc></g><g class=\"slice\"><desc class=\"label\">4</desc><path class=\"slice reactive tooltip-trigger\" d=\"M235.974800 0.113473 A147.000000 147.000000 0 0 1 266.220052 4.481384 L262.618047 18.733246 A132.300000 132.300000 0 0 0 235.397320 14.802126 z\" /><desc class=\"value\">53</desc><desc class=\"x centered\">250.16067537701696</desc><desc class=\"y centered\">8.783886834807305</desc></g><g class=\"big_slice\"><path class=\"slice reactive tooltip-trigger\" d=\"M230.200000 14.700000 A132.300000 132.300000 0 0 1 262.618047 18.733246 L230.200000 147.000000 A0.000000 0.000000 0 0 0 230.200000 147.000000 z\" /><desc class=\"value\">63</desc><desc class=\"x centered\">238.3669947654326</desc><desc class=\"y centered\">81.35609170302703</desc></g></g></g><g class=\"series serie-1 color-1\"><g class=\"slices\"><g class=\"slice\"><desc class=\"label\">5</desc><path class=\"slice reactive tooltip-trigger\" d=\"M266.220052 4.481384 A147.000000 147.000000 0 0 1 262.004874 290.518117 L258.824387 276.166305 A132.300000 132.300000 0 0 0 262.618047 18.733246 z\" /><desc class=\"value\">681</desc><desc class=\"x centered\">369.8348389796479</desc><desc class=\"y centered\">149.05772766123602</desc></g><g class=\"slice\"><desc class=\"label\">6</desc><path class=\"slice reactive tooltip-trigger\" d=\"M262.004874 290.518117 A147.000000 147.000000 0 0 1 119.501209 50.279900 L130.571088 59.951910 A132.300000 132.300000 0 0 0 258.824387 276.166305 z\" /><desc class=\"value\">638</desc><desc class=\"x centered\">110.09105729454869</desc><desc class=\"y centered\">218.2458025583165</desc></g><g class=\"big_slice\"><path class=\"slice reactive tooltip-trigger\" d=\"M262.618047 18.733246 A132.300000 132.300000 0 1 1 130.571088 59.951910 L230.200000 147.000000 A0.000000 0.000000 0 1 0 230.200000 147.000000 z\" /><desc class=\"value\">1319</desc><desc class=\"x centered\">249.91084505782314</desc><desc class=\"y centered\">210.14511134764504</desc></g></g></g><g class=\"series serie-2 color-2\"><g class=\"slices\"><g class=\"slice\"><desc class=\"label\">7</desc><path class=\"slice reactive tooltip-trigger\" d=\"M119.501209 50.279900 A147.000000 147.000000 0 0 1 219.811351 0.367548 L220.850216 15.030793 A132.300000 132.300000 0 0 0 130.571088 59.951910 z\" /><desc class=\"value\">199</desc><desc class=\"x centered\">167.98876021210174</desc><desc class=\"y centered\">21.97246645617365</desc></g><g class=\"slice\"><desc class=\"label\">8</desc><path class=\"slice reactive tooltip-trigger\" d=\"M219.811351 0.367548 A147.000000 147.000000 0 0 1 230.200000 0.000000 L230.200000 14.700000 A132.300000 132.300000 0 0 0 220.850216 15.030793 z\" /><desc class=\"value\">18</desc><desc class=\"x centered\">225.26230428873438</desc><desc class=\"y centered\">7.437319956003449</desc></g><g class=\"big_slice\"><path class=\"slice reactive tooltip-trigger\" d=\"M130.571088 59.951910 A132.300000 132.300000 0 0 1 230.200000 14.700000 L230.200000 147.000000 A0.000000 0.000000 0 0 0 230.200000 147.000000 z\" /><desc class=\"value\">217</desc><desc class=\"x centered\">202.84395012440723</desc><desc class=\"y centered\">86.77152637494387</desc></g></g></g></g><g class=\"titles\"><text class=\"title plot_title\" x=\"320.0\" y=\"26\">Wines by Quality</text></g><g class=\"plot overlay\" transform=\"translate(159, 46)\"><g class=\"series serie-0 color-0\" /><g class=\"series serie-1 color-1\" /><g class=\"series serie-2 color-2\" /></g><g class=\"plot text-overlay\" transform=\"translate(159, 46)\"><g class=\"series serie-0 color-0\" /><g class=\"series serie-1 color-1\" /><g class=\"series serie-2 color-2\" /></g><g class=\"plot tooltip-overlay\" transform=\"translate(159, 46)\"><g class=\"tooltip\" style=\"opacity: 0\" transform=\"translate(0 0)\"><rect class=\"tooltip-box\" height=\"0\" rx=\"0\" ry=\"0\" width=\"0\" /><g class=\"text\" /></g></g><g class=\"legends\" transform=\"translate(10, 56)\"><g class=\"legend reactive activate-serie\" id=\"activate-serie-0\"><rect class=\"color-0 reactive\" height=\"12\" width=\"12\" x=\"0.0\" y=\"1.0\" /><text x=\"17.0\" y=\"11.2\">Low Quality</text></g><g class=\"legend reactive activate-serie\" id=\"activate-serie-1\"><rect class=\"color-1 reactive\" height=\"12\" width=\"12\" x=\"0.0\" y=\"22.0\" /><text x=\"17.0\" y=\"32.2\">Medium Quality</text></g><g class=\"legend reactive activate-serie\" id=\"activate-serie-2\"><rect class=\"color-2 reactive\" height=\"12\" width=\"12\" x=\"0.0\" y=\"43.0\" /><text x=\"17.0\" y=\"53.2\">High Quality</text></g></g><g class=\"legends\" transform=\"translate(630, 56)\" /></g></svg>\n",
       "    </figure>\n",
       "  </body>\n",
       "</html>\n"
      ],
      "text/plain": [
       "<IPython.core.display.HTML object>"
      ]
     },
     "metadata": {},
     "output_type": "display_data"
    }
   ],
   "source": [
    "pie_chart.add('Low Quality', \n",
    "              [{'value': counts_df[3], 'label': '3'}, \n",
    "               {'value': counts_df[4], 'label': '4'}])\n",
    "\n",
    "pie_chart.add('Medium Quality', \n",
    "              [{'value': counts_df[5], 'label': '5'}, \n",
    "               {'value': counts_df[6], 'label': '6'}])\n",
    "\n",
    "pie_chart.add('High Quality', \n",
    "              [{'value': counts_df[7], 'label': '7'}, \n",
    "               {'value': counts_df[8], 'label': '8'}])\n",
    "\n",
    "display_chart(pie_chart)"
   ]
  },
  {
   "cell_type": "code",
   "execution_count": null,
   "metadata": {},
   "outputs": [],
   "source": []
  }
 ],
 "metadata": {
  "kernelspec": {
   "display_name": "Python 3",
   "language": "python",
   "name": "python3"
  },
  "language_info": {
   "codemirror_mode": {
    "name": "ipython",
    "version": 3
   },
   "file_extension": ".py",
   "mimetype": "text/x-python",
   "name": "python",
   "nbconvert_exporter": "python",
   "pygments_lexer": "ipython3",
   "version": "3.7.7"
  }
 },
 "nbformat": 4,
 "nbformat_minor": 4
}
