{
 "cells": [
  {
   "cell_type": "code",
   "execution_count": 1,
   "metadata": {},
   "outputs": [],
   "source": [
    "import pygal \n",
    "import pandas as pd"
   ]
  },
  {
   "cell_type": "code",
   "execution_count": 2,
   "metadata": {},
   "outputs": [],
   "source": [
    "data = pd.read_csv('datasets/Cost_of_living_index.csv')\n"
   ]
  },
  {
   "cell_type": "code",
   "execution_count": 3,
   "metadata": {},
   "outputs": [
    {
     "data": {
      "text/html": [
       "<div>\n",
       "<style scoped>\n",
       "    .dataframe tbody tr th:only-of-type {\n",
       "        vertical-align: middle;\n",
       "    }\n",
       "\n",
       "    .dataframe tbody tr th {\n",
       "        vertical-align: top;\n",
       "    }\n",
       "\n",
       "    .dataframe thead th {\n",
       "        text-align: right;\n",
       "    }\n",
       "</style>\n",
       "<table border=\"1\" class=\"dataframe\">\n",
       "  <thead>\n",
       "    <tr style=\"text-align: right;\">\n",
       "      <th></th>\n",
       "      <th>Rank</th>\n",
       "      <th>City</th>\n",
       "      <th>Cost of Living Index</th>\n",
       "      <th>Rent Index</th>\n",
       "      <th>Cost of Living Plus Rent Index</th>\n",
       "      <th>Groceries Index</th>\n",
       "      <th>Restaurant Price Index</th>\n",
       "      <th>Local Purchasing Power Index</th>\n",
       "    </tr>\n",
       "  </thead>\n",
       "  <tbody>\n",
       "    <tr>\n",
       "      <th>0</th>\n",
       "      <td>1</td>\n",
       "      <td>Hamilton, Bermuda</td>\n",
       "      <td>137.56</td>\n",
       "      <td>103.03</td>\n",
       "      <td>121.21</td>\n",
       "      <td>126.56</td>\n",
       "      <td>151.77</td>\n",
       "      <td>114.19</td>\n",
       "    </tr>\n",
       "    <tr>\n",
       "      <th>1</th>\n",
       "      <td>2</td>\n",
       "      <td>Zurich, Switzerland</td>\n",
       "      <td>128.65</td>\n",
       "      <td>62.62</td>\n",
       "      <td>97.39</td>\n",
       "      <td>127.35</td>\n",
       "      <td>127.14</td>\n",
       "      <td>142.39</td>\n",
       "    </tr>\n",
       "    <tr>\n",
       "      <th>2</th>\n",
       "      <td>3</td>\n",
       "      <td>Basel, Switzerland</td>\n",
       "      <td>126.89</td>\n",
       "      <td>46.14</td>\n",
       "      <td>88.66</td>\n",
       "      <td>120.44</td>\n",
       "      <td>129.10</td>\n",
       "      <td>141.48</td>\n",
       "    </tr>\n",
       "    <tr>\n",
       "      <th>3</th>\n",
       "      <td>4</td>\n",
       "      <td>Lausanne, Switzerland</td>\n",
       "      <td>119.62</td>\n",
       "      <td>50.35</td>\n",
       "      <td>86.83</td>\n",
       "      <td>116.35</td>\n",
       "      <td>122.83</td>\n",
       "      <td>132.58</td>\n",
       "    </tr>\n",
       "    <tr>\n",
       "      <th>4</th>\n",
       "      <td>5</td>\n",
       "      <td>Bern, Switzerland</td>\n",
       "      <td>118.42</td>\n",
       "      <td>39.22</td>\n",
       "      <td>80.93</td>\n",
       "      <td>114.54</td>\n",
       "      <td>114.86</td>\n",
       "      <td>115.48</td>\n",
       "    </tr>\n",
       "  </tbody>\n",
       "</table>\n",
       "</div>"
      ],
      "text/plain": [
       "   Rank                   City  Cost of Living Index  Rent Index  \\\n",
       "0     1      Hamilton, Bermuda                137.56      103.03   \n",
       "1     2    Zurich, Switzerland                128.65       62.62   \n",
       "2     3     Basel, Switzerland                126.89       46.14   \n",
       "3     4  Lausanne, Switzerland                119.62       50.35   \n",
       "4     5      Bern, Switzerland                118.42       39.22   \n",
       "\n",
       "   Cost of Living Plus Rent Index  Groceries Index  Restaurant Price Index  \\\n",
       "0                          121.21           126.56                  151.77   \n",
       "1                           97.39           127.35                  127.14   \n",
       "2                           88.66           120.44                  129.10   \n",
       "3                           86.83           116.35                  122.83   \n",
       "4                           80.93           114.54                  114.86   \n",
       "\n",
       "   Local Purchasing Power Index  \n",
       "0                        114.19  \n",
       "1                        142.39  \n",
       "2                        141.48  \n",
       "3                        132.58  \n",
       "4                        115.48  "
      ]
     },
     "execution_count": 3,
     "metadata": {},
     "output_type": "execute_result"
    }
   ],
   "source": [
    "data.head()"
   ]
  },
  {
   "cell_type": "code",
   "execution_count": 4,
   "metadata": {},
   "outputs": [
    {
     "data": {
      "text/html": [
       "<div>\n",
       "<style scoped>\n",
       "    .dataframe tbody tr th:only-of-type {\n",
       "        vertical-align: middle;\n",
       "    }\n",
       "\n",
       "    .dataframe tbody tr th {\n",
       "        vertical-align: top;\n",
       "    }\n",
       "\n",
       "    .dataframe thead th {\n",
       "        text-align: right;\n",
       "    }\n",
       "</style>\n",
       "<table border=\"1\" class=\"dataframe\">\n",
       "  <thead>\n",
       "    <tr style=\"text-align: right;\">\n",
       "      <th></th>\n",
       "      <th>Rank</th>\n",
       "      <th>Cost of Living Index</th>\n",
       "      <th>Rent Index</th>\n",
       "      <th>Cost of Living Plus Rent Index</th>\n",
       "      <th>Groceries Index</th>\n",
       "      <th>Restaurant Price Index</th>\n",
       "      <th>Local Purchasing Power Index</th>\n",
       "    </tr>\n",
       "  </thead>\n",
       "  <tbody>\n",
       "    <tr>\n",
       "      <th>count</th>\n",
       "      <td>536.000000</td>\n",
       "      <td>536.000000</td>\n",
       "      <td>536.000000</td>\n",
       "      <td>536.000000</td>\n",
       "      <td>536.000000</td>\n",
       "      <td>536.000000</td>\n",
       "      <td>536.000000</td>\n",
       "    </tr>\n",
       "    <tr>\n",
       "      <th>mean</th>\n",
       "      <td>268.500000</td>\n",
       "      <td>57.187575</td>\n",
       "      <td>25.209851</td>\n",
       "      <td>42.050485</td>\n",
       "      <td>49.758209</td>\n",
       "      <td>54.684851</td>\n",
       "      <td>89.492668</td>\n",
       "    </tr>\n",
       "    <tr>\n",
       "      <th>std</th>\n",
       "      <td>154.874142</td>\n",
       "      <td>19.984921</td>\n",
       "      <td>16.453828</td>\n",
       "      <td>17.457656</td>\n",
       "      <td>19.320901</td>\n",
       "      <td>25.092353</td>\n",
       "      <td>37.038404</td>\n",
       "    </tr>\n",
       "    <tr>\n",
       "      <th>min</th>\n",
       "      <td>1.000000</td>\n",
       "      <td>19.260000</td>\n",
       "      <td>3.430000</td>\n",
       "      <td>12.360000</td>\n",
       "      <td>18.010000</td>\n",
       "      <td>11.930000</td>\n",
       "      <td>2.240000</td>\n",
       "    </tr>\n",
       "    <tr>\n",
       "      <th>25%</th>\n",
       "      <td>134.750000</td>\n",
       "      <td>39.370000</td>\n",
       "      <td>11.687500</td>\n",
       "      <td>26.647500</td>\n",
       "      <td>31.497500</td>\n",
       "      <td>31.550000</td>\n",
       "      <td>56.792500</td>\n",
       "    </tr>\n",
       "    <tr>\n",
       "      <th>50%</th>\n",
       "      <td>268.500000</td>\n",
       "      <td>61.970000</td>\n",
       "      <td>23.095000</td>\n",
       "      <td>44.450000</td>\n",
       "      <td>51.570000</td>\n",
       "      <td>59.405000</td>\n",
       "      <td>94.105000</td>\n",
       "    </tr>\n",
       "    <tr>\n",
       "      <th>75%</th>\n",
       "      <td>402.250000</td>\n",
       "      <td>70.865000</td>\n",
       "      <td>33.440000</td>\n",
       "      <td>53.095000</td>\n",
       "      <td>62.757500</td>\n",
       "      <td>72.342500</td>\n",
       "      <td>119.500000</td>\n",
       "    </tr>\n",
       "    <tr>\n",
       "      <th>max</th>\n",
       "      <td>536.000000</td>\n",
       "      <td>137.560000</td>\n",
       "      <td>106.490000</td>\n",
       "      <td>121.210000</td>\n",
       "      <td>127.350000</td>\n",
       "      <td>151.770000</td>\n",
       "      <td>186.000000</td>\n",
       "    </tr>\n",
       "  </tbody>\n",
       "</table>\n",
       "</div>"
      ],
      "text/plain": [
       "             Rank  Cost of Living Index  Rent Index  \\\n",
       "count  536.000000            536.000000  536.000000   \n",
       "mean   268.500000             57.187575   25.209851   \n",
       "std    154.874142             19.984921   16.453828   \n",
       "min      1.000000             19.260000    3.430000   \n",
       "25%    134.750000             39.370000   11.687500   \n",
       "50%    268.500000             61.970000   23.095000   \n",
       "75%    402.250000             70.865000   33.440000   \n",
       "max    536.000000            137.560000  106.490000   \n",
       "\n",
       "       Cost of Living Plus Rent Index  Groceries Index  \\\n",
       "count                      536.000000       536.000000   \n",
       "mean                        42.050485        49.758209   \n",
       "std                         17.457656        19.320901   \n",
       "min                         12.360000        18.010000   \n",
       "25%                         26.647500        31.497500   \n",
       "50%                         44.450000        51.570000   \n",
       "75%                         53.095000        62.757500   \n",
       "max                        121.210000       127.350000   \n",
       "\n",
       "       Restaurant Price Index  Local Purchasing Power Index  \n",
       "count              536.000000                    536.000000  \n",
       "mean                54.684851                     89.492668  \n",
       "std                 25.092353                     37.038404  \n",
       "min                 11.930000                      2.240000  \n",
       "25%                 31.550000                     56.792500  \n",
       "50%                 59.405000                     94.105000  \n",
       "75%                 72.342500                    119.500000  \n",
       "max                151.770000                    186.000000  "
      ]
     },
     "execution_count": 4,
     "metadata": {},
     "output_type": "execute_result"
    }
   ],
   "source": [
    "data.describe()"
   ]
  },
  {
   "cell_type": "code",
   "execution_count": 5,
   "metadata": {},
   "outputs": [],
   "source": [
    "data = data[['City', 'Cost of Living Index', \n",
    "             'Rent Index', 'Cost of Living Plus Rent Index', \n",
    "             'Groceries Index', 'Restaurant Price Index',\n",
    "             'Local Purchasing Power Index' ]]"
   ]
  },
  {
   "cell_type": "code",
   "execution_count": 6,
   "metadata": {},
   "outputs": [],
   "source": [
    "data.columns = ['City', 'COL ex. Rent,', 'Rent', 'COL + Rent', \n",
    "                'Groceries', 'Restaurants', 'Local PP']"
   ]
  },
  {
   "cell_type": "code",
   "execution_count": 7,
   "metadata": {},
   "outputs": [
    {
     "data": {
      "text/html": [
       "<div>\n",
       "<style scoped>\n",
       "    .dataframe tbody tr th:only-of-type {\n",
       "        vertical-align: middle;\n",
       "    }\n",
       "\n",
       "    .dataframe tbody tr th {\n",
       "        vertical-align: top;\n",
       "    }\n",
       "\n",
       "    .dataframe thead th {\n",
       "        text-align: right;\n",
       "    }\n",
       "</style>\n",
       "<table border=\"1\" class=\"dataframe\">\n",
       "  <thead>\n",
       "    <tr style=\"text-align: right;\">\n",
       "      <th></th>\n",
       "      <th>City</th>\n",
       "      <th>COL ex. Rent,</th>\n",
       "      <th>Rent</th>\n",
       "      <th>COL + Rent</th>\n",
       "      <th>Groceries</th>\n",
       "      <th>Restaurants</th>\n",
       "      <th>Local PP</th>\n",
       "    </tr>\n",
       "  </thead>\n",
       "  <tbody>\n",
       "    <tr>\n",
       "      <th>11</th>\n",
       "      <td>New York, NY, United States</td>\n",
       "      <td>100.0</td>\n",
       "      <td>100.0</td>\n",
       "      <td>100.0</td>\n",
       "      <td>100.0</td>\n",
       "      <td>100.0</td>\n",
       "      <td>100.0</td>\n",
       "    </tr>\n",
       "  </tbody>\n",
       "</table>\n",
       "</div>"
      ],
      "text/plain": [
       "                           City  COL ex. Rent,   Rent  COL + Rent  Groceries  \\\n",
       "11  New York, NY, United States          100.0  100.0       100.0      100.0   \n",
       "\n",
       "    Restaurants  Local PP  \n",
       "11        100.0     100.0  "
      ]
     },
     "execution_count": 7,
     "metadata": {},
     "output_type": "execute_result"
    }
   ],
   "source": [
    "new_york_df = data[data['City'] == 'New York, NY, United States']\n",
    "\n",
    "new_york_df"
   ]
  },
  {
   "cell_type": "code",
   "execution_count": 8,
   "metadata": {},
   "outputs": [],
   "source": [
    "new_york_df = new_york_df.drop('City', \n",
    "                               axis = 1)"
   ]
  },
  {
   "cell_type": "code",
   "execution_count": 9,
   "metadata": {},
   "outputs": [
    {
     "data": {
      "text/plain": [
       "[100.0, 100.0, 100.0, 100.0, 100.0, 100.0]"
      ]
     },
     "execution_count": 9,
     "metadata": {},
     "output_type": "execute_result"
    }
   ],
   "source": [
    "new_york_list = new_york_df.values.flatten().tolist()\n",
    "\n",
    "new_york_list"
   ]
  },
  {
   "cell_type": "code",
   "execution_count": 10,
   "metadata": {},
   "outputs": [],
   "source": [
    "from IPython.display import display, HTML\n",
    "\n",
    "html_skeleton = \"\"\"\n",
    "<!DOCTYPE html>\n",
    "<html>\n",
    "  <head>\n",
    "  <script type=\"text/javascript\" \n",
    "          src=\"http://kozea.github.com/pygal.js/javascripts/svg.jquery.js\">\n",
    "  </script>\n",
    "  <script type=\"text/javascript\" \n",
    "          src=\"https://kozea.github.io/pygal.js/2.0.x/pygal-tooltips.min.js\"\">\n",
    "  </script>\n",
    "  </head>\n",
    "  <body>\n",
    "    <figure>\n",
    "      {rendered_chart}\n",
    "    </figure>\n",
    "  </body>\n",
    "</html>\n",
    "\"\"\"\n",
    "\n",
    "def display_chart(chart):\n",
    "    rendered_chart = chart.render(is_unicode=True)\n",
    "    plot_html = html_skeleton.format(rendered_chart=rendered_chart)\n",
    "    display(HTML(plot_html))"
   ]
  },
  {
   "cell_type": "code",
   "execution_count": 13,
   "metadata": {},
   "outputs": [],
   "source": [
    "radar_chart = pygal.Radar(width = 640,\n",
    "                          height = 360,\n",
    "                          explicit_size = True)\n",
    "\n",
    "radar_chart.title = 'Cost Of Living Index'"
   ]
  },
  {
   "cell_type": "code",
   "execution_count": 14,
   "metadata": {},
   "outputs": [
    {
     "data": {
      "text/plain": [
       "Index(['COL ex. Rent,', 'Rent', 'COL + Rent', 'Groceries', 'Restaurants',\n",
       "       'Local PP'],\n",
       "      dtype='object')"
      ]
     },
     "execution_count": 14,
     "metadata": {},
     "output_type": "execute_result"
    }
   ],
   "source": [
    "\n",
    "new_york_df.columns"
   ]
  },
  {
   "cell_type": "code",
   "execution_count": 15,
   "metadata": {},
   "outputs": [],
   "source": [
    "radar_chart.x_labels = new_york_df.columns"
   ]
  },
  {
   "cell_type": "code",
   "execution_count": 16,
   "metadata": {},
   "outputs": [
    {
     "data": {
      "text/html": [
       "\n",
       "<!DOCTYPE html>\n",
       "<html>\n",
       "  <head>\n",
       "  <script type=\"text/javascript\" \n",
       "          src=\"http://kozea.github.com/pygal.js/javascripts/svg.jquery.js\">\n",
       "  </script>\n",
       "  <script type=\"text/javascript\" \n",
       "          src=\"https://kozea.github.io/pygal.js/2.0.x/pygal-tooltips.min.js\"\">\n",
       "  </script>\n",
       "  </head>\n",
       "  <body>\n",
       "    <figure>\n",
       "      <?xml version='1.0' encoding='utf-8'?>\n",
       "<svg xmlns=\"http://www.w3.org/2000/svg\" xmlns:xlink=\"http://www.w3.org/1999/xlink\" id=\"chart-0c40df68-a963-41ad-aad1-0b22890ff5d9\" class=\"pygal-chart\" viewBox=\"0 0 640 360\" width=\"640\" height=\"360\"><!--Generated with pygal 2.4.0 (lxml) ©Kozea 2012-2016 on 2020-05-09--><!--http://pygal.org--><!--http://github.com/Kozea/pygal--><defs><style type=\"text/css\">#chart-0c40df68-a963-41ad-aad1-0b22890ff5d9{-webkit-user-select:none;-webkit-font-smoothing:antialiased;font-family:Consolas,\"Liberation Mono\",Menlo,Courier,monospace}#chart-0c40df68-a963-41ad-aad1-0b22890ff5d9 .title{font-family:Consolas,\"Liberation Mono\",Menlo,Courier,monospace;font-size:16px}#chart-0c40df68-a963-41ad-aad1-0b22890ff5d9 .legends .legend text{font-family:Consolas,\"Liberation Mono\",Menlo,Courier,monospace;font-size:14px}#chart-0c40df68-a963-41ad-aad1-0b22890ff5d9 .axis text{font-family:Consolas,\"Liberation Mono\",Menlo,Courier,monospace;font-size:10px}#chart-0c40df68-a963-41ad-aad1-0b22890ff5d9 .axis text.major{font-family:Consolas,\"Liberation Mono\",Menlo,Courier,monospace;font-size:10px}#chart-0c40df68-a963-41ad-aad1-0b22890ff5d9 .text-overlay text.value{font-family:Consolas,\"Liberation Mono\",Menlo,Courier,monospace;font-size:16px}#chart-0c40df68-a963-41ad-aad1-0b22890ff5d9 .text-overlay text.label{font-family:Consolas,\"Liberation Mono\",Menlo,Courier,monospace;font-size:10px}#chart-0c40df68-a963-41ad-aad1-0b22890ff5d9 .tooltip{font-family:Consolas,\"Liberation Mono\",Menlo,Courier,monospace;font-size:14px}#chart-0c40df68-a963-41ad-aad1-0b22890ff5d9 text.no_data{font-family:Consolas,\"Liberation Mono\",Menlo,Courier,monospace;font-size:64px}\n",
       "#chart-0c40df68-a963-41ad-aad1-0b22890ff5d9{background-color:rgba(249,249,249,1)}#chart-0c40df68-a963-41ad-aad1-0b22890ff5d9 path,#chart-0c40df68-a963-41ad-aad1-0b22890ff5d9 line,#chart-0c40df68-a963-41ad-aad1-0b22890ff5d9 rect,#chart-0c40df68-a963-41ad-aad1-0b22890ff5d9 circle{-webkit-transition:150ms;-moz-transition:150ms;transition:150ms}#chart-0c40df68-a963-41ad-aad1-0b22890ff5d9 .graph &gt; .background{fill:rgba(249,249,249,1)}#chart-0c40df68-a963-41ad-aad1-0b22890ff5d9 .plot &gt; .background{fill:rgba(255,255,255,1)}#chart-0c40df68-a963-41ad-aad1-0b22890ff5d9 .graph{fill:rgba(0,0,0,.87)}#chart-0c40df68-a963-41ad-aad1-0b22890ff5d9 text.no_data{fill:rgba(0,0,0,1)}#chart-0c40df68-a963-41ad-aad1-0b22890ff5d9 .title{fill:rgba(0,0,0,1)}#chart-0c40df68-a963-41ad-aad1-0b22890ff5d9 .legends .legend text{fill:rgba(0,0,0,.87)}#chart-0c40df68-a963-41ad-aad1-0b22890ff5d9 .legends .legend:hover text{fill:rgba(0,0,0,1)}#chart-0c40df68-a963-41ad-aad1-0b22890ff5d9 .axis .line{stroke:rgba(0,0,0,1)}#chart-0c40df68-a963-41ad-aad1-0b22890ff5d9 .axis .guide.line{stroke:rgba(0,0,0,.54)}#chart-0c40df68-a963-41ad-aad1-0b22890ff5d9 .axis .major.line{stroke:rgba(0,0,0,.87)}#chart-0c40df68-a963-41ad-aad1-0b22890ff5d9 .axis text.major{fill:rgba(0,0,0,1)}#chart-0c40df68-a963-41ad-aad1-0b22890ff5d9 .axis.y .guides:hover .guide.line,#chart-0c40df68-a963-41ad-aad1-0b22890ff5d9 .line-graph .axis.x .guides:hover .guide.line,#chart-0c40df68-a963-41ad-aad1-0b22890ff5d9 .stackedline-graph .axis.x .guides:hover .guide.line,#chart-0c40df68-a963-41ad-aad1-0b22890ff5d9 .xy-graph .axis.x .guides:hover .guide.line{stroke:rgba(0,0,0,1)}#chart-0c40df68-a963-41ad-aad1-0b22890ff5d9 .axis .guides:hover text{fill:rgba(0,0,0,1)}#chart-0c40df68-a963-41ad-aad1-0b22890ff5d9 .reactive{fill-opacity:.7;stroke-opacity:.8}#chart-0c40df68-a963-41ad-aad1-0b22890ff5d9 .ci{stroke:rgba(0,0,0,.87)}#chart-0c40df68-a963-41ad-aad1-0b22890ff5d9 .reactive.active,#chart-0c40df68-a963-41ad-aad1-0b22890ff5d9 .active .reactive{fill-opacity:.8;stroke-opacity:.9;stroke-width:4}#chart-0c40df68-a963-41ad-aad1-0b22890ff5d9 .ci .reactive.active{stroke-width:1.5}#chart-0c40df68-a963-41ad-aad1-0b22890ff5d9 .series text{fill:rgba(0,0,0,1)}#chart-0c40df68-a963-41ad-aad1-0b22890ff5d9 .tooltip rect{fill:rgba(255,255,255,1);stroke:rgba(0,0,0,1);-webkit-transition:opacity 150ms;-moz-transition:opacity 150ms;transition:opacity 150ms}#chart-0c40df68-a963-41ad-aad1-0b22890ff5d9 .tooltip .label{fill:rgba(0,0,0,.87)}#chart-0c40df68-a963-41ad-aad1-0b22890ff5d9 .tooltip .label{fill:rgba(0,0,0,.87)}#chart-0c40df68-a963-41ad-aad1-0b22890ff5d9 .tooltip .legend{font-size:.8em;fill:rgba(0,0,0,.54)}#chart-0c40df68-a963-41ad-aad1-0b22890ff5d9 .tooltip .x_label{font-size:.6em;fill:rgba(0,0,0,1)}#chart-0c40df68-a963-41ad-aad1-0b22890ff5d9 .tooltip .xlink{font-size:.5em;text-decoration:underline}#chart-0c40df68-a963-41ad-aad1-0b22890ff5d9 .tooltip .value{font-size:1.5em}#chart-0c40df68-a963-41ad-aad1-0b22890ff5d9 .bound{font-size:.5em}#chart-0c40df68-a963-41ad-aad1-0b22890ff5d9 .max-value{font-size:.75em;fill:rgba(0,0,0,.54)}#chart-0c40df68-a963-41ad-aad1-0b22890ff5d9 .map-element{fill:rgba(255,255,255,1);stroke:rgba(0,0,0,.54) !important}#chart-0c40df68-a963-41ad-aad1-0b22890ff5d9 .map-element .reactive{fill-opacity:inherit;stroke-opacity:inherit}#chart-0c40df68-a963-41ad-aad1-0b22890ff5d9 .color-0,#chart-0c40df68-a963-41ad-aad1-0b22890ff5d9 .color-0 a:visited{stroke:#F44336;fill:#F44336}#chart-0c40df68-a963-41ad-aad1-0b22890ff5d9 .text-overlay .color-0 text{fill:black}\n",
       "#chart-0c40df68-a963-41ad-aad1-0b22890ff5d9 text.no_data{text-anchor:middle}#chart-0c40df68-a963-41ad-aad1-0b22890ff5d9 .guide.line{fill:none}#chart-0c40df68-a963-41ad-aad1-0b22890ff5d9 .centered{text-anchor:middle}#chart-0c40df68-a963-41ad-aad1-0b22890ff5d9 .title{text-anchor:middle}#chart-0c40df68-a963-41ad-aad1-0b22890ff5d9 .legends .legend text{fill-opacity:1}#chart-0c40df68-a963-41ad-aad1-0b22890ff5d9 .axis.x text{text-anchor:middle}#chart-0c40df68-a963-41ad-aad1-0b22890ff5d9 .axis.x:not(.web) text[transform]{text-anchor:start}#chart-0c40df68-a963-41ad-aad1-0b22890ff5d9 .axis.x:not(.web) text[transform].backwards{text-anchor:end}#chart-0c40df68-a963-41ad-aad1-0b22890ff5d9 .axis.y text{text-anchor:end}#chart-0c40df68-a963-41ad-aad1-0b22890ff5d9 .axis.y text[transform].backwards{text-anchor:start}#chart-0c40df68-a963-41ad-aad1-0b22890ff5d9 .axis.y2 text{text-anchor:start}#chart-0c40df68-a963-41ad-aad1-0b22890ff5d9 .axis.y2 text[transform].backwards{text-anchor:end}#chart-0c40df68-a963-41ad-aad1-0b22890ff5d9 .axis .guide.line{stroke-dasharray:4,4}#chart-0c40df68-a963-41ad-aad1-0b22890ff5d9 .axis .major.guide.line{stroke-dasharray:6,6}#chart-0c40df68-a963-41ad-aad1-0b22890ff5d9 .horizontal .axis.y .guide.line,#chart-0c40df68-a963-41ad-aad1-0b22890ff5d9 .horizontal .axis.y2 .guide.line,#chart-0c40df68-a963-41ad-aad1-0b22890ff5d9 .vertical .axis.x .guide.line{opacity:0}#chart-0c40df68-a963-41ad-aad1-0b22890ff5d9 .horizontal .axis.always_show .guide.line,#chart-0c40df68-a963-41ad-aad1-0b22890ff5d9 .vertical .axis.always_show .guide.line{opacity:1 !important}#chart-0c40df68-a963-41ad-aad1-0b22890ff5d9 .axis.y .guides:hover .guide.line,#chart-0c40df68-a963-41ad-aad1-0b22890ff5d9 .axis.y2 .guides:hover .guide.line,#chart-0c40df68-a963-41ad-aad1-0b22890ff5d9 .axis.x .guides:hover .guide.line{opacity:1}#chart-0c40df68-a963-41ad-aad1-0b22890ff5d9 .axis .guides:hover text{opacity:1}#chart-0c40df68-a963-41ad-aad1-0b22890ff5d9 .nofill{fill:none}#chart-0c40df68-a963-41ad-aad1-0b22890ff5d9 .subtle-fill{fill-opacity:.2}#chart-0c40df68-a963-41ad-aad1-0b22890ff5d9 .dot{stroke-width:1px;fill-opacity:1}#chart-0c40df68-a963-41ad-aad1-0b22890ff5d9 .dot.active{stroke-width:5px}#chart-0c40df68-a963-41ad-aad1-0b22890ff5d9 .dot.negative{fill:transparent}#chart-0c40df68-a963-41ad-aad1-0b22890ff5d9 text,#chart-0c40df68-a963-41ad-aad1-0b22890ff5d9 tspan{stroke:none !important}#chart-0c40df68-a963-41ad-aad1-0b22890ff5d9 .series text.active{opacity:1}#chart-0c40df68-a963-41ad-aad1-0b22890ff5d9 .tooltip rect{fill-opacity:.95;stroke-width:.5}#chart-0c40df68-a963-41ad-aad1-0b22890ff5d9 .tooltip text{fill-opacity:1}#chart-0c40df68-a963-41ad-aad1-0b22890ff5d9 .showable{visibility:hidden}#chart-0c40df68-a963-41ad-aad1-0b22890ff5d9 .showable.shown{visibility:visible}#chart-0c40df68-a963-41ad-aad1-0b22890ff5d9 .gauge-background{fill:rgba(229,229,229,1);stroke:none}#chart-0c40df68-a963-41ad-aad1-0b22890ff5d9 .bg-lines{stroke:rgba(249,249,249,1);stroke-width:2px}</style><script type=\"text/javascript\">window.pygal = window.pygal || {};window.pygal.config = window.pygal.config || {};window.pygal.config['0c40df68-a963-41ad-aad1-0b22890ff5d9'] = {\"allow_interruptions\": false, \"box_mode\": \"extremes\", \"classes\": [\"pygal-chart\"], \"css\": [\"file://style.css\", \"file://graph.css\"], \"defs\": [], \"disable_xml_declaration\": false, \"dots_size\": 2.5, \"dynamic_print_values\": false, \"explicit_size\": true, \"fill\": false, \"force_uri_protocol\": \"https\", \"formatter\": null, \"half_pie\": false, \"height\": 360, \"include_x_axis\": false, \"inner_radius\": 0, \"interpolate\": null, \"interpolation_parameters\": {}, \"interpolation_precision\": 250, \"inverse_y_axis\": false, \"js\": [\"//kozea.github.io/pygal.js/2.0.x/pygal-tooltips.min.js\"], \"legend_at_bottom\": false, \"legend_at_bottom_columns\": null, \"legend_box_size\": 12, \"logarithmic\": false, \"margin\": 20, \"margin_bottom\": null, \"margin_left\": null, \"margin_right\": null, \"margin_top\": null, \"max_scale\": 16, \"min_scale\": 4, \"missing_value_fill_truncation\": \"x\", \"no_data_text\": \"No data\", \"no_prefix\": false, \"order_min\": null, \"pretty_print\": false, \"print_labels\": false, \"print_values\": false, \"print_values_position\": \"center\", \"print_zeroes\": true, \"range\": null, \"rounded_bars\": null, \"secondary_range\": null, \"show_dots\": true, \"show_legend\": true, \"show_minor_x_labels\": true, \"show_minor_y_labels\": true, \"show_only_major_dots\": false, \"show_x_guides\": false, \"show_x_labels\": true, \"show_y_guides\": true, \"show_y_labels\": true, \"spacing\": 10, \"stack_from_top\": false, \"strict\": false, \"stroke\": true, \"stroke_style\": null, \"style\": {\"background\": \"rgba(249, 249, 249, 1)\", \"ci_colors\": [], \"colors\": [\"#F44336\", \"#3F51B5\", \"#009688\", \"#FFC107\", \"#FF5722\", \"#9C27B0\", \"#03A9F4\", \"#8BC34A\", \"#FF9800\", \"#E91E63\", \"#2196F3\", \"#4CAF50\", \"#FFEB3B\", \"#673AB7\", \"#00BCD4\", \"#CDDC39\", \"#9E9E9E\", \"#607D8B\"], \"font_family\": \"Consolas, \\\"Liberation Mono\\\", Menlo, Courier, monospace\", \"foreground\": \"rgba(0, 0, 0, .87)\", \"foreground_strong\": \"rgba(0, 0, 0, 1)\", \"foreground_subtle\": \"rgba(0, 0, 0, .54)\", \"guide_stroke_dasharray\": \"4,4\", \"label_font_family\": \"Consolas, \\\"Liberation Mono\\\", Menlo, Courier, monospace\", \"label_font_size\": 10, \"legend_font_family\": \"Consolas, \\\"Liberation Mono\\\", Menlo, Courier, monospace\", \"legend_font_size\": 14, \"major_guide_stroke_dasharray\": \"6,6\", \"major_label_font_family\": \"Consolas, \\\"Liberation Mono\\\", Menlo, Courier, monospace\", \"major_label_font_size\": 10, \"no_data_font_family\": \"Consolas, \\\"Liberation Mono\\\", Menlo, Courier, monospace\", \"no_data_font_size\": 64, \"opacity\": \".7\", \"opacity_hover\": \".8\", \"plot_background\": \"rgba(255, 255, 255, 1)\", \"stroke_opacity\": \".8\", \"stroke_opacity_hover\": \".9\", \"title_font_family\": \"Consolas, \\\"Liberation Mono\\\", Menlo, Courier, monospace\", \"title_font_size\": 16, \"tooltip_font_family\": \"Consolas, \\\"Liberation Mono\\\", Menlo, Courier, monospace\", \"tooltip_font_size\": 14, \"transition\": \"150ms\", \"value_background\": \"rgba(229, 229, 229, 1)\", \"value_colors\": [], \"value_font_family\": \"Consolas, \\\"Liberation Mono\\\", Menlo, Courier, monospace\", \"value_font_size\": 16, \"value_label_font_family\": \"Consolas, \\\"Liberation Mono\\\", Menlo, Courier, monospace\", \"value_label_font_size\": 10}, \"title\": \"Cost Of Living Index\", \"tooltip_border_radius\": 0, \"tooltip_fancy_mode\": true, \"truncate_label\": null, \"truncate_legend\": null, \"width\": 640, \"x_label_rotation\": 0, \"x_labels\": [\"COL ex. Rent,\", \"Rent\", \"COL + Rent\", \"Groceries\", \"Restaurants\", \"Local PP\"], \"x_labels_major\": null, \"x_labels_major_count\": null, \"x_labels_major_every\": null, \"x_title\": null, \"xrange\": null, \"y_label_rotation\": 0, \"y_labels\": null, \"y_labels_major\": null, \"y_labels_major_count\": null, \"y_labels_major_every\": null, \"y_title\": null, \"zero\": 0, \"legends\": [\"New York\"]}</script><script type=\"text/javascript\" xlink:href=\"https://kozea.github.io/pygal.js/2.0.x/pygal-tooltips.min.js\"/></defs><title>Cost Of Living Index</title><g class=\"graph radar-graph vertical\"><rect x=\"0\" y=\"0\" width=\"640\" height=\"360\" class=\"background\"/><g transform=\"translate(137, 46)\" class=\"plot\"><rect x=\"0\" y=\"0\" width=\"482.8\" height=\"274\" class=\"background\"/><g class=\"axis y web\"><g class=\"guides\"><path d=\"M241.400000 10.148148 L47.827285 73.574074 47.827285 200.425926 241.400000 263.851852 434.972715 200.425926 434.972715 73.574074 241.400000 10.148148 Z\" class=\"major guide line\"/><text x=\"236.4\" y=\"10.148148148148152\" class=\"major\">100</text><title>100</title></g><g class=\"guides\"><path d=\"M241.400000 35.518519 L86.541828 86.259259 86.541828 187.740741 241.400000 238.481481 396.258172 187.740741 396.258172 86.259259 241.400000 35.518519 Z\" class=\"guide line\"/><text x=\"236.4\" y=\"35.518518518518505\" class=\"\">80</text><title>80</title></g><g class=\"guides\"><path d=\"M241.400000 60.888889 L125.256371 98.944444 125.256371 175.055556 241.400000 213.111111 357.543629 175.055556 357.543629 98.944444 241.400000 60.888889 Z\" class=\"guide line\"/><text x=\"236.4\" y=\"60.888888888888886\" class=\"\">60</text><title>60</title></g><g class=\"guides\"><path d=\"M241.400000 86.259259 L163.970914 111.629630 163.970914 162.370370 241.400000 187.740741 318.829086 162.370370 318.829086 111.629630 241.400000 86.259259 Z\" class=\"guide line\"/><text x=\"236.4\" y=\"86.25925925925927\" class=\"\">40</text><title>40</title></g><g class=\"guides\"><path d=\"M241.400000 111.629630 L202.685457 124.314815 202.685457 149.685185 241.400000 162.370370 280.114543 149.685185 280.114543 124.314815 241.400000 111.629630 Z\" class=\"guide line\"/><text x=\"236.4\" y=\"111.62962962962962\" class=\"\">20</text><title>20</title></g><g class=\"guides\"><path d=\"M241.400000 137.000000 L241.400000 137.000000 241.400000 137.000000 241.400000 137.000000 241.400000 137.000000 241.400000 137.000000 241.400000 137.000000 Z\" class=\"major guide line\"/><text x=\"236.4\" y=\"137.0\" class=\"major\">0</text><title>0</title></g></g><g class=\"axis x web\"><g class=\"guides\"><path d=\"M241.400000 137.000000 L241.400000 10.148148\" class=\"line\"/><text x=\"241.4\" y=\"2.740000000000009\" class=\"\" transform=\"rotate(0.000000 241.400000 2.740000)\">COL ex. Rent,</text><title>1.570796327</title></g><g class=\"guides\"><path d=\"M241.400000 137.000000 L47.827285 73.574074\" class=\"line\"/><text x=\"36.5226381759078\" y=\"69.86999999999995\" class=\"\" transform=\"rotate(-60.000000 36.522638 69.870000)\">Rent</text><title>2.617993878</title></g><g class=\"guides\"><path d=\"M241.400000 137.000000 L47.827285 200.425926\" class=\"line\"/><text x=\"36.52263817590774\" y=\"204.12999999999997\" class=\"\" transform=\"rotate(-300.000000 36.522638 204.130000)\">COL + Rent</text><title>3.665191429</title></g><g class=\"guides\"><path d=\"M241.400000 137.000000 L241.400000 263.851852\" class=\"line\"/><text x=\"241.39999999999998\" y=\"271.26\" class=\"\" transform=\"rotate(-360.000000 241.400000 271.260000)\">Groceries</text><title>4.71238898</title></g><g class=\"guides\"><path d=\"M241.400000 137.000000 L434.972715 200.425926\" class=\"line\"/><text x=\"446.2773618240921\" y=\"204.13000000000005\" class=\"\" transform=\"rotate(-420.000000 446.277362 204.130000)\">Restaurants</text><title>5.759586532</title></g><g class=\"guides\"><path d=\"M241.400000 137.000000 L434.972715 73.574074\" class=\"line\"/><text x=\"446.27736182409234\" y=\"69.87000000000009\" class=\"\" transform=\"rotate(-300.000000 446.277362 69.870000)\">Local PP</text><title>6.806784083</title></g></g><g class=\"series serie-0 color-0\"><path d=\"M241.400000 10.148148 L47.827285 73.574074 47.827285 200.425926 241.400000 263.851852 434.972715 200.425926 434.972715 73.574074 Z\" class=\"line reactive nofill\"/></g></g><g class=\"titles\"><text x=\"320.0\" y=\"26\" class=\"title plot_title\">Cost Of Living Index</text></g><g transform=\"translate(137, 46)\" class=\"plot overlay\"><g class=\"series serie-0 color-0\"><g class=\"dots\"><circle cx=\"241.4\" cy=\"10.148148148148152\" r=\"2.5\" class=\"dot reactive tooltip-trigger\"/><desc class=\"value\">100</desc><desc class=\"x \">241.4</desc><desc class=\"y \">10.148148148148152</desc><desc class=\"x_label\">COL ex. Rent,</desc></g><g class=\"dots\"><circle cx=\"47.82728474670051\" cy=\"73.57407407407405\" r=\"2.5\" class=\"dot reactive tooltip-trigger\"/><desc class=\"value\">100</desc><desc class=\"x \">47.82728474670051</desc><desc class=\"y \">73.57407407407405</desc><desc class=\"x_label\">Rent</desc></g><g class=\"dots\"><circle cx=\"47.82728474670044\" cy=\"200.4259259259259\" r=\"2.5\" class=\"dot reactive tooltip-trigger\"/><desc class=\"value\">100</desc><desc class=\"x top\">47.82728474670044</desc><desc class=\"y top\">200.4259259259259</desc><desc class=\"x_label\">COL + Rent</desc></g><g class=\"dots\"><circle cx=\"241.39999999999998\" cy=\"263.85185185185185\" r=\"2.5\" class=\"dot reactive tooltip-trigger\"/><desc class=\"value\">100</desc><desc class=\"x top\">241.39999999999998</desc><desc class=\"y top\">263.85185185185185</desc><desc class=\"x_label\">Groceries</desc></g><g class=\"dots\"><circle cx=\"434.9727152532995\" cy=\"200.42592592592598\" r=\"2.5\" class=\"dot reactive tooltip-trigger\"/><desc class=\"value\">100</desc><desc class=\"x left top\">434.9727152532995</desc><desc class=\"y left top\">200.42592592592598</desc><desc class=\"x_label\">Restaurants</desc></g><g class=\"dots\"><circle cx=\"434.9727152532996\" cy=\"73.57407407407413\" r=\"2.5\" class=\"dot reactive tooltip-trigger\"/><desc class=\"value\">100</desc><desc class=\"x left\">434.9727152532996</desc><desc class=\"y left\">73.57407407407413</desc><desc class=\"x_label\">Local PP</desc></g></g></g><g transform=\"translate(137, 46)\" class=\"plot text-overlay\"><g class=\"series serie-0 color-0\"/></g><g transform=\"translate(137, 46)\" class=\"plot tooltip-overlay\"><g transform=\"translate(0 0)\" style=\"opacity: 0\" class=\"tooltip\"><rect rx=\"0\" ry=\"0\" width=\"0\" height=\"0\" class=\"tooltip-box\"/><g class=\"text\"/></g></g><g transform=\"translate(10, 56)\" class=\"legends\"><g id=\"activate-serie-0\" class=\"legend reactive activate-serie\"><rect x=\"0.0\" y=\"1.0\" width=\"12\" height=\"12\" class=\"color-0 reactive\"/><text x=\"17.0\" y=\"11.2\">New York</text></g></g><g transform=\"translate(630, 56)\" class=\"legends\"/></g></svg>\n",
       "    </figure>\n",
       "  </body>\n",
       "</html>\n"
      ],
      "text/plain": [
       "<IPython.core.display.HTML object>"
      ]
     },
     "metadata": {},
     "output_type": "display_data"
    }
   ],
   "source": [
    "radar_chart.add('New York',\n",
    "                new_york_list)\n",
    "display_chart(radar_chart)"
   ]
  },
  {
   "cell_type": "code",
   "execution_count": 17,
   "metadata": {},
   "outputs": [
    {
     "ename": "NameError",
     "evalue": "name 'tokyo_df' is not defined",
     "output_type": "error",
     "traceback": [
      "\u001b[0;31m---------------------------------------------------------------------------\u001b[0m",
      "\u001b[0;31mNameError\u001b[0m                                 Traceback (most recent call last)",
      "\u001b[0;32m<ipython-input-17-7b8233a23deb>\u001b[0m in \u001b[0;36m<module>\u001b[0;34m\u001b[0m\n\u001b[0;32m----> 1\u001b[0;31m \u001b[0mtokyo_list\u001b[0m \u001b[0;34m=\u001b[0m \u001b[0mtokyo_df\u001b[0m\u001b[0;34m.\u001b[0m\u001b[0mvalues\u001b[0m\u001b[0;34m.\u001b[0m\u001b[0mflatten\u001b[0m\u001b[0;34m(\u001b[0m\u001b[0;34m)\u001b[0m\u001b[0;34m.\u001b[0m\u001b[0mtolist\u001b[0m\u001b[0;34m(\u001b[0m\u001b[0;34m)\u001b[0m\u001b[0;34m\u001b[0m\u001b[0;34m\u001b[0m\u001b[0m\n\u001b[0m\u001b[1;32m      2\u001b[0m \u001b[0;34m\u001b[0m\u001b[0m\n\u001b[1;32m      3\u001b[0m \u001b[0mtokyo_list\u001b[0m\u001b[0;34m\u001b[0m\u001b[0;34m\u001b[0m\u001b[0m\n",
      "\u001b[0;31mNameError\u001b[0m: name 'tokyo_df' is not defined"
     ]
    }
   ],
   "source": [
    "tokyo_list = tokyo_df.values.flatten().tolist()\n",
    "\n",
    "tokyo_list"
   ]
  },
  {
   "cell_type": "code",
   "execution_count": 18,
   "metadata": {},
   "outputs": [
    {
     "data": {
      "text/html": [
       "<div>\n",
       "<style scoped>\n",
       "    .dataframe tbody tr th:only-of-type {\n",
       "        vertical-align: middle;\n",
       "    }\n",
       "\n",
       "    .dataframe tbody tr th {\n",
       "        vertical-align: top;\n",
       "    }\n",
       "\n",
       "    .dataframe thead th {\n",
       "        text-align: right;\n",
       "    }\n",
       "</style>\n",
       "<table border=\"1\" class=\"dataframe\">\n",
       "  <thead>\n",
       "    <tr style=\"text-align: right;\">\n",
       "      <th></th>\n",
       "      <th>COL ex. Rent,</th>\n",
       "      <th>Rent</th>\n",
       "      <th>COL + Rent</th>\n",
       "      <th>Groceries</th>\n",
       "      <th>Restaurants</th>\n",
       "      <th>Local PP</th>\n",
       "    </tr>\n",
       "  </thead>\n",
       "  <tbody>\n",
       "    <tr>\n",
       "      <th>24</th>\n",
       "      <td>84.78</td>\n",
       "      <td>36.41</td>\n",
       "      <td>61.89</td>\n",
       "      <td>81.72</td>\n",
       "      <td>54.41</td>\n",
       "      <td>113.09</td>\n",
       "    </tr>\n",
       "  </tbody>\n",
       "</table>\n",
       "</div>"
      ],
      "text/plain": [
       "    COL ex. Rent,   Rent  COL + Rent  Groceries  Restaurants  Local PP\n",
       "24          84.78  36.41       61.89      81.72        54.41    113.09"
      ]
     },
     "execution_count": 18,
     "metadata": {},
     "output_type": "execute_result"
    }
   ],
   "source": [
    "tokyo_df = data[data['City'] == 'Tokyo, Japan'].drop('City', axis =1)\n",
    "\n",
    "tokyo_df"
   ]
  },
  {
   "cell_type": "code",
   "execution_count": 19,
   "metadata": {},
   "outputs": [
    {
     "data": {
      "text/plain": [
       "[84.78, 36.41, 61.89, 81.72, 54.41, 113.09]"
      ]
     },
     "execution_count": 19,
     "metadata": {},
     "output_type": "execute_result"
    }
   ],
   "source": [
    "tokyo_list = tokyo_df.values.flatten().tolist()\n",
    "\n",
    "tokyo_list"
   ]
  },
  {
   "cell_type": "code",
   "execution_count": 20,
   "metadata": {},
   "outputs": [],
   "source": [
    "radar_chart = pygal.Radar(width = 640,\n",
    "                          height = 360,\n",
    "                          explicit_size = True)\n",
    "\n",
    "radar_chart.title = 'Cost Of Living Index'\n",
    "\n",
    "radar_chart.x_labels = tokyo_df.columns"
   ]
  },
  {
   "cell_type": "code",
   "execution_count": 21,
   "metadata": {},
   "outputs": [
    {
     "data": {
      "text/html": [
       "\n",
       "<!DOCTYPE html>\n",
       "<html>\n",
       "  <head>\n",
       "  <script type=\"text/javascript\" \n",
       "          src=\"http://kozea.github.com/pygal.js/javascripts/svg.jquery.js\">\n",
       "  </script>\n",
       "  <script type=\"text/javascript\" \n",
       "          src=\"https://kozea.github.io/pygal.js/2.0.x/pygal-tooltips.min.js\"\">\n",
       "  </script>\n",
       "  </head>\n",
       "  <body>\n",
       "    <figure>\n",
       "      <?xml version='1.0' encoding='utf-8'?>\n",
       "<svg xmlns=\"http://www.w3.org/2000/svg\" xmlns:xlink=\"http://www.w3.org/1999/xlink\" id=\"chart-19f0ca70-0a6b-4bdc-a2b1-7dc78a7d7c74\" class=\"pygal-chart\" viewBox=\"0 0 640 360\" width=\"640\" height=\"360\"><!--Generated with pygal 2.4.0 (lxml) ©Kozea 2012-2016 on 2020-05-09--><!--http://pygal.org--><!--http://github.com/Kozea/pygal--><defs><style type=\"text/css\">#chart-19f0ca70-0a6b-4bdc-a2b1-7dc78a7d7c74{-webkit-user-select:none;-webkit-font-smoothing:antialiased;font-family:Consolas,\"Liberation Mono\",Menlo,Courier,monospace}#chart-19f0ca70-0a6b-4bdc-a2b1-7dc78a7d7c74 .title{font-family:Consolas,\"Liberation Mono\",Menlo,Courier,monospace;font-size:16px}#chart-19f0ca70-0a6b-4bdc-a2b1-7dc78a7d7c74 .legends .legend text{font-family:Consolas,\"Liberation Mono\",Menlo,Courier,monospace;font-size:14px}#chart-19f0ca70-0a6b-4bdc-a2b1-7dc78a7d7c74 .axis text{font-family:Consolas,\"Liberation Mono\",Menlo,Courier,monospace;font-size:10px}#chart-19f0ca70-0a6b-4bdc-a2b1-7dc78a7d7c74 .axis text.major{font-family:Consolas,\"Liberation Mono\",Menlo,Courier,monospace;font-size:10px}#chart-19f0ca70-0a6b-4bdc-a2b1-7dc78a7d7c74 .text-overlay text.value{font-family:Consolas,\"Liberation Mono\",Menlo,Courier,monospace;font-size:16px}#chart-19f0ca70-0a6b-4bdc-a2b1-7dc78a7d7c74 .text-overlay text.label{font-family:Consolas,\"Liberation Mono\",Menlo,Courier,monospace;font-size:10px}#chart-19f0ca70-0a6b-4bdc-a2b1-7dc78a7d7c74 .tooltip{font-family:Consolas,\"Liberation Mono\",Menlo,Courier,monospace;font-size:14px}#chart-19f0ca70-0a6b-4bdc-a2b1-7dc78a7d7c74 text.no_data{font-family:Consolas,\"Liberation Mono\",Menlo,Courier,monospace;font-size:64px}\n",
       "#chart-19f0ca70-0a6b-4bdc-a2b1-7dc78a7d7c74{background-color:rgba(249,249,249,1)}#chart-19f0ca70-0a6b-4bdc-a2b1-7dc78a7d7c74 path,#chart-19f0ca70-0a6b-4bdc-a2b1-7dc78a7d7c74 line,#chart-19f0ca70-0a6b-4bdc-a2b1-7dc78a7d7c74 rect,#chart-19f0ca70-0a6b-4bdc-a2b1-7dc78a7d7c74 circle{-webkit-transition:150ms;-moz-transition:150ms;transition:150ms}#chart-19f0ca70-0a6b-4bdc-a2b1-7dc78a7d7c74 .graph &gt; .background{fill:rgba(249,249,249,1)}#chart-19f0ca70-0a6b-4bdc-a2b1-7dc78a7d7c74 .plot &gt; .background{fill:rgba(255,255,255,1)}#chart-19f0ca70-0a6b-4bdc-a2b1-7dc78a7d7c74 .graph{fill:rgba(0,0,0,.87)}#chart-19f0ca70-0a6b-4bdc-a2b1-7dc78a7d7c74 text.no_data{fill:rgba(0,0,0,1)}#chart-19f0ca70-0a6b-4bdc-a2b1-7dc78a7d7c74 .title{fill:rgba(0,0,0,1)}#chart-19f0ca70-0a6b-4bdc-a2b1-7dc78a7d7c74 .legends .legend text{fill:rgba(0,0,0,.87)}#chart-19f0ca70-0a6b-4bdc-a2b1-7dc78a7d7c74 .legends .legend:hover text{fill:rgba(0,0,0,1)}#chart-19f0ca70-0a6b-4bdc-a2b1-7dc78a7d7c74 .axis .line{stroke:rgba(0,0,0,1)}#chart-19f0ca70-0a6b-4bdc-a2b1-7dc78a7d7c74 .axis .guide.line{stroke:rgba(0,0,0,.54)}#chart-19f0ca70-0a6b-4bdc-a2b1-7dc78a7d7c74 .axis .major.line{stroke:rgba(0,0,0,.87)}#chart-19f0ca70-0a6b-4bdc-a2b1-7dc78a7d7c74 .axis text.major{fill:rgba(0,0,0,1)}#chart-19f0ca70-0a6b-4bdc-a2b1-7dc78a7d7c74 .axis.y .guides:hover .guide.line,#chart-19f0ca70-0a6b-4bdc-a2b1-7dc78a7d7c74 .line-graph .axis.x .guides:hover .guide.line,#chart-19f0ca70-0a6b-4bdc-a2b1-7dc78a7d7c74 .stackedline-graph .axis.x .guides:hover .guide.line,#chart-19f0ca70-0a6b-4bdc-a2b1-7dc78a7d7c74 .xy-graph .axis.x .guides:hover .guide.line{stroke:rgba(0,0,0,1)}#chart-19f0ca70-0a6b-4bdc-a2b1-7dc78a7d7c74 .axis .guides:hover text{fill:rgba(0,0,0,1)}#chart-19f0ca70-0a6b-4bdc-a2b1-7dc78a7d7c74 .reactive{fill-opacity:.7;stroke-opacity:.8}#chart-19f0ca70-0a6b-4bdc-a2b1-7dc78a7d7c74 .ci{stroke:rgba(0,0,0,.87)}#chart-19f0ca70-0a6b-4bdc-a2b1-7dc78a7d7c74 .reactive.active,#chart-19f0ca70-0a6b-4bdc-a2b1-7dc78a7d7c74 .active .reactive{fill-opacity:.8;stroke-opacity:.9;stroke-width:4}#chart-19f0ca70-0a6b-4bdc-a2b1-7dc78a7d7c74 .ci .reactive.active{stroke-width:1.5}#chart-19f0ca70-0a6b-4bdc-a2b1-7dc78a7d7c74 .series text{fill:rgba(0,0,0,1)}#chart-19f0ca70-0a6b-4bdc-a2b1-7dc78a7d7c74 .tooltip rect{fill:rgba(255,255,255,1);stroke:rgba(0,0,0,1);-webkit-transition:opacity 150ms;-moz-transition:opacity 150ms;transition:opacity 150ms}#chart-19f0ca70-0a6b-4bdc-a2b1-7dc78a7d7c74 .tooltip .label{fill:rgba(0,0,0,.87)}#chart-19f0ca70-0a6b-4bdc-a2b1-7dc78a7d7c74 .tooltip .label{fill:rgba(0,0,0,.87)}#chart-19f0ca70-0a6b-4bdc-a2b1-7dc78a7d7c74 .tooltip .legend{font-size:.8em;fill:rgba(0,0,0,.54)}#chart-19f0ca70-0a6b-4bdc-a2b1-7dc78a7d7c74 .tooltip .x_label{font-size:.6em;fill:rgba(0,0,0,1)}#chart-19f0ca70-0a6b-4bdc-a2b1-7dc78a7d7c74 .tooltip .xlink{font-size:.5em;text-decoration:underline}#chart-19f0ca70-0a6b-4bdc-a2b1-7dc78a7d7c74 .tooltip .value{font-size:1.5em}#chart-19f0ca70-0a6b-4bdc-a2b1-7dc78a7d7c74 .bound{font-size:.5em}#chart-19f0ca70-0a6b-4bdc-a2b1-7dc78a7d7c74 .max-value{font-size:.75em;fill:rgba(0,0,0,.54)}#chart-19f0ca70-0a6b-4bdc-a2b1-7dc78a7d7c74 .map-element{fill:rgba(255,255,255,1);stroke:rgba(0,0,0,.54) !important}#chart-19f0ca70-0a6b-4bdc-a2b1-7dc78a7d7c74 .map-element .reactive{fill-opacity:inherit;stroke-opacity:inherit}#chart-19f0ca70-0a6b-4bdc-a2b1-7dc78a7d7c74 .color-0,#chart-19f0ca70-0a6b-4bdc-a2b1-7dc78a7d7c74 .color-0 a:visited{stroke:#F44336;fill:#F44336}#chart-19f0ca70-0a6b-4bdc-a2b1-7dc78a7d7c74 .text-overlay .color-0 text{fill:black}\n",
       "#chart-19f0ca70-0a6b-4bdc-a2b1-7dc78a7d7c74 text.no_data{text-anchor:middle}#chart-19f0ca70-0a6b-4bdc-a2b1-7dc78a7d7c74 .guide.line{fill:none}#chart-19f0ca70-0a6b-4bdc-a2b1-7dc78a7d7c74 .centered{text-anchor:middle}#chart-19f0ca70-0a6b-4bdc-a2b1-7dc78a7d7c74 .title{text-anchor:middle}#chart-19f0ca70-0a6b-4bdc-a2b1-7dc78a7d7c74 .legends .legend text{fill-opacity:1}#chart-19f0ca70-0a6b-4bdc-a2b1-7dc78a7d7c74 .axis.x text{text-anchor:middle}#chart-19f0ca70-0a6b-4bdc-a2b1-7dc78a7d7c74 .axis.x:not(.web) text[transform]{text-anchor:start}#chart-19f0ca70-0a6b-4bdc-a2b1-7dc78a7d7c74 .axis.x:not(.web) text[transform].backwards{text-anchor:end}#chart-19f0ca70-0a6b-4bdc-a2b1-7dc78a7d7c74 .axis.y text{text-anchor:end}#chart-19f0ca70-0a6b-4bdc-a2b1-7dc78a7d7c74 .axis.y text[transform].backwards{text-anchor:start}#chart-19f0ca70-0a6b-4bdc-a2b1-7dc78a7d7c74 .axis.y2 text{text-anchor:start}#chart-19f0ca70-0a6b-4bdc-a2b1-7dc78a7d7c74 .axis.y2 text[transform].backwards{text-anchor:end}#chart-19f0ca70-0a6b-4bdc-a2b1-7dc78a7d7c74 .axis .guide.line{stroke-dasharray:4,4}#chart-19f0ca70-0a6b-4bdc-a2b1-7dc78a7d7c74 .axis .major.guide.line{stroke-dasharray:6,6}#chart-19f0ca70-0a6b-4bdc-a2b1-7dc78a7d7c74 .horizontal .axis.y .guide.line,#chart-19f0ca70-0a6b-4bdc-a2b1-7dc78a7d7c74 .horizontal .axis.y2 .guide.line,#chart-19f0ca70-0a6b-4bdc-a2b1-7dc78a7d7c74 .vertical .axis.x .guide.line{opacity:0}#chart-19f0ca70-0a6b-4bdc-a2b1-7dc78a7d7c74 .horizontal .axis.always_show .guide.line,#chart-19f0ca70-0a6b-4bdc-a2b1-7dc78a7d7c74 .vertical .axis.always_show .guide.line{opacity:1 !important}#chart-19f0ca70-0a6b-4bdc-a2b1-7dc78a7d7c74 .axis.y .guides:hover .guide.line,#chart-19f0ca70-0a6b-4bdc-a2b1-7dc78a7d7c74 .axis.y2 .guides:hover .guide.line,#chart-19f0ca70-0a6b-4bdc-a2b1-7dc78a7d7c74 .axis.x .guides:hover .guide.line{opacity:1}#chart-19f0ca70-0a6b-4bdc-a2b1-7dc78a7d7c74 .axis .guides:hover text{opacity:1}#chart-19f0ca70-0a6b-4bdc-a2b1-7dc78a7d7c74 .nofill{fill:none}#chart-19f0ca70-0a6b-4bdc-a2b1-7dc78a7d7c74 .subtle-fill{fill-opacity:.2}#chart-19f0ca70-0a6b-4bdc-a2b1-7dc78a7d7c74 .dot{stroke-width:1px;fill-opacity:1}#chart-19f0ca70-0a6b-4bdc-a2b1-7dc78a7d7c74 .dot.active{stroke-width:5px}#chart-19f0ca70-0a6b-4bdc-a2b1-7dc78a7d7c74 .dot.negative{fill:transparent}#chart-19f0ca70-0a6b-4bdc-a2b1-7dc78a7d7c74 text,#chart-19f0ca70-0a6b-4bdc-a2b1-7dc78a7d7c74 tspan{stroke:none !important}#chart-19f0ca70-0a6b-4bdc-a2b1-7dc78a7d7c74 .series text.active{opacity:1}#chart-19f0ca70-0a6b-4bdc-a2b1-7dc78a7d7c74 .tooltip rect{fill-opacity:.95;stroke-width:.5}#chart-19f0ca70-0a6b-4bdc-a2b1-7dc78a7d7c74 .tooltip text{fill-opacity:1}#chart-19f0ca70-0a6b-4bdc-a2b1-7dc78a7d7c74 .showable{visibility:hidden}#chart-19f0ca70-0a6b-4bdc-a2b1-7dc78a7d7c74 .showable.shown{visibility:visible}#chart-19f0ca70-0a6b-4bdc-a2b1-7dc78a7d7c74 .gauge-background{fill:rgba(229,229,229,1);stroke:none}#chart-19f0ca70-0a6b-4bdc-a2b1-7dc78a7d7c74 .bg-lines{stroke:rgba(249,249,249,1);stroke-width:2px}</style><script type=\"text/javascript\">window.pygal = window.pygal || {};window.pygal.config = window.pygal.config || {};window.pygal.config['19f0ca70-0a6b-4bdc-a2b1-7dc78a7d7c74'] = {\"allow_interruptions\": false, \"box_mode\": \"extremes\", \"classes\": [\"pygal-chart\"], \"css\": [\"file://style.css\", \"file://graph.css\"], \"defs\": [], \"disable_xml_declaration\": false, \"dots_size\": 2.5, \"dynamic_print_values\": false, \"explicit_size\": true, \"fill\": false, \"force_uri_protocol\": \"https\", \"formatter\": null, \"half_pie\": false, \"height\": 360, \"include_x_axis\": false, \"inner_radius\": 0, \"interpolate\": null, \"interpolation_parameters\": {}, \"interpolation_precision\": 250, \"inverse_y_axis\": false, \"js\": [\"//kozea.github.io/pygal.js/2.0.x/pygal-tooltips.min.js\"], \"legend_at_bottom\": false, \"legend_at_bottom_columns\": null, \"legend_box_size\": 12, \"logarithmic\": false, \"margin\": 20, \"margin_bottom\": null, \"margin_left\": null, \"margin_right\": null, \"margin_top\": null, \"max_scale\": 16, \"min_scale\": 4, \"missing_value_fill_truncation\": \"x\", \"no_data_text\": \"No data\", \"no_prefix\": false, \"order_min\": null, \"pretty_print\": false, \"print_labels\": false, \"print_values\": false, \"print_values_position\": \"center\", \"print_zeroes\": true, \"range\": null, \"rounded_bars\": null, \"secondary_range\": null, \"show_dots\": true, \"show_legend\": true, \"show_minor_x_labels\": true, \"show_minor_y_labels\": true, \"show_only_major_dots\": false, \"show_x_guides\": false, \"show_x_labels\": true, \"show_y_guides\": true, \"show_y_labels\": true, \"spacing\": 10, \"stack_from_top\": false, \"strict\": false, \"stroke\": true, \"stroke_style\": null, \"style\": {\"background\": \"rgba(249, 249, 249, 1)\", \"ci_colors\": [], \"colors\": [\"#F44336\", \"#3F51B5\", \"#009688\", \"#FFC107\", \"#FF5722\", \"#9C27B0\", \"#03A9F4\", \"#8BC34A\", \"#FF9800\", \"#E91E63\", \"#2196F3\", \"#4CAF50\", \"#FFEB3B\", \"#673AB7\", \"#00BCD4\", \"#CDDC39\", \"#9E9E9E\", \"#607D8B\"], \"font_family\": \"Consolas, \\\"Liberation Mono\\\", Menlo, Courier, monospace\", \"foreground\": \"rgba(0, 0, 0, .87)\", \"foreground_strong\": \"rgba(0, 0, 0, 1)\", \"foreground_subtle\": \"rgba(0, 0, 0, .54)\", \"guide_stroke_dasharray\": \"4,4\", \"label_font_family\": \"Consolas, \\\"Liberation Mono\\\", Menlo, Courier, monospace\", \"label_font_size\": 10, \"legend_font_family\": \"Consolas, \\\"Liberation Mono\\\", Menlo, Courier, monospace\", \"legend_font_size\": 14, \"major_guide_stroke_dasharray\": \"6,6\", \"major_label_font_family\": \"Consolas, \\\"Liberation Mono\\\", Menlo, Courier, monospace\", \"major_label_font_size\": 10, \"no_data_font_family\": \"Consolas, \\\"Liberation Mono\\\", Menlo, Courier, monospace\", \"no_data_font_size\": 64, \"opacity\": \".7\", \"opacity_hover\": \".8\", \"plot_background\": \"rgba(255, 255, 255, 1)\", \"stroke_opacity\": \".8\", \"stroke_opacity_hover\": \".9\", \"title_font_family\": \"Consolas, \\\"Liberation Mono\\\", Menlo, Courier, monospace\", \"title_font_size\": 16, \"tooltip_font_family\": \"Consolas, \\\"Liberation Mono\\\", Menlo, Courier, monospace\", \"tooltip_font_size\": 14, \"transition\": \"150ms\", \"value_background\": \"rgba(229, 229, 229, 1)\", \"value_colors\": [], \"value_font_family\": \"Consolas, \\\"Liberation Mono\\\", Menlo, Courier, monospace\", \"value_font_size\": 16, \"value_label_font_family\": \"Consolas, \\\"Liberation Mono\\\", Menlo, Courier, monospace\", \"value_label_font_size\": 10}, \"title\": \"Cost Of Living Index\", \"tooltip_border_radius\": 0, \"tooltip_fancy_mode\": true, \"truncate_label\": null, \"truncate_legend\": null, \"width\": 640, \"x_label_rotation\": 0, \"x_labels\": [\"COL ex. Rent,\", \"Rent\", \"COL + Rent\", \"Groceries\", \"Restaurants\", \"Local PP\"], \"x_labels_major\": null, \"x_labels_major_count\": null, \"x_labels_major_every\": null, \"x_title\": null, \"xrange\": null, \"y_label_rotation\": 0, \"y_labels\": null, \"y_labels_major\": null, \"y_labels_major_count\": null, \"y_labels_major_every\": null, \"y_title\": null, \"zero\": 0, \"legends\": [\"Tokyo\"]}</script><script type=\"text/javascript\" xlink:href=\"https://kozea.github.io/pygal.js/2.0.x/pygal-tooltips.min.js\"/></defs><title>Cost Of Living Index</title><g class=\"graph radar-graph vertical\"><rect x=\"0\" y=\"0\" width=\"640\" height=\"360\" class=\"background\"/><g transform=\"translate(112, 46)\" class=\"plot\"><rect x=\"0\" y=\"0\" width=\"508.0\" height=\"274\" class=\"background\"/><g class=\"axis y web\"><g class=\"guides\"><path d=\"M254.000000 24.831062 L73.898890 80.915531 73.898890 193.084469 254.000000 249.168938 434.101110 193.084469 434.101110 80.915531 254.000000 24.831062 Z\" class=\"major guide line\"/><text x=\"249.0\" y=\"24.831062117029063\" class=\"major\">100</text><title>100</title></g><g class=\"guides\"><path d=\"M254.000000 47.264850 L109.919112 92.132425 109.919112 181.867575 254.000000 226.735150 398.080888 181.867575 398.080888 92.132425 254.000000 47.264850 Z\" class=\"guide line\"/><text x=\"249.0\" y=\"47.26484969362326\" class=\"\">80</text><title>80</title></g><g class=\"guides\"><path d=\"M254.000000 69.698637 L145.939334 103.349319 145.939334 170.650681 254.000000 204.301363 362.060666 170.650681 362.060666 103.349319 254.000000 69.698637 Z\" class=\"guide line\"/><text x=\"249.0\" y=\"69.69863727021743\" class=\"\">60</text><title>60</title></g><g class=\"guides\"><path d=\"M254.000000 92.132425 L181.959556 114.566212 181.959556 159.433788 254.000000 181.867575 326.040444 159.433788 326.040444 114.566212 254.000000 92.132425 Z\" class=\"guide line\"/><text x=\"249.0\" y=\"92.13242484681163\" class=\"\">40</text><title>40</title></g><g class=\"guides\"><path d=\"M254.000000 114.566212 L217.979778 125.783106 217.979778 148.216894 254.000000 159.433788 290.020222 148.216894 290.020222 125.783106 254.000000 114.566212 Z\" class=\"guide line\"/><text x=\"249.0\" y=\"114.56621242340583\" class=\"\">20</text><title>20</title></g><g class=\"guides\"><path d=\"M254.000000 137.000000 L254.000000 137.000000 254.000000 137.000000 254.000000 137.000000 254.000000 137.000000 254.000000 137.000000 254.000000 137.000000 Z\" class=\"major guide line\"/><text x=\"249.0\" y=\"137.0\" class=\"major\">0</text><title>0</title></g></g><g class=\"axis x web\"><g class=\"guides\"><path d=\"M254.000000 137.000000 L254.000000 10.148148\" class=\"line\"/><text x=\"254.00000000000006\" y=\"2.740000000000009\" class=\"\" transform=\"rotate(0.000000 254.000000 2.740000)\">COL ex. Rent,</text><title>1.570796327</title></g><g class=\"guides\"><path d=\"M254.000000 137.000000 L50.323655 73.574074\" class=\"line\"/><text x=\"38.428956489977566\" y=\"69.86999999999995\" class=\"\" transform=\"rotate(-60.000000 38.428956 69.870000)\">Rent</text><title>2.617993878</title></g><g class=\"guides\"><path d=\"M254.000000 137.000000 L50.323655 200.425926\" class=\"line\"/><text x=\"38.42895648997751\" y=\"204.12999999999997\" class=\"\" transform=\"rotate(-300.000000 38.428956 204.130000)\">COL + Rent</text><title>3.665191429</title></g><g class=\"guides\"><path d=\"M254.000000 137.000000 L254.000000 263.851852\" class=\"line\"/><text x=\"253.99999999999994\" y=\"271.26\" class=\"\" transform=\"rotate(-360.000000 254.000000 271.260000)\">Groceries</text><title>4.71238898</title></g><g class=\"guides\"><path d=\"M254.000000 137.000000 L457.676345 200.425926\" class=\"line\"/><text x=\"469.5710435100224\" y=\"204.13000000000005\" class=\"\" transform=\"rotate(-420.000000 469.571044 204.130000)\">Restaurants</text><title>5.759586532</title></g><g class=\"guides\"><path d=\"M254.000000 137.000000 L457.676345 73.574074\" class=\"line\"/><text x=\"469.57104351002255\" y=\"69.87000000000012\" class=\"\" transform=\"rotate(-300.000000 469.571044 69.870000)\">Local PP</text><title>6.806784083</title></g></g><g class=\"series serie-0 color-0\"><path d=\"M254.000000 41.903174 L188.425186 116.579645 142.535423 171.710678 254.000000 228.664456 351.993014 167.515560 457.676345 73.574074 Z\" class=\"line reactive nofill\"/></g></g><g class=\"titles\"><text x=\"320.0\" y=\"26\" class=\"title plot_title\">Cost Of Living Index</text></g><g transform=\"translate(112, 46)\" class=\"plot overlay\"><g class=\"series serie-0 color-0\"><g class=\"dots\"><circle cx=\"254.0\" cy=\"41.90317446281725\" r=\"2.5\" class=\"dot reactive tooltip-trigger\"/><desc class=\"value\">84.78</desc><desc class=\"x \">254.0</desc><desc class=\"y \">41.90317446281725</desc><desc class=\"x_label\">COL ex. Rent,</desc></g><g class=\"dots\"><circle cx=\"188.4251859568173\" cy=\"116.57964485840512\" r=\"2.5\" class=\"dot reactive tooltip-trigger\"/><desc class=\"value\">36.41</desc><desc class=\"x \">188.4251859568173</desc><desc class=\"y \">116.57964485840512</desc><desc class=\"x_label\">Rent</desc></g><g class=\"dots\"><circle cx=\"142.5354232042686\" cy=\"171.71067782788532\" r=\"2.5\" class=\"dot reactive tooltip-trigger\"/><desc class=\"value\">61.89</desc><desc class=\"x top\">142.5354232042686</desc><desc class=\"y top\">171.71067782788532</desc><desc class=\"x_label\">COL + Rent</desc></g><g class=\"dots\"><circle cx=\"253.99999999999997\" cy=\"228.66445603796387\" r=\"2.5\" class=\"dot reactive tooltip-trigger\"/><desc class=\"value\">81.72</desc><desc class=\"x top\">253.99999999999997</desc><desc class=\"y top\">228.66445603796387</desc><desc class=\"x_label\">Groceries</desc></g><g class=\"dots\"><circle cx=\"351.9930137898811\" cy=\"167.51555955106227\" r=\"2.5\" class=\"dot reactive tooltip-trigger\"/><desc class=\"value\">54.41</desc><desc class=\"x left top\">351.9930137898811</desc><desc class=\"y left top\">167.51555955106227</desc><desc class=\"x_label\">Restaurants</desc></g><g class=\"dots\"><circle cx=\"457.6763449641181\" cy=\"73.57407407407413\" r=\"2.5\" class=\"dot reactive tooltip-trigger\"/><desc class=\"value\">113.09</desc><desc class=\"x left\">457.6763449641181</desc><desc class=\"y left\">73.57407407407413</desc><desc class=\"x_label\">Local PP</desc></g></g></g><g transform=\"translate(112, 46)\" class=\"plot text-overlay\"><g class=\"series serie-0 color-0\"/></g><g transform=\"translate(112, 46)\" class=\"plot tooltip-overlay\"><g transform=\"translate(0 0)\" style=\"opacity: 0\" class=\"tooltip\"><rect rx=\"0\" ry=\"0\" width=\"0\" height=\"0\" class=\"tooltip-box\"/><g class=\"text\"/></g></g><g transform=\"translate(10, 56)\" class=\"legends\"><g id=\"activate-serie-0\" class=\"legend reactive activate-serie\"><rect x=\"0.0\" y=\"1.0\" width=\"12\" height=\"12\" class=\"color-0 reactive\"/><text x=\"17.0\" y=\"11.2\">Tokyo</text></g></g><g transform=\"translate(630, 56)\" class=\"legends\"/></g></svg>\n",
       "    </figure>\n",
       "  </body>\n",
       "</html>\n"
      ],
      "text/plain": [
       "<IPython.core.display.HTML object>"
      ]
     },
     "metadata": {},
     "output_type": "display_data"
    }
   ],
   "source": [
    "radar_chart.add('Tokyo',\n",
    "                tokyo_list)\n",
    "\n",
    "display_chart(radar_chart)"
   ]
  },
  {
   "cell_type": "code",
   "execution_count": 22,
   "metadata": {},
   "outputs": [
    {
     "data": {
      "text/plain": [
       "[41.76, 13.17, 28.23, 36.97, 35.98, 30.62]"
      ]
     },
     "execution_count": 22,
     "metadata": {},
     "output_type": "execute_result"
    }
   ],
   "source": [
    "nairobi_df = data[data['City'] == 'Nairobi, Kenya'].drop('City', axis =1)\n",
    "\n",
    "nairobi_list = nairobi_df.values.flatten().tolist()\n",
    "\n",
    "nairobi_list"
   ]
  },
  {
   "cell_type": "code",
   "execution_count": 23,
   "metadata": {},
   "outputs": [],
   "source": [
    "from pygal.style import SolidColorStyle"
   ]
  },
  {
   "cell_type": "code",
   "execution_count": 28,
   "metadata": {},
   "outputs": [],
   "source": [
    "radar_chart = pygal.Radar(width = 640,\n",
    "                          height = 360,\n",
    "                          explicit_size = True, \n",
    "                          style = SolidColorStyle)\n",
    "\n",
    "radar_chart.title = 'Cost Of Living Index'\n",
    "\n",
    "radar_chart.x_labels = nairobi_df.columns"
   ]
  },
  {
   "cell_type": "code",
   "execution_count": 29,
   "metadata": {},
   "outputs": [
    {
     "data": {
      "text/html": [
       "\n",
       "<!DOCTYPE html>\n",
       "<html>\n",
       "  <head>\n",
       "  <script type=\"text/javascript\" \n",
       "          src=\"http://kozea.github.com/pygal.js/javascripts/svg.jquery.js\">\n",
       "  </script>\n",
       "  <script type=\"text/javascript\" \n",
       "          src=\"https://kozea.github.io/pygal.js/2.0.x/pygal-tooltips.min.js\"\">\n",
       "  </script>\n",
       "  </head>\n",
       "  <body>\n",
       "    <figure>\n",
       "      <?xml version='1.0' encoding='utf-8'?>\n",
       "<svg xmlns=\"http://www.w3.org/2000/svg\" xmlns:xlink=\"http://www.w3.org/1999/xlink\" id=\"chart-a0d06dde-b889-4feb-9f07-87b7a4ad603d\" class=\"pygal-chart\" viewBox=\"0 0 640 360\" width=\"640\" height=\"360\"><!--Generated with pygal 2.4.0 (lxml) ©Kozea 2012-2016 on 2020-05-09--><!--http://pygal.org--><!--http://github.com/Kozea/pygal--><defs><style type=\"text/css\">#chart-a0d06dde-b889-4feb-9f07-87b7a4ad603d{-webkit-user-select:none;-webkit-font-smoothing:antialiased;font-family:Consolas,\"Liberation Mono\",Menlo,Courier,monospace}#chart-a0d06dde-b889-4feb-9f07-87b7a4ad603d .title{font-family:Consolas,\"Liberation Mono\",Menlo,Courier,monospace;font-size:16px}#chart-a0d06dde-b889-4feb-9f07-87b7a4ad603d .legends .legend text{font-family:Consolas,\"Liberation Mono\",Menlo,Courier,monospace;font-size:14px}#chart-a0d06dde-b889-4feb-9f07-87b7a4ad603d .axis text{font-family:Consolas,\"Liberation Mono\",Menlo,Courier,monospace;font-size:10px}#chart-a0d06dde-b889-4feb-9f07-87b7a4ad603d .axis text.major{font-family:Consolas,\"Liberation Mono\",Menlo,Courier,monospace;font-size:10px}#chart-a0d06dde-b889-4feb-9f07-87b7a4ad603d .text-overlay text.value{font-family:Consolas,\"Liberation Mono\",Menlo,Courier,monospace;font-size:16px}#chart-a0d06dde-b889-4feb-9f07-87b7a4ad603d .text-overlay text.label{font-family:Consolas,\"Liberation Mono\",Menlo,Courier,monospace;font-size:10px}#chart-a0d06dde-b889-4feb-9f07-87b7a4ad603d .tooltip{font-family:Consolas,\"Liberation Mono\",Menlo,Courier,monospace;font-size:14px}#chart-a0d06dde-b889-4feb-9f07-87b7a4ad603d text.no_data{font-family:Consolas,\"Liberation Mono\",Menlo,Courier,monospace;font-size:64px}\n",
       "#chart-a0d06dde-b889-4feb-9f07-87b7a4ad603d{background-color:#FFFFFF}#chart-a0d06dde-b889-4feb-9f07-87b7a4ad603d path,#chart-a0d06dde-b889-4feb-9f07-87b7a4ad603d line,#chart-a0d06dde-b889-4feb-9f07-87b7a4ad603d rect,#chart-a0d06dde-b889-4feb-9f07-87b7a4ad603d circle{-webkit-transition:400ms ease-in;-moz-transition:400ms ease-in;transition:400ms ease-in}#chart-a0d06dde-b889-4feb-9f07-87b7a4ad603d .graph &gt; .background{fill:#FFFFFF}#chart-a0d06dde-b889-4feb-9f07-87b7a4ad603d .plot &gt; .background{fill:#FFFFFF}#chart-a0d06dde-b889-4feb-9f07-87b7a4ad603d .graph{fill:#000000}#chart-a0d06dde-b889-4feb-9f07-87b7a4ad603d text.no_data{fill:#000000}#chart-a0d06dde-b889-4feb-9f07-87b7a4ad603d .title{fill:#000000}#chart-a0d06dde-b889-4feb-9f07-87b7a4ad603d .legends .legend text{fill:#000000}#chart-a0d06dde-b889-4feb-9f07-87b7a4ad603d .legends .legend:hover text{fill:#000000}#chart-a0d06dde-b889-4feb-9f07-87b7a4ad603d .axis .line{stroke:#000000}#chart-a0d06dde-b889-4feb-9f07-87b7a4ad603d .axis .guide.line{stroke:#828282}#chart-a0d06dde-b889-4feb-9f07-87b7a4ad603d .axis .major.line{stroke:#000000}#chart-a0d06dde-b889-4feb-9f07-87b7a4ad603d .axis text.major{fill:#000000}#chart-a0d06dde-b889-4feb-9f07-87b7a4ad603d .axis.y .guides:hover .guide.line,#chart-a0d06dde-b889-4feb-9f07-87b7a4ad603d .line-graph .axis.x .guides:hover .guide.line,#chart-a0d06dde-b889-4feb-9f07-87b7a4ad603d .stackedline-graph .axis.x .guides:hover .guide.line,#chart-a0d06dde-b889-4feb-9f07-87b7a4ad603d .xy-graph .axis.x .guides:hover .guide.line{stroke:#000000}#chart-a0d06dde-b889-4feb-9f07-87b7a4ad603d .axis .guides:hover text{fill:#000000}#chart-a0d06dde-b889-4feb-9f07-87b7a4ad603d .reactive{fill-opacity:.8;stroke-opacity:.8}#chart-a0d06dde-b889-4feb-9f07-87b7a4ad603d .ci{stroke:#000000}#chart-a0d06dde-b889-4feb-9f07-87b7a4ad603d .reactive.active,#chart-a0d06dde-b889-4feb-9f07-87b7a4ad603d .active .reactive{fill-opacity:.9;stroke-opacity:.9;stroke-width:4}#chart-a0d06dde-b889-4feb-9f07-87b7a4ad603d .ci .reactive.active{stroke-width:1.5}#chart-a0d06dde-b889-4feb-9f07-87b7a4ad603d .series text{fill:#000000}#chart-a0d06dde-b889-4feb-9f07-87b7a4ad603d .tooltip rect{fill:#FFFFFF;stroke:#000000;-webkit-transition:opacity 400ms ease-in;-moz-transition:opacity 400ms ease-in;transition:opacity 400ms ease-in}#chart-a0d06dde-b889-4feb-9f07-87b7a4ad603d .tooltip .label{fill:#000000}#chart-a0d06dde-b889-4feb-9f07-87b7a4ad603d .tooltip .label{fill:#000000}#chart-a0d06dde-b889-4feb-9f07-87b7a4ad603d .tooltip .legend{font-size:.8em;fill:#828282}#chart-a0d06dde-b889-4feb-9f07-87b7a4ad603d .tooltip .x_label{font-size:.6em;fill:#000000}#chart-a0d06dde-b889-4feb-9f07-87b7a4ad603d .tooltip .xlink{font-size:.5em;text-decoration:underline}#chart-a0d06dde-b889-4feb-9f07-87b7a4ad603d .tooltip .value{font-size:1.5em}#chart-a0d06dde-b889-4feb-9f07-87b7a4ad603d .bound{font-size:.5em}#chart-a0d06dde-b889-4feb-9f07-87b7a4ad603d .max-value{font-size:.75em;fill:#828282}#chart-a0d06dde-b889-4feb-9f07-87b7a4ad603d .map-element{fill:#FFFFFF;stroke:#828282 !important}#chart-a0d06dde-b889-4feb-9f07-87b7a4ad603d .map-element .reactive{fill-opacity:inherit;stroke-opacity:inherit}#chart-a0d06dde-b889-4feb-9f07-87b7a4ad603d .color-0,#chart-a0d06dde-b889-4feb-9f07-87b7a4ad603d .color-0 a:visited{stroke:#FF9900;fill:#FF9900}#chart-a0d06dde-b889-4feb-9f07-87b7a4ad603d .color-1,#chart-a0d06dde-b889-4feb-9f07-87b7a4ad603d .color-1 a:visited{stroke:#DC3912;fill:#DC3912}#chart-a0d06dde-b889-4feb-9f07-87b7a4ad603d .color-2,#chart-a0d06dde-b889-4feb-9f07-87b7a4ad603d .color-2 a:visited{stroke:#4674D1;fill:#4674D1}#chart-a0d06dde-b889-4feb-9f07-87b7a4ad603d .text-overlay .color-0 text{fill:black}#chart-a0d06dde-b889-4feb-9f07-87b7a4ad603d .text-overlay .color-1 text{fill:black}#chart-a0d06dde-b889-4feb-9f07-87b7a4ad603d .text-overlay .color-2 text{fill:black}\n",
       "#chart-a0d06dde-b889-4feb-9f07-87b7a4ad603d text.no_data{text-anchor:middle}#chart-a0d06dde-b889-4feb-9f07-87b7a4ad603d .guide.line{fill:none}#chart-a0d06dde-b889-4feb-9f07-87b7a4ad603d .centered{text-anchor:middle}#chart-a0d06dde-b889-4feb-9f07-87b7a4ad603d .title{text-anchor:middle}#chart-a0d06dde-b889-4feb-9f07-87b7a4ad603d .legends .legend text{fill-opacity:1}#chart-a0d06dde-b889-4feb-9f07-87b7a4ad603d .axis.x text{text-anchor:middle}#chart-a0d06dde-b889-4feb-9f07-87b7a4ad603d .axis.x:not(.web) text[transform]{text-anchor:start}#chart-a0d06dde-b889-4feb-9f07-87b7a4ad603d .axis.x:not(.web) text[transform].backwards{text-anchor:end}#chart-a0d06dde-b889-4feb-9f07-87b7a4ad603d .axis.y text{text-anchor:end}#chart-a0d06dde-b889-4feb-9f07-87b7a4ad603d .axis.y text[transform].backwards{text-anchor:start}#chart-a0d06dde-b889-4feb-9f07-87b7a4ad603d .axis.y2 text{text-anchor:start}#chart-a0d06dde-b889-4feb-9f07-87b7a4ad603d .axis.y2 text[transform].backwards{text-anchor:end}#chart-a0d06dde-b889-4feb-9f07-87b7a4ad603d .axis .guide.line{stroke-dasharray:4,4}#chart-a0d06dde-b889-4feb-9f07-87b7a4ad603d .axis .major.guide.line{stroke-dasharray:6,6}#chart-a0d06dde-b889-4feb-9f07-87b7a4ad603d .horizontal .axis.y .guide.line,#chart-a0d06dde-b889-4feb-9f07-87b7a4ad603d .horizontal .axis.y2 .guide.line,#chart-a0d06dde-b889-4feb-9f07-87b7a4ad603d .vertical .axis.x .guide.line{opacity:0}#chart-a0d06dde-b889-4feb-9f07-87b7a4ad603d .horizontal .axis.always_show .guide.line,#chart-a0d06dde-b889-4feb-9f07-87b7a4ad603d .vertical .axis.always_show .guide.line{opacity:1 !important}#chart-a0d06dde-b889-4feb-9f07-87b7a4ad603d .axis.y .guides:hover .guide.line,#chart-a0d06dde-b889-4feb-9f07-87b7a4ad603d .axis.y2 .guides:hover .guide.line,#chart-a0d06dde-b889-4feb-9f07-87b7a4ad603d .axis.x .guides:hover .guide.line{opacity:1}#chart-a0d06dde-b889-4feb-9f07-87b7a4ad603d .axis .guides:hover text{opacity:1}#chart-a0d06dde-b889-4feb-9f07-87b7a4ad603d .nofill{fill:none}#chart-a0d06dde-b889-4feb-9f07-87b7a4ad603d .subtle-fill{fill-opacity:.2}#chart-a0d06dde-b889-4feb-9f07-87b7a4ad603d .dot{stroke-width:1px;fill-opacity:1}#chart-a0d06dde-b889-4feb-9f07-87b7a4ad603d .dot.active{stroke-width:5px}#chart-a0d06dde-b889-4feb-9f07-87b7a4ad603d .dot.negative{fill:transparent}#chart-a0d06dde-b889-4feb-9f07-87b7a4ad603d text,#chart-a0d06dde-b889-4feb-9f07-87b7a4ad603d tspan{stroke:none !important}#chart-a0d06dde-b889-4feb-9f07-87b7a4ad603d .series text.active{opacity:1}#chart-a0d06dde-b889-4feb-9f07-87b7a4ad603d .tooltip rect{fill-opacity:.95;stroke-width:.5}#chart-a0d06dde-b889-4feb-9f07-87b7a4ad603d .tooltip text{fill-opacity:1}#chart-a0d06dde-b889-4feb-9f07-87b7a4ad603d .showable{visibility:hidden}#chart-a0d06dde-b889-4feb-9f07-87b7a4ad603d .showable.shown{visibility:visible}#chart-a0d06dde-b889-4feb-9f07-87b7a4ad603d .gauge-background{fill:rgba(229,229,229,1);stroke:none}#chart-a0d06dde-b889-4feb-9f07-87b7a4ad603d .bg-lines{stroke:#FFFFFF;stroke-width:2px}</style><script type=\"text/javascript\">window.pygal = window.pygal || {};window.pygal.config = window.pygal.config || {};window.pygal.config['a0d06dde-b889-4feb-9f07-87b7a4ad603d'] = {\"allow_interruptions\": false, \"box_mode\": \"extremes\", \"classes\": [\"pygal-chart\"], \"css\": [\"file://style.css\", \"file://graph.css\"], \"defs\": [], \"disable_xml_declaration\": false, \"dots_size\": 2.5, \"dynamic_print_values\": false, \"explicit_size\": true, \"fill\": false, \"force_uri_protocol\": \"https\", \"formatter\": null, \"half_pie\": false, \"height\": 360, \"include_x_axis\": false, \"inner_radius\": 0, \"interpolate\": null, \"interpolation_parameters\": {}, \"interpolation_precision\": 250, \"inverse_y_axis\": false, \"js\": [\"//kozea.github.io/pygal.js/2.0.x/pygal-tooltips.min.js\"], \"legend_at_bottom\": false, \"legend_at_bottom_columns\": null, \"legend_box_size\": 12, \"logarithmic\": false, \"margin\": 20, \"margin_bottom\": null, \"margin_left\": null, \"margin_right\": null, \"margin_top\": null, \"max_scale\": 16, \"min_scale\": 4, \"missing_value_fill_truncation\": \"x\", \"no_data_text\": \"No data\", \"no_prefix\": false, \"order_min\": null, \"pretty_print\": false, \"print_labels\": false, \"print_values\": false, \"print_values_position\": \"center\", \"print_zeroes\": true, \"range\": null, \"rounded_bars\": null, \"secondary_range\": null, \"show_dots\": true, \"show_legend\": true, \"show_minor_x_labels\": true, \"show_minor_y_labels\": true, \"show_only_major_dots\": false, \"show_x_guides\": false, \"show_x_labels\": true, \"show_y_guides\": true, \"show_y_labels\": true, \"spacing\": 10, \"stack_from_top\": false, \"strict\": false, \"stroke\": true, \"stroke_style\": null, \"style\": {\"background\": \"#FFFFFF\", \"ci_colors\": [], \"colors\": [\"#FF9900\", \"#DC3912\", \"#4674D1\", \"#109618\", \"#990099\", \"#0099C6\", \"#DD4477\", \"#74B217\", \"#B82E2E\", \"#316395\", \"#994499\"], \"font_family\": \"Consolas, \\\"Liberation Mono\\\", Menlo, Courier, monospace\", \"foreground\": \"#000000\", \"foreground_strong\": \"#000000\", \"foreground_subtle\": \"#828282\", \"guide_stroke_dasharray\": \"4,4\", \"label_font_family\": \"Consolas, \\\"Liberation Mono\\\", Menlo, Courier, monospace\", \"label_font_size\": 10, \"legend_font_family\": \"Consolas, \\\"Liberation Mono\\\", Menlo, Courier, monospace\", \"legend_font_size\": 14, \"major_guide_stroke_dasharray\": \"6,6\", \"major_label_font_family\": \"Consolas, \\\"Liberation Mono\\\", Menlo, Courier, monospace\", \"major_label_font_size\": 10, \"no_data_font_family\": \"Consolas, \\\"Liberation Mono\\\", Menlo, Courier, monospace\", \"no_data_font_size\": 64, \"opacity\": \".8\", \"opacity_hover\": \".9\", \"plot_background\": \"#FFFFFF\", \"stroke_opacity\": \".8\", \"stroke_opacity_hover\": \".9\", \"title_font_family\": \"Consolas, \\\"Liberation Mono\\\", Menlo, Courier, monospace\", \"title_font_size\": 16, \"tooltip_font_family\": \"Consolas, \\\"Liberation Mono\\\", Menlo, Courier, monospace\", \"tooltip_font_size\": 14, \"transition\": \"400ms ease-in\", \"value_background\": \"rgba(229, 229, 229, 1)\", \"value_colors\": [], \"value_font_family\": \"Consolas, \\\"Liberation Mono\\\", Menlo, Courier, monospace\", \"value_font_size\": 16, \"value_label_font_family\": \"Consolas, \\\"Liberation Mono\\\", Menlo, Courier, monospace\", \"value_label_font_size\": 10}, \"title\": \"Cost Of Living Index\", \"tooltip_border_radius\": 0, \"tooltip_fancy_mode\": true, \"truncate_label\": null, \"truncate_legend\": null, \"width\": 640, \"x_label_rotation\": 0, \"x_labels\": [\"COL ex. Rent,\", \"Rent\", \"COL + Rent\", \"Groceries\", \"Restaurants\", \"Local PP\"], \"x_labels_major\": null, \"x_labels_major_count\": null, \"x_labels_major_every\": null, \"x_title\": null, \"xrange\": null, \"y_label_rotation\": 0, \"y_labels\": null, \"y_labels_major\": null, \"y_labels_major_count\": null, \"y_labels_major_every\": null, \"y_title\": null, \"zero\": 0, \"legends\": [\"New York\", \"Tokyo\", \"Nairobi\"]}</script><script type=\"text/javascript\" xlink:href=\"https://kozea.github.io/pygal.js/2.0.x/pygal-tooltips.min.js\"/></defs><title>Cost Of Living Index</title><g class=\"graph radar-graph vertical\"><rect x=\"0\" y=\"0\" width=\"640\" height=\"360\" class=\"background\"/><g transform=\"translate(137, 46)\" class=\"plot\"><rect x=\"0\" y=\"0\" width=\"482.8\" height=\"274\" class=\"background\"/><g class=\"axis y web\"><g class=\"guides\"><path d=\"M241.400000 24.831062 L70.233040 80.915531 70.233040 193.084469 241.400000 249.168938 412.566960 193.084469 412.566960 80.915531 241.400000 24.831062 Z\" class=\"major guide line\"/><text x=\"236.4\" y=\"24.831062117029063\" class=\"major\">100</text><title>100</title></g><g class=\"guides\"><path d=\"M241.400000 47.264850 L104.466432 92.132425 104.466432 181.867575 241.400000 226.735150 378.333568 181.867575 378.333568 92.132425 241.400000 47.264850 Z\" class=\"guide line\"/><text x=\"236.4\" y=\"47.26484969362326\" class=\"\">80</text><title>80</title></g><g class=\"guides\"><path d=\"M241.400000 69.698637 L138.699824 103.349319 138.699824 170.650681 241.400000 204.301363 344.100176 170.650681 344.100176 103.349319 241.400000 69.698637 Z\" class=\"guide line\"/><text x=\"236.4\" y=\"69.69863727021743\" class=\"\">60</text><title>60</title></g><g class=\"guides\"><path d=\"M241.400000 92.132425 L172.933216 114.566212 172.933216 159.433788 241.400000 181.867575 309.866784 159.433788 309.866784 114.566212 241.400000 92.132425 Z\" class=\"guide line\"/><text x=\"236.4\" y=\"92.13242484681163\" class=\"\">40</text><title>40</title></g><g class=\"guides\"><path d=\"M241.400000 114.566212 L207.166608 125.783106 207.166608 148.216894 241.400000 159.433788 275.633392 148.216894 275.633392 125.783106 241.400000 114.566212 Z\" class=\"guide line\"/><text x=\"236.4\" y=\"114.56621242340583\" class=\"\">20</text><title>20</title></g><g class=\"guides\"><path d=\"M241.400000 137.000000 L241.400000 137.000000 241.400000 137.000000 241.400000 137.000000 241.400000 137.000000 241.400000 137.000000 241.400000 137.000000 Z\" class=\"major guide line\"/><text x=\"236.4\" y=\"137.0\" class=\"major\">0</text><title>0</title></g></g><g class=\"axis x web\"><g class=\"guides\"><path d=\"M241.400000 137.000000 L241.400000 10.148148\" class=\"line\"/><text x=\"241.40000000000003\" y=\"2.740000000000009\" class=\"\" transform=\"rotate(0.000000 241.400000 2.740000)\">COL ex. Rent,</text><title>1.570796327</title></g><g class=\"guides\"><path d=\"M241.400000 137.000000 L47.827285 73.574074\" class=\"line\"/><text x=\"36.522638175907815\" y=\"69.86999999999995\" class=\"\" transform=\"rotate(-60.000000 36.522638 69.870000)\">Rent</text><title>2.617993878</title></g><g class=\"guides\"><path d=\"M241.400000 137.000000 L47.827285 200.425926\" class=\"line\"/><text x=\"36.52263817590776\" y=\"204.12999999999997\" class=\"\" transform=\"rotate(-300.000000 36.522638 204.130000)\">COL + Rent</text><title>3.665191429</title></g><g class=\"guides\"><path d=\"M241.400000 137.000000 L241.400000 263.851852\" class=\"line\"/><text x=\"241.39999999999995\" y=\"271.26\" class=\"\" transform=\"rotate(-360.000000 241.400000 271.260000)\">Groceries</text><title>4.71238898</title></g><g class=\"guides\"><path d=\"M241.400000 137.000000 L434.972715 200.425926\" class=\"line\"/><text x=\"446.27736182409217\" y=\"204.13000000000005\" class=\"\" transform=\"rotate(-420.000000 446.277362 204.130000)\">Restaurants</text><title>5.759586532</title></g><g class=\"guides\"><path d=\"M241.400000 137.000000 L434.972715 73.574074\" class=\"line\"/><text x=\"446.27736182409234\" y=\"69.87000000000012\" class=\"\" transform=\"rotate(-300.000000 446.277362 69.870000)\">Local PP</text><title>6.806784083</title></g></g><g class=\"series serie-0 color-0\"><path d=\"M241.400000 24.831062 L70.233040 80.915531 70.233040 193.084469 241.400000 249.168938 412.566960 193.084469 412.566960 80.915531 Z\" class=\"line reactive nofill\"/></g><g class=\"series serie-1 color-1\"><path d=\"M241.400000 41.903174 L179.078110 116.579645 135.464768 171.710678 241.400000 228.664456 334.531943 167.515560 434.972715 73.574074 Z\" class=\"line reactive nofill\"/></g><g class=\"series serie-2 color-2\"><path d=\"M241.400000 90.158252 L218.857311 129.613675 193.079567 152.832646 241.400000 178.468856 302.985872 157.179192 293.811323 119.826936 Z\" class=\"line reactive nofill\"/></g></g><g class=\"titles\"><text x=\"320.0\" y=\"26\" class=\"title plot_title\">Cost Of Living Index</text></g><g transform=\"translate(137, 46)\" class=\"plot overlay\"><g class=\"series serie-0 color-0\"><g class=\"dots\"><circle cx=\"241.4\" cy=\"24.831062117029063\" r=\"2.5\" class=\"dot reactive tooltip-trigger\"/><desc class=\"value\">100</desc><desc class=\"x \">241.4</desc><desc class=\"y \">24.831062117029063</desc><desc class=\"x_label\">COL ex. Rent,</desc></g><g class=\"dots\"><circle cx=\"70.23303983261165\" cy=\"80.91553105851449\" r=\"2.5\" class=\"dot reactive tooltip-trigger\"/><desc class=\"value\">100</desc><desc class=\"x \">70.23303983261165</desc><desc class=\"y \">80.91553105851449</desc><desc class=\"x_label\">Rent</desc></g><g class=\"dots\"><circle cx=\"70.2330398326116\" cy=\"193.08446894148545\" r=\"2.5\" class=\"dot reactive tooltip-trigger\"/><desc class=\"value\">100</desc><desc class=\"x top\">70.2330398326116</desc><desc class=\"y top\">193.08446894148545</desc><desc class=\"x_label\">COL + Rent</desc></g><g class=\"dots\"><circle cx=\"241.39999999999998\" cy=\"249.16893788297094\" r=\"2.5\" class=\"dot reactive tooltip-trigger\"/><desc class=\"value\">100</desc><desc class=\"x top\">241.39999999999998</desc><desc class=\"y top\">249.16893788297094</desc><desc class=\"x_label\">Groceries</desc></g><g class=\"dots\"><circle cx=\"412.56696016738834\" cy=\"193.0844689414855\" r=\"2.5\" class=\"dot reactive tooltip-trigger\"/><desc class=\"value\">100</desc><desc class=\"x left top\">412.56696016738834</desc><desc class=\"y left top\">193.0844689414855</desc><desc class=\"x_label\">Restaurants</desc></g><g class=\"dots\"><circle cx=\"412.5669601673885\" cy=\"80.9155310585146\" r=\"2.5\" class=\"dot reactive tooltip-trigger\"/><desc class=\"value\">100</desc><desc class=\"x left\">412.5669601673885</desc><desc class=\"y left\">80.9155310585146</desc><desc class=\"x_label\">Local PP</desc></g></g><g class=\"series serie-1 color-1\"><g class=\"dots\"><circle cx=\"241.4\" cy=\"41.90317446281725\" r=\"2.5\" class=\"dot reactive tooltip-trigger\"/><desc class=\"value\">84.78</desc><desc class=\"x \">241.4</desc><desc class=\"y \">41.90317446281725</desc><desc class=\"x_label\">COL ex. Rent,</desc></g><g class=\"dots\"><circle cx=\"179.0781098030539\" cy=\"116.57964485840512\" r=\"2.5\" class=\"dot reactive tooltip-trigger\"/><desc class=\"value\">36.41</desc><desc class=\"x \">179.0781098030539</desc><desc class=\"y \">116.57964485840512</desc><desc class=\"x_label\">Rent</desc></g><g class=\"dots\"><circle cx=\"135.46476835240333\" cy=\"171.71067782788532\" r=\"2.5\" class=\"dot reactive tooltip-trigger\"/><desc class=\"value\">61.89</desc><desc class=\"x top\">135.46476835240333</desc><desc class=\"y top\">171.71067782788532</desc><desc class=\"x_label\">COL + Rent</desc></g><g class=\"dots\"><circle cx=\"241.39999999999998\" cy=\"228.66445603796387\" r=\"2.5\" class=\"dot reactive tooltip-trigger\"/><desc class=\"value\">81.72</desc><desc class=\"x top\">241.39999999999998</desc><desc class=\"y top\">228.66445603796387</desc><desc class=\"x_label\">Groceries</desc></g><g class=\"dots\"><circle cx=\"334.531943027076\" cy=\"167.51555955106227\" r=\"2.5\" class=\"dot reactive tooltip-trigger\"/><desc class=\"value\">54.41</desc><desc class=\"x left top\">334.531943027076</desc><desc class=\"y left top\">167.51555955106227</desc><desc class=\"x_label\">Restaurants</desc></g><g class=\"dots\"><circle cx=\"434.9727152532996\" cy=\"73.57407407407413\" r=\"2.5\" class=\"dot reactive tooltip-trigger\"/><desc class=\"value\">113.09</desc><desc class=\"x left\">434.9727152532996</desc><desc class=\"y left\">73.57407407407413</desc><desc class=\"x_label\">Local PP</desc></g></g><g class=\"series serie-2 color-2\"><g class=\"dots\"><circle cx=\"241.4\" cy=\"90.15825154007135\" r=\"2.5\" class=\"dot reactive tooltip-trigger\"/><desc class=\"value\">41.76</desc><desc class=\"x \">241.4</desc><desc class=\"y \">90.15825154007135</desc><desc class=\"x_label\">COL ex. Rent,</desc></g><g class=\"dots\"><circle cx=\"218.85731134595497\" cy=\"129.61367544040635\" r=\"2.5\" class=\"dot reactive tooltip-trigger\"/><desc class=\"value\">13.17</desc><desc class=\"x \">218.85731134595497</desc><desc class=\"y \">129.61367544040635</desc><desc class=\"x_label\">Rent</desc></g><g class=\"dots\"><circle cx=\"193.07956714474625\" cy=\"152.83264558218133\" r=\"2.5\" class=\"dot reactive tooltip-trigger\"/><desc class=\"value\">28.23</desc><desc class=\"x top\">193.07956714474625</desc><desc class=\"y top\">152.83264558218133</desc><desc class=\"x_label\">COL + Rent</desc></g><g class=\"dots\"><circle cx=\"241.4\" cy=\"178.46885633533435\" r=\"2.5\" class=\"dot reactive tooltip-trigger\"/><desc class=\"value\">36.97</desc><desc class=\"x top\">241.4</desc><desc class=\"y top\">178.46885633533435</desc><desc class=\"x_label\">Groceries</desc></g><g class=\"dots\"><circle cx=\"302.98587226822633\" cy=\"157.17919192514648\" r=\"2.5\" class=\"dot reactive tooltip-trigger\"/><desc class=\"value\">35.98</desc><desc class=\"x left top\">302.98587226822633</desc><desc class=\"y left top\">157.17919192514648</desc><desc class=\"x_label\">Restaurants</desc></g><g class=\"dots\"><circle cx=\"293.8113232032544\" cy=\"119.82693561011718\" r=\"2.5\" class=\"dot reactive tooltip-trigger\"/><desc class=\"value\">30.62</desc><desc class=\"x left\">293.8113232032544</desc><desc class=\"y left\">119.82693561011718</desc><desc class=\"x_label\">Local PP</desc></g></g></g><g transform=\"translate(137, 46)\" class=\"plot text-overlay\"><g class=\"series serie-0 color-0\"/><g class=\"series serie-1 color-1\"/><g class=\"series serie-2 color-2\"/></g><g transform=\"translate(137, 46)\" class=\"plot tooltip-overlay\"><g transform=\"translate(0 0)\" style=\"opacity: 0\" class=\"tooltip\"><rect rx=\"0\" ry=\"0\" width=\"0\" height=\"0\" class=\"tooltip-box\"/><g class=\"text\"/></g></g><g transform=\"translate(10, 56)\" class=\"legends\"><g id=\"activate-serie-0\" class=\"legend reactive activate-serie\"><rect x=\"0.0\" y=\"1.0\" width=\"12\" height=\"12\" class=\"color-0 reactive\"/><text x=\"17.0\" y=\"11.2\">New York</text></g><g id=\"activate-serie-1\" class=\"legend reactive activate-serie\"><rect x=\"0.0\" y=\"22.0\" width=\"12\" height=\"12\" class=\"color-1 reactive\"/><text x=\"17.0\" y=\"32.2\">Tokyo</text></g><g id=\"activate-serie-2\" class=\"legend reactive activate-serie\"><rect x=\"0.0\" y=\"43.0\" width=\"12\" height=\"12\" class=\"color-2 reactive\"/><text x=\"17.0\" y=\"53.2\">Nairobi</text></g></g><g transform=\"translate(630, 56)\" class=\"legends\"/></g></svg>\n",
       "    </figure>\n",
       "  </body>\n",
       "</html>\n"
      ],
      "text/plain": [
       "<IPython.core.display.HTML object>"
      ]
     },
     "metadata": {},
     "output_type": "display_data"
    }
   ],
   "source": [
    "radar_chart.add('New York',\n",
    "                new_york_list)\n",
    "radar_chart.add('Tokyo',\n",
    "                tokyo_list)\n",
    "radar_chart.add('Nairobi',\n",
    "                nairobi_list)\n",
    "\n",
    "display_chart(radar_chart)"
   ]
  },
  {
   "cell_type": "code",
   "execution_count": null,
   "metadata": {},
   "outputs": [],
   "source": []
  },
  {
   "cell_type": "code",
   "execution_count": null,
   "metadata": {},
   "outputs": [],
   "source": []
  },
  {
   "cell_type": "code",
   "execution_count": null,
   "metadata": {},
   "outputs": [],
   "source": []
  },
  {
   "cell_type": "code",
   "execution_count": null,
   "metadata": {},
   "outputs": [],
   "source": []
  },
  {
   "cell_type": "code",
   "execution_count": null,
   "metadata": {},
   "outputs": [],
   "source": []
  },
  {
   "cell_type": "code",
   "execution_count": null,
   "metadata": {},
   "outputs": [],
   "source": []
  }
 ],
 "metadata": {
  "kernelspec": {
   "display_name": "Python 3",
   "language": "python",
   "name": "python3"
  },
  "language_info": {
   "codemirror_mode": {
    "name": "ipython",
    "version": 3
   },
   "file_extension": ".py",
   "mimetype": "text/x-python",
   "name": "python",
   "nbconvert_exporter": "python",
   "pygments_lexer": "ipython3",
   "version": "3.7.7"
  }
 },
 "nbformat": 4,
 "nbformat_minor": 4
}
